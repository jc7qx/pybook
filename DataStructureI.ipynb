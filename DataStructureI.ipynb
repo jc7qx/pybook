{
 "cells": [
  {
   "cell_type": "markdown",
   "metadata": {
    "slideshow": {
     "slide_type": "slide"
    }
   },
   "source": [
    "<center> <H1>第五章 資料結構-串列與字串</H1> </center>"
   ]
  },
  {
   "cell_type": "markdown",
   "metadata": {},
   "source": [
    "## 5.1 串列(List)\n",
    "\n",
    "串列(List)如同Java中的陣列，將同質性的資料元素儲存在連續鄰近的記憶體中，根據陣列的排列，資料可以很快地找出。Python程式語言的串列也是如此，然而不同的事，串列允許儲存異質資料元素，亦即不同類型的資料。\n",
    "\n",
    "* Java的陣列(Array)定義，int array[5] = {1, 2, 3, 4, 5};\n",
    "* Python的串列(List)定義，x = [1, 2, 3.2, 4.3, \"Hello\"]\n"
   ]
  },
  {
   "cell_type": "code",
   "execution_count": 5,
   "metadata": {},
   "outputs": [
    {
     "name": "stdout",
     "output_type": "stream",
     "text": [
      "[1, 2, 3.2, 4.3, True, (3+2j), 'Hello'] <class 'list'>\n"
     ]
    }
   ],
   "source": [
    "x = [1, 2, 3.2, 4.3,True, 3+2j, \"Hello\"]\n",
    "print(x, type(x))"
   ]
  },
  {
   "cell_type": "markdown",
   "metadata": {},
   "source": [
    "x是一個串列，包含7個元素，其中有整數、浮點數、布林數、複數、及字串。x是一個list。"
   ]
  },
  {
   "cell_type": "markdown",
   "metadata": {},
   "source": [
    "### 建立串列\n",
    "\n",
    "串列是以`[ ]`來定義元素，`x = []`建立一個空串列(empty list)。`y = [1, 2, 3]`建立一個3個整數元素的串列。`z = [1, 2.3, \"Good Boy\"]`建立一個3個元素的複合型態串列。串列中的元素根據位置有一個索引值(index)，例如，y 串列中，1 的索引值為0，2 的索引值為1，3 的索引值為2。第一個元素的索引值為0，以此類推。"
   ]
  },
  {
   "cell_type": "markdown",
   "metadata": {},
   "source": [
    "### 元素索引\n",
    "\n",
    "根據串列元素的索引值，可以快速定位元素。例如，`y[2]`為3，`z[1]`為2.3。"
   ]
  },
  {
   "cell_type": "code",
   "execution_count": null,
   "metadata": {
    "collapsed": true
   },
   "outputs": [],
   "source": [
    "x = ['h','e','l','l','o','w','o','r','l','d']\n",
    "print(x[2])  # 答案為 l\n",
    "print(x[5])  # 答案為 w\n",
    "print(x[-1]) # 答案為 d"
   ]
  },
  {
   "cell_type": "markdown",
   "metadata": {},
   "source": [
    "根據串列長度，利用for迴圈可以將每一個元素印出。"
   ]
  },
  {
   "cell_type": "code",
   "execution_count": 10,
   "metadata": {},
   "outputs": [
    {
     "name": "stdout",
     "output_type": "stream",
     "text": [
      "helloworld"
     ]
    }
   ],
   "source": [
    "for i in range(10):\n",
    "    print(x[i], end=\"\")"
   ]
  },
  {
   "cell_type": "markdown",
   "metadata": {},
   "source": [
    "### 切割串列\n",
    "\n",
    "切割串列(list slicing)可以獲得串列的一部份(子集合)。例如`x[:]`表示串列全部，`x[2:5]`表示擷取出串列位置2到4的元素。`x[:-5]`表示擷取出串列位置0至倒數第5位置的前一筆資料。"
   ]
  },
  {
   "cell_type": "code",
   "execution_count": 11,
   "metadata": {},
   "outputs": [
    {
     "name": "stdout",
     "output_type": "stream",
     "text": [
      "['h', 'e', 'l', 'l', 'o', 'w', 'o', 'r', 'l', 'd']\n",
      "['l', 'l', 'o']\n",
      "['h', 'e', 'l', 'l', 'o']\n"
     ]
    }
   ],
   "source": [
    "print(x[:])\n",
    "print(x[2:5])\n",
    "print(x[:-5])"
   ]
  },
  {
   "cell_type": "markdown",
   "metadata": {},
   "source": [
    "### 新增串列\n",
    "\n",
    "串列方法 append() 可以在串列尾端新增元素，例如`x.append('!')`，串列方法 extend() 可以在串列尾端結合一個串列，例如，`x.extend(['a','l','l'])`。「＋」運算子可以結合二個串列。"
   ]
  },
  {
   "cell_type": "code",
   "execution_count": 13,
   "metadata": {},
   "outputs": [
    {
     "name": "stdout",
     "output_type": "stream",
     "text": [
      "['h', 'e', 'l', 'l', 'o', 'w', 'o', 'r', 'l', 'd', '!', 'a', 'l', 'l', '!']\n",
      "['h', 'e', 'l', 'l', 'o', 'w', 'o', 'r', 'l', 'd', '!', 'a', 'l', 'l', '!', 'a', 'l', 'l']\n",
      "[1, 2, 3, 4, 5, 6]\n"
     ]
    }
   ],
   "source": [
    "x.append('!')\n",
    "print(x)\n",
    "x.extend(['a','l','l'])\n",
    "print(x)\n",
    "print([1,2,3]+[4,5,6])"
   ]
  },
  {
   "cell_type": "markdown",
   "metadata": {},
   "source": [
    "## 5.2 字串"
   ]
  },
  {
   "cell_type": "code",
   "execution_count": null,
   "metadata": {
    "collapsed": true
   },
   "outputs": [],
   "source": []
  }
 ],
 "metadata": {
  "kernelspec": {
   "display_name": "Python 3",
   "language": "python",
   "name": "python3"
  },
  "language_info": {
   "codemirror_mode": {
    "name": "ipython",
    "version": 3
   },
   "file_extension": ".py",
   "mimetype": "text/x-python",
   "name": "python",
   "nbconvert_exporter": "python",
   "pygments_lexer": "ipython3",
   "version": "3.6.5"
  }
 },
 "nbformat": 4,
 "nbformat_minor": 2
}
