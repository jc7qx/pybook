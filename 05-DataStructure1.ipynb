{
 "cells": [
  {
   "cell_type": "markdown",
   "metadata": {
    "slideshow": {
     "slide_type": "slide"
    }
   },
   "source": [
    "<center> <H1>第五章 資料結構-串列與字串</H1> </center>"
   ]
  },
  {
   "cell_type": "markdown",
   "metadata": {},
   "source": [
    "## 5.1 串列(List)\n",
    "\n",
    "串列(List)如同Java中的陣列，將同質性的資料元素儲存在連續鄰近的記憶體中，根據陣列的排列，資料可以很快地找出。Python程式語言的串列也是如此，然而不同的事，串列允許儲存異質資料元素，亦即不同類型的資料。\n",
    "\n",
    "* Java的陣列(Array)定義，int array[5] = {1, 2, 3, 4, 5};\n",
    "* Python的串列(List)定義，x = [1, 2, 3.2, 4.3, \"Hello\"]\n"
   ]
  },
  {
   "cell_type": "code",
   "execution_count": 5,
   "metadata": {},
   "outputs": [
    {
     "name": "stdout",
     "output_type": "stream",
     "text": [
      "[1, 2, 3.2, 4.3, True, (3+2j), 'Hello'] <class 'list'>\n"
     ]
    }
   ],
   "source": [
    "x = [1, 2, 3.2, 4.3,True, 3+2j, \"Hello\"]\n",
    "print(x, type(x))"
   ]
  },
  {
   "cell_type": "markdown",
   "metadata": {},
   "source": [
    "x是一個串列，包含7個元素，其中有整數、浮點數、布林數、複數、及字串。x是一個list。"
   ]
  },
  {
   "cell_type": "markdown",
   "metadata": {},
   "source": [
    "### 建立串列\n",
    "\n",
    "串列是以`[ ]`來定義元素，`x = []`建立一個空串列(empty list)。`y = [1, 2, 3]`建立一個3個整數元素的串列。`z = [1, 2.3, \"Good Boy\"]`建立一個3個元素的複合型態串列。串列中的元素根據位置有一個索引值(index)，例如，y 串列中，1 的索引值為0，2 的索引值為1，3 的索引值為2。第一個元素的索引值為0，以此類推。"
   ]
  },
  {
   "cell_type": "markdown",
   "metadata": {},
   "source": [
    "### 元素索引\n",
    "\n",
    "根據串列元素的索引值，可以快速定位元素。例如，`y[2]`為3，`z[1]`為2.3。"
   ]
  },
  {
   "cell_type": "code",
   "execution_count": null,
   "metadata": {
    "collapsed": true
   },
   "outputs": [],
   "source": [
    "x = ['h','e','l','l','o','w','o','r','l','d']\n",
    "print(x[2])  # 答案為 l\n",
    "print(x[5])  # 答案為 w\n",
    "print(x[-1]) # 答案為 d"
   ]
  },
  {
   "cell_type": "markdown",
   "metadata": {},
   "source": [
    "根據串列長度，利用for迴圈可以將每一個元素印出。"
   ]
  },
  {
   "cell_type": "code",
   "execution_count": 10,
   "metadata": {},
   "outputs": [
    {
     "name": "stdout",
     "output_type": "stream",
     "text": [
      "helloworld"
     ]
    }
   ],
   "source": [
    "for i in range(10):\n",
    "    print(x[i], end=\"\")"
   ]
  },
  {
   "cell_type": "markdown",
   "metadata": {},
   "source": [
    "### 切割串列\n",
    "\n",
    "切割串列(list slicing)可以獲得串列的一部份(子集合)。例如`x[:]`表示串列全部，`x[2:5]`表示擷取出串列位置2到4的元素。`x[:-5]`表示擷取出串列位置0至倒數第5位置的前一筆資料。"
   ]
  },
  {
   "cell_type": "code",
   "execution_count": 11,
   "metadata": {},
   "outputs": [
    {
     "name": "stdout",
     "output_type": "stream",
     "text": [
      "['h', 'e', 'l', 'l', 'o', 'w', 'o', 'r', 'l', 'd']\n",
      "['l', 'l', 'o']\n",
      "['h', 'e', 'l', 'l', 'o']\n"
     ]
    }
   ],
   "source": [
    "print(x[:])\n",
    "print(x[2:5])\n",
    "print(x[:-5])"
   ]
  },
  {
   "cell_type": "markdown",
   "metadata": {},
   "source": [
    "### 新增串列\n",
    "\n",
    "串列方法 append() 可以在串列尾端新增元素，例如`x.append('!')`，串列方法 extend() 可以在串列尾端結合一個串列，例如，`x.extend(['a','l','l'])`。「＋」運算子可以結合二個串列。"
   ]
  },
  {
   "cell_type": "code",
   "execution_count": 13,
   "metadata": {},
   "outputs": [
    {
     "name": "stdout",
     "output_type": "stream",
     "text": [
      "['h', 'e', 'l', 'l', 'o', 'w', 'o', 'r', 'l', 'd', '!', 'a', 'l', 'l', '!']\n",
      "['h', 'e', 'l', 'l', 'o', 'w', 'o', 'r', 'l', 'd', '!', 'a', 'l', 'l', '!', 'a', 'l', 'l']\n",
      "[1, 2, 3, 4, 5, 6]\n"
     ]
    }
   ],
   "source": [
    "x.append('!')\n",
    "print(x)\n",
    "x.extend(['a','l','l'])\n",
    "print(x)\n",
    "print([1,2,3]+[4,5,6])"
   ]
  },
  {
   "cell_type": "markdown",
   "metadata": {},
   "source": [
    "### 刪除串列及元素"
   ]
  },
  {
   "cell_type": "markdown",
   "metadata": {},
   "source": [
    "`del()`函數可以用來刪除串列元素或整個串列。"
   ]
  },
  {
   "cell_type": "code",
   "execution_count": 6,
   "metadata": {},
   "outputs": [
    {
     "name": "stdout",
     "output_type": "stream",
     "text": [
      "['I', 'L', 'O', 'V', 'E', 'P', 'Y', 'T', 'H', 'O', 'N']\n",
      "['I', 'L', 'V', 'E', 'P', 'Y', 'T', 'H', 'O', 'N']\n",
      "['I', 'E', 'P', 'Y', 'T', 'H', 'O', 'N']\n"
     ]
    },
    {
     "ename": "NameError",
     "evalue": "name 'x' is not defined",
     "output_type": "error",
     "traceback": [
      "\u001b[0;31m---------------------------------------------------------------------------\u001b[0m",
      "\u001b[0;31mNameError\u001b[0m                                 Traceback (most recent call last)",
      "\u001b[0;32m<ipython-input-6-907d9a97d6be>\u001b[0m in \u001b[0;36m<module>\u001b[0;34m()\u001b[0m\n\u001b[1;32m      6\u001b[0m \u001b[0mprint\u001b[0m\u001b[0;34m(\u001b[0m\u001b[0mx\u001b[0m\u001b[0;34m)\u001b[0m\u001b[0;34m\u001b[0m\u001b[0m\n\u001b[1;32m      7\u001b[0m \u001b[0;32mdel\u001b[0m \u001b[0mx\u001b[0m\u001b[0;34m\u001b[0m\u001b[0m\n\u001b[0;32m----> 8\u001b[0;31m \u001b[0mprint\u001b[0m\u001b[0;34m(\u001b[0m\u001b[0mx\u001b[0m\u001b[0;34m)\u001b[0m \u001b[0;31m#x 已經不存在，所以發生錯誤\u001b[0m\u001b[0;34m\u001b[0m\u001b[0m\n\u001b[0m",
      "\u001b[0;31mNameError\u001b[0m: name 'x' is not defined"
     ]
    }
   ],
   "source": [
    "x = ['I','L','O','V','E','P','Y','T','H','O','N']\n",
    "print(x)\n",
    "del x[2] # x[2] = 'O'\n",
    "print(x)\n",
    "del x[1:3] #x[1:3]=['L','V']\n",
    "print(x)\n",
    "del x\n",
    "print(x) #x 已經不存在，所以發生錯誤"
   ]
  },
  {
   "cell_type": "markdown",
   "metadata": {},
   "source": [
    "有一些串列的方法可以用來移除串列元素及清除串列內容，如remove, pop, clear。"
   ]
  },
  {
   "cell_type": "code",
   "execution_count": 11,
   "metadata": {},
   "outputs": [
    {
     "name": "stdout",
     "output_type": "stream",
     "text": [
      "['I', 'L', 'O', 'V', 'E', 'P', 'Y', 'T', 'H', 'O', 'N']\n",
      "['I', 'L', 'O', 'V', 'E', 'P', 'Y', 'T', 'O', 'N']\n",
      "['I', 'L', 'V', 'E', 'P', 'Y', 'T', 'O', 'N']\n",
      "['I', 'L', 'V', 'E', 'P', 'Y', 'T', 'O']\n",
      "[]\n"
     ]
    }
   ],
   "source": [
    "x = ['I','L','O','V','E','P','Y','T','H','O','N']\n",
    "print(x)\n",
    "x.remove('H')\n",
    "print(x)\n",
    "x.pop(2)\n",
    "print(x)\n",
    "x.pop() #將最後放入串列的元素移除\n",
    "print(x)\n",
    "x.clear()\n",
    "print(x)"
   ]
  },
  {
   "cell_type": "markdown",
   "metadata": {},
   "source": [
    "### 尋找及計算串列元素"
   ]
  },
  {
   "cell_type": "markdown",
   "metadata": {},
   "source": [
    "串列的index方法可以找出某個元素出現的第一個位置，count方法可以計算同一元素出現的次數。"
   ]
  },
  {
   "cell_type": "code",
   "execution_count": 14,
   "metadata": {},
   "outputs": [
    {
     "name": "stdout",
     "output_type": "stream",
     "text": [
      "2\n",
      "2\n"
     ]
    }
   ],
   "source": [
    "x = ['I','L','O','V','E','P','Y','T','H','O','N']\n",
    "print(x.index('O')) #'O'出現的第一個位置為2\n",
    "print(x.count('O')) #'O'在x串列中共出現2次"
   ]
  },
  {
   "cell_type": "markdown",
   "metadata": {},
   "source": [
    "### 串列排序"
   ]
  },
  {
   "cell_type": "code",
   "execution_count": null,
   "metadata": {
    "collapsed": true
   },
   "outputs": [],
   "source": [
    "串列方法sort()可以將串列排序，reverse()方法可以將串列反向排列。另內建函式sorted()也可用來排序串列。"
   ]
  },
  {
   "cell_type": "code",
   "execution_count": 20,
   "metadata": {},
   "outputs": [
    {
     "name": "stdout",
     "output_type": "stream",
     "text": [
      "[1, 5, 3, 2, 4, 7, 6, 5]\n",
      "[5, 6, 7, 4, 2, 3, 5, 1]\n",
      "[1, 2, 3, 4, 5, 5, 6, 7]\n",
      "[7, 6, 5, 5, 4, 3, 2, 1]\n"
     ]
    }
   ],
   "source": [
    "num = [1, 5, 3, 2, 4, 7, 6, 5]\n",
    "print(num)\n",
    "num.reverse()\n",
    "print(num)\n",
    "num.sort()\n",
    "print(num)\n",
    "num = [1, 5, 3, 2, 4, 7, 6, 5]\n",
    "num.sort(reverse=True)\n",
    "print(num)"
   ]
  },
  {
   "cell_type": "code",
   "execution_count": 21,
   "metadata": {},
   "outputs": [
    {
     "name": "stdout",
     "output_type": "stream",
     "text": [
      "['daniel', 'jason', 'joy', 'mary']\n"
     ]
    }
   ],
   "source": [
    "names = [\"mary\", \"jason\", \"joy\", \"daniel\"]\n",
    "print(sorted(names))"
   ]
  },
  {
   "cell_type": "markdown",
   "metadata": {},
   "source": [
    "### 串列長度函式"
   ]
  },
  {
   "cell_type": "code",
   "execution_count": 23,
   "metadata": {},
   "outputs": [
    {
     "name": "stdout",
     "output_type": "stream",
     "text": [
      "8\n",
      "7\n",
      "1\n",
      "33\n"
     ]
    }
   ],
   "source": [
    "num = [1, 5, 3, 2, 4, 7, 6, 5]\n",
    "print(len(num)) #串列長度\n",
    "print(max(num)) #串列最大值\n",
    "print(min(num)) #串列最小值\n",
    "print(sum(num)) #串列總和"
   ]
  },
  {
   "cell_type": "markdown",
   "metadata": {},
   "source": [
    "## 5.2 字串"
   ]
  },
  {
   "cell_type": "markdown",
   "metadata": {},
   "source": [
    "字串是一連串的字元組合，字元如同英文字母，電腦不認識字母，只認識數字 0 或 1 的組合。因此，將數字轉換為字母需要規則，這個規則就稱為編碼(coding)。常用的編碼方式，有 Ascii, unicode。在python中使用unicode來編碼，字串定義為一連串unicode編碼的字元。"
   ]
  },
  {
   "cell_type": "markdown",
   "metadata": {},
   "source": [
    "### 建立字串"
   ]
  },
  {
   "cell_type": "markdown",
   "metadata": {},
   "source": [
    "Python程式語言定義字串的方式有三\n",
    "\n",
    "* 單引號：'Computer'\n",
    "* 雙引號：\"Computer\"\n",
    "* 三雙引號：\"\"\"Computer\"\"\"\n",
    "\n",
    "三雙引號可定義字串多行字串。"
   ]
  },
  {
   "cell_type": "code",
   "execution_count": 26,
   "metadata": {},
   "outputs": [
    {
     "name": "stdout",
     "output_type": "stream",
     "text": [
      "COmputer\n",
      "Computer\n",
      "Computer\n",
      "AI is very hot topic\n",
      "   in today's life.\n",
      "\n"
     ]
    }
   ],
   "source": [
    "print('COmputer')\n",
    "print(\"Computer\")\n",
    "print(\"\"\"Computer\"\"\")\n",
    "print(\"\"\"AI is very hot topic\n",
    "   in today's life.\n",
    "\"\"\")"
   ]
  },
  {
   "cell_type": "markdown",
   "metadata": {},
   "source": [
    "### 存取字元"
   ]
  },
  {
   "cell_type": "markdown",
   "metadata": {},
   "source": [
    "由字串中存取字元的操作與串列操作相似，可以利用字串索引直來存取字元。"
   ]
  },
  {
   "cell_type": "code",
   "execution_count": 6,
   "metadata": {},
   "outputs": [
    {
     "name": "stdout",
     "output_type": "stream",
     "text": [
      "h\n",
      "thon\n",
      "l\n",
      "Python\n"
     ]
    },
    {
     "ename": "IndexError",
     "evalue": "string index out of range",
     "output_type": "error",
     "traceback": [
      "\u001b[0;31m---------------------------------------------------------------------------\u001b[0m",
      "\u001b[0;31mIndexError\u001b[0m                                Traceback (most recent call last)",
      "\u001b[0;32m<ipython-input-6-4931c90e197d>\u001b[0m in \u001b[0;36m<module>\u001b[0;34m()\u001b[0m\n\u001b[1;32m      4\u001b[0m \u001b[0mprint\u001b[0m\u001b[0;34m(\u001b[0m\u001b[0my\u001b[0m\u001b[0;34m[\u001b[0m\u001b[0;34m-\u001b[0m\u001b[0;36m5\u001b[0m\u001b[0;34m]\u001b[0m\u001b[0;34m)\u001b[0m\u001b[0;34m\u001b[0m\u001b[0m\n\u001b[1;32m      5\u001b[0m \u001b[0mprint\u001b[0m\u001b[0;34m(\u001b[0m\u001b[0my\u001b[0m\u001b[0;34m[\u001b[0m\u001b[0;34m:\u001b[0m\u001b[0;34m-\u001b[0m\u001b[0;36m6\u001b[0m\u001b[0;34m]\u001b[0m\u001b[0;34m)\u001b[0m\u001b[0;34m\u001b[0m\u001b[0m\n\u001b[0;32m----> 6\u001b[0;31m \u001b[0mprint\u001b[0m\u001b[0;34m(\u001b[0m\u001b[0my\u001b[0m\u001b[0;34m[\u001b[0m\u001b[0;36m12\u001b[0m\u001b[0;34m]\u001b[0m\u001b[0;34m)\u001b[0m\u001b[0;34m\u001b[0m\u001b[0m\n\u001b[0m",
      "\u001b[0;31mIndexError\u001b[0m: string index out of range"
     ]
    }
   ],
   "source": [
    "y = \"Python lover\"\n",
    "print(y[3])\n",
    "print(y[2:6])\n",
    "print(y[-5])\n",
    "print(y[:-6])\n",
    "print(y[12])"
   ]
  },
  {
   "cell_type": "markdown",
   "metadata": {},
   "source": [
    "### 更改字串內容"
   ]
  },
  {
   "cell_type": "markdown",
   "metadata": {},
   "source": [
    "字串內容不允許改變，字串是一種immutable物件，不能更改其中任何一個字元，也不能刪除。"
   ]
  },
  {
   "cell_type": "code",
   "execution_count": 10,
   "metadata": {},
   "outputs": [
    {
     "ename": "TypeError",
     "evalue": "'str' object does not support item assignment",
     "output_type": "error",
     "traceback": [
      "\u001b[0;31m---------------------------------------------------------------------------\u001b[0m",
      "\u001b[0;31mTypeError\u001b[0m                                 Traceback (most recent call last)",
      "\u001b[0;32m<ipython-input-10-99beb722c8e1>\u001b[0m in \u001b[0;36m<module>\u001b[0;34m()\u001b[0m\n\u001b[1;32m      1\u001b[0m \u001b[0mx\u001b[0m \u001b[0;34m=\u001b[0m \u001b[0;34m\"computer\"\u001b[0m\u001b[0;34m\u001b[0m\u001b[0m\n\u001b[0;32m----> 2\u001b[0;31m \u001b[0mx\u001b[0m\u001b[0;34m[\u001b[0m\u001b[0;36m2\u001b[0m\u001b[0;34m]\u001b[0m \u001b[0;34m=\u001b[0m \u001b[0;34m\"n\"\u001b[0m\u001b[0;34m\u001b[0m\u001b[0m\n\u001b[0m",
      "\u001b[0;31mTypeError\u001b[0m: 'str' object does not support item assignment"
     ]
    }
   ],
   "source": [
    "x = \"computer\"\n",
    "x[2] = \"n\" #字串物件不支援元素字元設定"
   ]
  },
  {
   "cell_type": "code",
   "execution_count": 11,
   "metadata": {},
   "outputs": [
    {
     "ename": "TypeError",
     "evalue": "'str' object doesn't support item deletion",
     "output_type": "error",
     "traceback": [
      "\u001b[0;31m---------------------------------------------------------------------------\u001b[0m",
      "\u001b[0;31mTypeError\u001b[0m                                 Traceback (most recent call last)",
      "\u001b[0;32m<ipython-input-11-81ca212ae768>\u001b[0m in \u001b[0;36m<module>\u001b[0;34m()\u001b[0m\n\u001b[0;32m----> 1\u001b[0;31m \u001b[0;32mdel\u001b[0m\u001b[0;34m(\u001b[0m\u001b[0mx\u001b[0m\u001b[0;34m[\u001b[0m\u001b[0;36m2\u001b[0m\u001b[0;34m]\u001b[0m\u001b[0;34m)\u001b[0m\u001b[0;34m\u001b[0m\u001b[0m\n\u001b[0m",
      "\u001b[0;31mTypeError\u001b[0m: 'str' object doesn't support item deletion"
     ]
    }
   ],
   "source": [
    "del(x[2]) #字串物件不支援元素字元刪除"
   ]
  },
  {
   "cell_type": "code",
   "execution_count": 12,
   "metadata": {},
   "outputs": [
    {
     "ename": "NameError",
     "evalue": "name 'x' is not defined",
     "output_type": "error",
     "traceback": [
      "\u001b[0;31m---------------------------------------------------------------------------\u001b[0m",
      "\u001b[0;31mNameError\u001b[0m                                 Traceback (most recent call last)",
      "\u001b[0;32m<ipython-input-12-ab8999968073>\u001b[0m in \u001b[0;36m<module>\u001b[0;34m()\u001b[0m\n\u001b[1;32m      1\u001b[0m \u001b[0;32mdel\u001b[0m\u001b[0;34m(\u001b[0m\u001b[0mx\u001b[0m\u001b[0;34m)\u001b[0m\u001b[0;34m\u001b[0m\u001b[0m\n\u001b[0;32m----> 2\u001b[0;31m \u001b[0mprint\u001b[0m\u001b[0;34m(\u001b[0m\u001b[0mx\u001b[0m\u001b[0;34m)\u001b[0m\u001b[0;34m\u001b[0m\u001b[0m\n\u001b[0m",
      "\u001b[0;31mNameError\u001b[0m: name 'x' is not defined"
     ]
    }
   ],
   "source": [
    "del(x)\n",
    "print(x)"
   ]
  },
  {
   "cell_type": "markdown",
   "metadata": {},
   "source": [
    "### 字串連接"
   ]
  },
  {
   "cell_type": "code",
   "execution_count": 13,
   "metadata": {},
   "outputs": [
    {
     "name": "stdout",
     "output_type": "stream",
     "text": [
      "computer language\n"
     ]
    }
   ],
   "source": [
    "str = \"computer\"+\" \"+\"language\"\n",
    "print(str)"
   ]
  },
  {
   "cell_type": "markdown",
   "metadata": {},
   "source": [
    "### 字串走訪"
   ]
  },
  {
   "cell_type": "code",
   "execution_count": 14,
   "metadata": {},
   "outputs": [
    {
     "name": "stdout",
     "output_type": "stream",
     "text": [
      "c o m p u t e r   l a n g u a g e "
     ]
    }
   ],
   "source": [
    "for item in str:\n",
    "    print(item, end=\" \")"
   ]
  },
  {
   "cell_type": "code",
   "execution_count": 17,
   "metadata": {},
   "outputs": [
    {
     "name": "stdout",
     "output_type": "stream",
     "text": [
      "c o m p u t e r   l a n g u a g e "
     ]
    }
   ],
   "source": [
    "for i in range(len(str)): #len(str)回傳字串的長度\n",
    "    print(str[i], end=\" \")"
   ]
  },
  {
   "cell_type": "code",
   "execution_count": 15,
   "metadata": {},
   "outputs": [
    {
     "name": "stdout",
     "output_type": "stream",
     "text": [
      "count =  2\n"
     ]
    }
   ],
   "source": [
    "count=0\n",
    "for item in str:\n",
    "    if item=='u':\n",
    "        count += 1\n",
    "print(\"count = \", count)"
   ]
  },
  {
   "cell_type": "markdown",
   "metadata": {},
   "source": [
    "### 字串常用方法"
   ]
  },
  {
   "cell_type": "markdown",
   "metadata": {},
   "source": [
    "* str.upper() : 將字元轉換為大寫字元\n",
    "* str.lower() : 將字元轉換為小寫字元\n",
    "* str.split() : 擷取字串的單字組成串列\n",
    "* str.join() : 將單字串列結合成字串\n",
    "* str.find(pattern) : 尋找字串中的pattern\n",
    "* str.replace(word1, word2) : 將字串中word1代換為word2"
   ]
  },
  {
   "cell_type": "code",
   "execution_count": 27,
   "metadata": {},
   "outputs": [
    {
     "name": "stdout",
     "output_type": "stream",
     "text": [
      "I LIKE PYTHON\n",
      "i like python\n",
      "['I', 'like', 'Python']\n",
      "I@like@Python\n",
      "2\n",
      "I love Python\n"
     ]
    }
   ],
   "source": [
    "str = \"I like Python\"\n",
    "print(str.upper())\n",
    "print(str.lower())\n",
    "x = str.split()\n",
    "print(x)\n",
    "y = \"@\".join(x)\n",
    "print(y)\n",
    "pos = str.find(\"like\")\n",
    "print(pos)\n",
    "z = str.replace(\"like\", \"love\")\n",
    "print(z)"
   ]
  },
  {
   "cell_type": "markdown",
   "metadata": {
    "collapsed": true
   },
   "source": [
    "## 參考資料\n",
    "\n",
    "1. [Programiz網站](https://www.programiz.com/python-programming/list)"
   ]
  },
  {
   "cell_type": "code",
   "execution_count": null,
   "metadata": {
    "collapsed": true
   },
   "outputs": [],
   "source": []
  }
 ],
 "metadata": {
  "kernelspec": {
   "display_name": "Python 3",
   "language": "python",
   "name": "python3"
  },
  "language_info": {
   "codemirror_mode": {
    "name": "ipython",
    "version": 3
   },
   "file_extension": ".py",
   "mimetype": "text/x-python",
   "name": "python",
   "nbconvert_exporter": "python",
   "pygments_lexer": "ipython3",
   "version": "3.6.1"
  }
 },
 "nbformat": 4,
 "nbformat_minor": 2
}
