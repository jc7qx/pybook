{
 "cells": [
  {
   "cell_type": "code",
   "execution_count": 1,
   "metadata": {},
   "outputs": [
    {
     "data": {
      "text/html": [
       "<style>\n",
       "table {float:left}\n",
       "</style>\n"
      ],
      "text/plain": [
       "<IPython.core.display.HTML object>"
      ]
     },
     "metadata": {},
     "output_type": "display_data"
    }
   ],
   "source": []
  },
  {
   "cell_type": "markdown",
   "metadata": {},
   "source": [
    "### 檔案系統\n",
    "\n",
    "檔案是電腦儲存資料的容器，檔案處理是作業系統核心功能之一。電腦的檔案呈現樹狀結構，有目錄所組成，每層目錄又由檔案組成，第一層目錄成為根目錄。例如以下的檔案結構：\n",
    "\n",
    "<pre>\n",
    "D:\\ ---- address\n",
    "     |-- friends\n",
    "     |-- homework ---- hw1 - solution.docx\n",
    "     |-- test      |-- hw2\n",
    "                   |-- hw3\n",
    "</pre>\n",
    "\n",
    "`solution.docx`為一word檔案，內容為作業1的解答，該檔案在作業1的目錄，作業1為homework目錄的子目錄，homework目錄包含hw1、hw2、及hw3等三個子目錄，homework在跟目錄下，根目錄為`D:\\`。`solution.docx`檔案的絕對路徑為`D:\\homework\\hw2\\solution.docx`。`solution.docx`所在的目錄可以用「.」表示，其上層目錄可以用「..」表示。檔案及目錄都可以設定權限，以限制存取。"
   ]
  },
  {
   "cell_type": "markdown",
   "metadata": {},
   "source": [
    "### os模組\n",
    "\n",
    "Pythonos模組提供目錄與檔案的處理。\n",
    "\n",
    "| 函式名稱 | 說明                         |\n",
    "|:----------|:-----------:                 |\n",
    "|os.system() | 執行os指令                |\n",
    "|os.getcwd() | 目前目錄                  |\n",
    "|os.listdir(path) | 目錄下檔案列表        |\n",
    "|os.mkdir(path) | 建立新目錄夾            |\n",
    "|os.remove(path) | 刪除檔案              |\n",
    "|os.rename(src, dest) | 更改檔案或目錄名稱 |\n",
    "|os.rmdir(path) | 刪除檔案路徑            |"
   ]
  },
  {
   "cell_type": "code",
   "execution_count": 2,
   "metadata": {},
   "outputs": [],
   "source": [
    "import os\n",
    "import shutil"
   ]
  },
  {
   "cell_type": "code",
   "execution_count": 4,
   "metadata": {},
   "outputs": [
    {
     "data": {
      "text/plain": [
       "['.git',\n",
       " '.ipynb_checkpoints',\n",
       " '01-PythonOverview.ipynb',\n",
       " '02-DataTypes.ipynb',\n",
       " '03-variableNexpression.ipynb',\n",
       " '04-ProgramStructure.ipynb',\n",
       " '05-DataStructure1.ipynb',\n",
       " '06-functions.ipynb',\n",
       " '07-DataStructure2.ipynb',\n",
       " '8-file handling.ipynb',\n",
       " 'hw2.ipynb',\n",
       " 'pic',\n",
       " 'python101.ipynb',\n",
       " 'README.md',\n",
       " 'test_dir',\n",
       " 'Untitled.ipynb']"
      ]
     },
     "execution_count": 4,
     "metadata": {},
     "output_type": "execute_result"
    }
   ],
   "source": [
    "os.listdir() #目前目錄下檔案"
   ]
  },
  {
   "cell_type": "code",
   "execution_count": 3,
   "metadata": {},
   "outputs": [],
   "source": [
    "os.mkdir(\"test_dir\") #建立新目錄"
   ]
  },
  {
   "cell_type": "code",
   "execution_count": 3,
   "metadata": {},
   "outputs": [],
   "source": [
    "for files in os.listdir():\n",
    "    if files.endswith(\".md\"): #針對markdown檔案\n",
    "        shutil.copy(files, \"./test_dir\") #拷貝檔案至./test_dir目錄"
   ]
  },
  {
   "cell_type": "code",
   "execution_count": 4,
   "metadata": {},
   "outputs": [
    {
     "data": {
      "text/plain": [
       "['README.md', 'test.txt']"
      ]
     },
     "execution_count": 4,
     "metadata": {},
     "output_type": "execute_result"
    }
   ],
   "source": [
    "os.listdir(\"test_dir\")"
   ]
  },
  {
   "cell_type": "code",
   "execution_count": 6,
   "metadata": {},
   "outputs": [
    {
     "data": {
      "text/plain": [
       "True"
      ]
     },
     "execution_count": 6,
     "metadata": {},
     "output_type": "execute_result"
    }
   ],
   "source": [
    "os.path.isdir(\"test_dir\") #檢查test_dir是否為目錄？"
   ]
  },
  {
   "cell_type": "code",
   "execution_count": 8,
   "metadata": {},
   "outputs": [],
   "source": [
    "os.chdir(\"test_dir/\") #改變目錄位置"
   ]
  },
  {
   "cell_type": "code",
   "execution_count": 10,
   "metadata": {},
   "outputs": [
    {
     "data": {
      "text/plain": [
       "'/Users/jc7qx/pybook/test_dir'"
      ]
     },
     "execution_count": 10,
     "metadata": {},
     "output_type": "execute_result"
    }
   ],
   "source": [
    "os.getcwd() #讀取路徑"
   ]
  },
  {
   "cell_type": "code",
   "execution_count": 12,
   "metadata": {},
   "outputs": [],
   "source": [
    "!touch test.txt"
   ]
  },
  {
   "cell_type": "code",
   "execution_count": 13,
   "metadata": {},
   "outputs": [
    {
     "data": {
      "text/plain": [
       "['test.txt']"
      ]
     },
     "execution_count": 13,
     "metadata": {},
     "output_type": "execute_result"
    }
   ],
   "source": [
    "os.listdir()"
   ]
  },
  {
   "cell_type": "markdown",
   "metadata": {},
   "source": [
    "### python的檔案處理程序\n",
    "* 開啟檔案\n",
    "* 讀/寫檔案 \n",
    "* 關閉檔案"
   ]
  },
  {
   "cell_type": "markdown",
   "metadata": {},
   "source": [
    "內建函式`open()`用來開啟一個檔案，若開啟檔案不存在，產生「無此檔案或目錄」錯誤。"
   ]
  },
  {
   "cell_type": "code",
   "execution_count": 15,
   "metadata": {},
   "outputs": [],
   "source": [
    "f = open(\"test.txt\") #f is a handle"
   ]
  },
  {
   "cell_type": "code",
   "execution_count": 39,
   "metadata": {},
   "outputs": [
    {
     "ename": "FileNotFoundError",
     "evalue": "[Errno 2] No such file or directory: 'readme.txt'",
     "output_type": "error",
     "traceback": [
      "\u001b[0;31m---------------------------------------------------------------------------\u001b[0m",
      "\u001b[0;31mFileNotFoundError\u001b[0m                         Traceback (most recent call last)",
      "\u001b[0;32m<ipython-input-39-ffcabbbd14bd>\u001b[0m in \u001b[0;36m<module>\u001b[0;34m()\u001b[0m\n\u001b[0;32m----> 1\u001b[0;31m \u001b[0mf\u001b[0m \u001b[0;34m=\u001b[0m \u001b[0mopen\u001b[0m\u001b[0;34m(\u001b[0m\u001b[0;34m\"readme.txt\"\u001b[0m\u001b[0;34m)\u001b[0m \u001b[0;31m#開啟檔案不存在，產生 FileNotFoundError: [Errno 2] No such file or directory: 'readme.txt'\u001b[0m\u001b[0;34m\u001b[0m\u001b[0m\n\u001b[0m",
      "\u001b[0;31mFileNotFoundError\u001b[0m: [Errno 2] No such file or directory: 'readme.txt'"
     ]
    }
   ],
   "source": [
    "f = open(\"readme.txt\") #開啟檔案不存在，產生 FileNotFoundError: [Errno 2] No such file or directory: 'readme.txt'"
   ]
  },
  {
   "cell_type": "markdown",
   "metadata": {},
   "source": [
    "%%html\n",
    "<style>\n",
    "  table {margin-left: 0 !important;}\n",
    "</style>"
   ]
  },
  {
   "cell_type": "markdown",
   "metadata": {},
   "source": [
    "開啟檔案時可以指定開啟模式，如「r」代表讀取檔案，「w」代表寫入檔案，...。詳細的檔案模式如下表：\n",
    "\n",
    "模式 | 說明\n",
    ":-:|:-:\n",
    " r  | 開啟檔案讀取資料\n",
    " w  | 開啟檔案寫入資料，若檔案存在，發生失敗\n",
    " a  | 開啟檔案附加資料，若檔案不存在，建立新檔案\n",
    " t  | 開啟文字模式\n",
    " b  | 開啟二位元模式\n",
    " +  | 開啟檔案更新模式"
   ]
  },
  {
   "cell_type": "markdown",
   "metadata": {},
   "source": [
    "fp = open(\"test.txt\", 'w') # \"w\": file mode"
   ]
  },
  {
   "cell_type": "code",
   "execution_count": null,
   "metadata": {},
   "outputs": [],
   "source": [
    "fp = open(\"img.jpeg\", 'r+b') #read and write in binary mode"
   ]
  },
  {
   "cell_type": "markdown",
   "metadata": {},
   "source": [
    "開啟檔案時可指定其內容編碼，windows: cp1252, Linux: utf-8"
   ]
  },
  {
   "cell_type": "code",
   "execution_count": 18,
   "metadata": {},
   "outputs": [],
   "source": [
    "fp1 = open(\"test.txt\", \"r\", encoding='utf-8')"
   ]
  },
  {
   "cell_type": "markdown",
   "metadata": {},
   "source": [
    "開啟檔案處理完成後，必須將檔案關閉，使檔案資源可以歸還給系統。"
   ]
  },
  {
   "cell_type": "code",
   "execution_count": 20,
   "metadata": {},
   "outputs": [],
   "source": [
    "fp1.close() #close the file test.txt"
   ]
  },
  {
   "cell_type": "markdown",
   "metadata": {},
   "source": [
    "可以利用`try: ... finally:`結構"
   ]
  },
  {
   "cell_type": "code",
   "execution_count": 21,
   "metadata": {},
   "outputs": [],
   "source": [
    "try:\n",
    "    fp1 = open(\"test.txt\", encoding='utf-8')\n",
    "finally:\n",
    "    fp1.close()"
   ]
  },
  {
   "cell_type": "markdown",
   "metadata": {},
   "source": [
    "`with`結構可用來處理檔案，並可自動關閉檔案"
   ]
  },
  {
   "cell_type": "code",
   "execution_count": null,
   "metadata": {},
   "outputs": [],
   "source": [
    "with open(\"test.txt\", \"w\", encoding=\"utf-8\") as fp1:\n",
    "    fp1.write(\"my first file\\n\")\n",
    "    fp1.write(\"This is the line\\n\")\n",
    "    fp1.write(\"contains three lines\\n\")"
   ]
  },
  {
   "cell_type": "markdown",
   "metadata": {},
   "source": [
    "### 檔案操作"
   ]
  },
  {
   "cell_type": "code",
   "execution_count": 24,
   "metadata": {},
   "outputs": [
    {
     "data": {
      "text/plain": [
       "'my f'"
      ]
     },
     "execution_count": 24,
     "metadata": {},
     "output_type": "execute_result"
    }
   ],
   "source": [
    "f = open(\"test.txt\", 'r', encoding='utf-8')\n",
    "f.read(4) #read(size)"
   ]
  },
  {
   "cell_type": "code",
   "execution_count": 25,
   "metadata": {},
   "outputs": [
    {
     "data": {
      "text/plain": [
       "'irst'"
      ]
     },
     "execution_count": 25,
     "metadata": {},
     "output_type": "execute_result"
    }
   ],
   "source": [
    "f.read(4)"
   ]
  },
  {
   "cell_type": "code",
   "execution_count": 26,
   "metadata": {},
   "outputs": [
    {
     "data": {
      "text/plain": [
       "' file\\nThis is the line\\ncontains three lines\\n'"
      ]
     },
     "execution_count": 26,
     "metadata": {},
     "output_type": "execute_result"
    }
   ],
   "source": [
    "f.read()"
   ]
  },
  {
   "cell_type": "code",
   "execution_count": 27,
   "metadata": {},
   "outputs": [
    {
     "data": {
      "text/plain": [
       "''"
      ]
     },
     "execution_count": 27,
     "metadata": {},
     "output_type": "execute_result"
    }
   ],
   "source": [
    "f.read()"
   ]
  },
  {
   "cell_type": "code",
   "execution_count": 28,
   "metadata": {},
   "outputs": [
    {
     "data": {
      "text/plain": [
       "52"
      ]
     },
     "execution_count": 28,
     "metadata": {},
     "output_type": "execute_result"
    }
   ],
   "source": [
    "f.tell() #回傳檔案游標位置"
   ]
  },
  {
   "cell_type": "code",
   "execution_count": 29,
   "metadata": {},
   "outputs": [
    {
     "data": {
      "text/plain": [
       "0"
      ]
     },
     "execution_count": 29,
     "metadata": {},
     "output_type": "execute_result"
    }
   ],
   "source": [
    "f.seek(0) #改變檔案游標位置"
   ]
  },
  {
   "cell_type": "code",
   "execution_count": 30,
   "metadata": {},
   "outputs": [
    {
     "data": {
      "text/plain": [
       "0"
      ]
     },
     "execution_count": 30,
     "metadata": {},
     "output_type": "execute_result"
    }
   ],
   "source": [
    "f.tell()"
   ]
  },
  {
   "cell_type": "code",
   "execution_count": 31,
   "metadata": {},
   "outputs": [
    {
     "name": "stdout",
     "output_type": "stream",
     "text": [
      "my first file\n",
      "This is the line\n",
      "contains three lines\n",
      "\n"
     ]
    }
   ],
   "source": [
    "print(f.read())"
   ]
  },
  {
   "cell_type": "markdown",
   "metadata": {},
   "source": [
    "讀取檔案中行列"
   ]
  },
  {
   "cell_type": "code",
   "execution_count": 34,
   "metadata": {},
   "outputs": [
    {
     "name": "stdout",
     "output_type": "stream",
     "text": [
      "my first file\n",
      " This is the line\n",
      " contains three lines\n",
      " "
     ]
    }
   ],
   "source": [
    "f.seek(0)\n",
    "for line in f:\n",
    "    print(line, end=\" \")"
   ]
  },
  {
   "cell_type": "code",
   "execution_count": 36,
   "metadata": {},
   "outputs": [
    {
     "data": {
      "text/plain": [
       "'my first file\\n'"
      ]
     },
     "execution_count": 36,
     "metadata": {},
     "output_type": "execute_result"
    }
   ],
   "source": [
    "f.seek(0)\n",
    "f.readline()"
   ]
  },
  {
   "cell_type": "code",
   "execution_count": null,
   "metadata": {},
   "outputs": [],
   "source": [
    "f.readline() #讀取一行"
   ]
  },
  {
   "cell_type": "code",
   "execution_count": 38,
   "metadata": {},
   "outputs": [
    {
     "data": {
      "text/plain": [
       "['my first file\\n', 'This is the line\\n', 'contains three lines\\n']"
      ]
     },
     "execution_count": 38,
     "metadata": {},
     "output_type": "execute_result"
    }
   ],
   "source": [
    "f.seek(0)\n",
    "f.readlines() #將檔案每一行存到一個list中"
   ]
  },
  {
   "cell_type": "markdown",
   "metadata": {},
   "source": [
    "### 讀取 csv 檔"
   ]
  },
  {
   "cell_type": "markdown",
   "metadata": {},
   "source": [
    "CSV(Comma Separated Values)代表一個以逗點分隔資料的檔案，這種檔案廣泛用於儲存表格式、以行為主的資料。Python的csv模組可以讀取與寫入CSV表格式的資料檔案。例如，以下資料表\n",
    "\n",
    "學號 | 姓名 | 手機 | 年齡\n",
    "----|-----|------|-----------------\n",
    "107143001 | 王大明 | 0912123432 | 18\n",
    "107143022 | 胡曉君 | 0930982345 | 17\n",
    "107143099 | 陳大同 | 0911982670 | 18\n",
    "106143002 | 李小明 | 0933651285 | 19\n"
   ]
  },
  {
   "cell_type": "markdown",
   "metadata": {},
   "source": []
  },
  {
   "cell_type": "code",
   "execution_count": 12,
   "metadata": {},
   "outputs": [
    {
     "name": "stdout",
     "output_type": "stream",
     "text": [
      "107143001  王大明  0912123432  18\n",
      "107143022  胡曉君  0930982345  17\n",
      "107143099  陳大同  0911982670  18\n",
      "106143002  李小明  0933651285  19 \n"
     ]
    }
   ],
   "source": [
    "import csv\n",
    "\n",
    "with open(\"student.csv\") as csvf:\n",
    "    next(csvf, None)\n",
    "    csv_reader = csv.reader(csvf, delimiter=',')\n",
    "    for row in csv_reader:\n",
    "        print(row[0], row[1], row[2], row[3])"
   ]
  },
  {
   "cell_type": "code",
   "execution_count": null,
   "metadata": {},
   "outputs": [],
   "source": []
  }
 ],
 "metadata": {
  "kernelspec": {
   "display_name": "Python 3",
   "language": "python",
   "name": "python3"
  },
  "language_info": {
   "codemirror_mode": {
    "name": "ipython",
    "version": 3
   },
   "file_extension": ".py",
   "mimetype": "text/x-python",
   "name": "python",
   "nbconvert_exporter": "python",
   "pygments_lexer": "ipython3",
   "version": "3.6.5"
  }
 },
 "nbformat": 4,
 "nbformat_minor": 2
}
