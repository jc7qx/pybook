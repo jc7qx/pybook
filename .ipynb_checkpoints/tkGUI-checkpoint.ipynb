{
 "cells": [
  {
   "cell_type": "markdown",
   "metadata": {},
   "source": [
    "# Python GUI 程式設計"
   ]
  },
  {
   "cell_type": "markdown",
   "metadata": {},
   "source": [
    "## GUI簡介"
   ]
  },
  {
   "cell_type": "markdown",
   "metadata": {},
   "source": [
    "## tkinter 模組"
   ]
  },
  {
   "cell_type": "markdown",
   "metadata": {},
   "source": [
    "Python提供多個GUI模組，可以讓我們很方便地開發GUI應用程式。其中，最常使用的模組為tkinter，它內建於Pyhton程式語言，安裝完Python就能使用它來建立GUI應用程式，雖然它建立出的成果比較陽春，在功能上卻已完備。\n",
    "\n",
    "以tkinter模組建立應用程式，大概可分為四步驟：\n",
    "* 導入tkinter模組\n",
    "* 建立主視窗(容器)\n",
    "* 在主視窗上新增所需要的GUI控制元件\n",
    "* 設計及應用事件驅動邏輯於GUI中\n",
    "\n",
    "值得注意，在python 2.x版本中，tk模組名稱為「Tkinter」，在python 3.x的版本中，tk模組名稱為「tkinter」。"
   ]
  },
  {
   "cell_type": "markdown",
   "metadata": {},
   "source": [
    "### 建立主視窗"
   ]
  },
  {
   "cell_type": "code",
   "execution_count": 1,
   "metadata": {},
   "outputs": [],
   "source": [
    "import tkinter\n",
    "win = tkinter.Tk()\n",
    "win.mainloop()"
   ]
  },
  {
   "cell_type": "markdown",
   "metadata": {},
   "source": [
    "### 標籤元件"
   ]
  },
  {
   "cell_type": "code",
   "execution_count": 2,
   "metadata": {},
   "outputs": [],
   "source": [
    "import tkinter\n",
    "win = tkinter.Tk()\n",
    "L1 = tkinter.Label(text=\"中華科技大學\")\n",
    "L1.pack()\n",
    "win.mainloop()"
   ]
  },
  {
   "cell_type": "markdown",
   "metadata": {},
   "source": [
    "### 按鈕元件"
   ]
  },
  {
   "cell_type": "code",
   "execution_count": 3,
   "metadata": {},
   "outputs": [],
   "source": [
    "import tkinter\n",
    "win = tkinter.Tk()\n",
    "L1 = tkinter.Label(text=\"中華科技大學\")\n",
    "L1.pack()\n",
    "B1 = tkinter.Button(text=\"請按我\")\n",
    "B1.pack()\n",
    "win.mainloop()"
   ]
  },
  {
   "cell_type": "markdown",
   "metadata": {},
   "source": [
    "### CheckBox"
   ]
  },
  {
   "cell_type": "code",
   "execution_count": null,
   "metadata": {},
   "outputs": [],
   "source": [
    "from tkinter \n",
    "win = tkinter.Tk() \n",
    "var1 = tkinter.IntVar() \n",
    "tkinter.Checkbutton(master, text='male', variable=var1).grid(row=0, sticky=W) \n",
    "var2 = tkinter.IntVar() \n",
    "tkinter.Checkbutton(master, text='female', variable=var2).grid(row=1, sticky=W) \n",
    "win.mainloop() "
   ]
  }
 ],
 "metadata": {
  "kernelspec": {
   "display_name": "Python 3",
   "language": "python",
   "name": "python3"
  },
  "language_info": {
   "codemirror_mode": {
    "name": "ipython",
    "version": 3
   },
   "file_extension": ".py",
   "mimetype": "text/x-python",
   "name": "python",
   "nbconvert_exporter": "python",
   "pygments_lexer": "ipython3",
   "version": "3.6.5"
  }
 },
 "nbformat": 4,
 "nbformat_minor": 2
}
