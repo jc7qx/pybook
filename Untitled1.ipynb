{
 "cells": [
  {
   "cell_type": "code",
   "execution_count": 12,
   "metadata": {},
   "outputs": [
    {
     "name": "stdout",
     "output_type": "stream",
     "text": [
      "[[[255 255 255]\n",
      "  [255 255 255]\n",
      "  [255 255 255]\n",
      "  ...\n",
      "  [255 255 255]\n",
      "  [255 255 255]\n",
      "  [255 255 255]]\n",
      "\n",
      " [[255 255 255]\n",
      "  [255 255 255]\n",
      "  [255 255 255]\n",
      "  ...\n",
      "  [255 255 255]\n",
      "  [255 255 255]\n",
      "  [255 255 255]]\n",
      "\n",
      " [[255 255 255]\n",
      "  [255 255 255]\n",
      "  [255 255 255]\n",
      "  ...\n",
      "  [255 255 255]\n",
      "  [255 255 255]\n",
      "  [255 255 255]]\n",
      "\n",
      " ...\n",
      "\n",
      " [[255 255 255]\n",
      "  [255 255 255]\n",
      "  [255 255 255]\n",
      "  ...\n",
      "  [255 255 255]\n",
      "  [255 255 255]\n",
      "  [255 255 255]]\n",
      "\n",
      " [[255 255 255]\n",
      "  [255 255 255]\n",
      "  [255 255 255]\n",
      "  ...\n",
      "  [255 255 255]\n",
      "  [255 255 255]\n",
      "  [255 255 255]]\n",
      "\n",
      " [[255 255 255]\n",
      "  [255 255 255]\n",
      "  [255 255 255]\n",
      "  ...\n",
      "  [255 255 255]\n",
      "  [255 255 255]\n",
      "  [255 255 255]]]\n"
     ]
    },
    {
     "data": {
      "text/plain": [
       "48"
      ]
     },
     "execution_count": 12,
     "metadata": {},
     "output_type": "execute_result"
    }
   ],
   "source": [
    "import cv2\n",
    "img = cv2.imread(\"pybook1/pic/cars.png\",1)\n",
    "print(img)\n",
    "cv2.imshow(\"movie\", img)\n",
    "cv2.waitKey(0)"
   ]
  },
  {
   "cell_type": "code",
   "execution_count": 11,
   "metadata": {},
   "outputs": [
    {
     "name": "stdout",
     "output_type": "stream",
     "text": [
      "\u001b[30m\u001b[43mAdlm\u001b[m\u001b[m/                          \u001b[34mguicode2\u001b[m\u001b[m/\r\n",
      "\u001b[34mAnacondaProjects\u001b[m\u001b[m/              log4j.spark.log\r\n",
      "\u001b[34mApplications\u001b[m\u001b[m/                  log4j.spark.log.2017-02-25\r\n",
      "\u001b[34mApplications (Parallels)\u001b[m\u001b[m/      log4j.spark.log.2017-03-21\r\n",
      "\u001b[34mBlackFridayDataHack\u001b[m\u001b[m/           \u001b[34mlogs\u001b[m\u001b[m/\r\n",
      "\u001b[34mDesktop\u001b[m\u001b[m/                       \u001b[34mmetastore_db\u001b[m\u001b[m/\r\n",
      "\u001b[34mDocuments\u001b[m\u001b[m/                     mpg.pdf\r\n",
      "\u001b[34mDownloads\u001b[m\u001b[m/                     \u001b[34mmyblog\u001b[m\u001b[m/\r\n",
      "\u001b[34mLibrary\u001b[m\u001b[m/                       pandas 10m.ipynb\r\n",
      "\u001b[34mMovies\u001b[m\u001b[m/                        pandas01.ipynb\r\n",
      "\u001b[34mMusic\u001b[m\u001b[m/                         pi@192.168.1.115\r\n",
      "\u001b[34mPictures\u001b[m\u001b[m/                      \u001b[34mpiptest1\u001b[m\u001b[m/\r\n",
      "\u001b[34mPublic\u001b[m\u001b[m/                        \u001b[34mpybook\u001b[m\u001b[m/\r\n",
      "\u001b[34mPycharmProjects\u001b[m\u001b[m/               \u001b[34mpybook1\u001b[m\u001b[m/\r\n",
      "\u001b[34mRnotes\u001b[m\u001b[m/                        \u001b[34mpylearn2\u001b[m\u001b[m/\r\n",
      "Rplot.png                      \u001b[34mpytest_env\u001b[m\u001b[m/\r\n",
      "Untitled.ipynb                 pythoncode.py\r\n",
      "Untitled1.ipynb                \u001b[34mseaborn-data\u001b[m\u001b[m/\r\n",
      "Untitled5.ipynb                \u001b[34mspark\u001b[m\u001b[m/\r\n",
      "\u001b[34mZotero\u001b[m\u001b[m/                        spark-2.1.0-bin-hadoop2.7.tgz\r\n",
      "business.db                    \u001b[34mstudy\u001b[m\u001b[m/\r\n",
      "cc.sql                         \u001b[34mteaching\u001b[m\u001b[m/\r\n",
      "customers                      \u001b[34mtest\u001b[m\u001b[m/\r\n",
      "customers.sql                  test.db\r\n",
      "\u001b[34mcvtest\u001b[m\u001b[m/                        test.py\r\n",
      "\u001b[34mdata\u001b[m\u001b[m/                          \u001b[34mtestJupyter\u001b[m\u001b[m/\r\n",
      "demo1.db                       \u001b[34mtestPY\u001b[m\u001b[m/\r\n",
      "derby.log                      \u001b[34mtestppt\u001b[m\u001b[m/\r\n",
      "\u001b[34mgistest\u001b[m\u001b[m/                       \u001b[34mtestqt\u001b[m\u001b[m/\r\n",
      "\u001b[34mgitprojects\u001b[m\u001b[m/                   untitled\r\n",
      "\u001b[34mgits\u001b[m\u001b[m/                          wc.txt\r\n",
      "\u001b[34mguicode\u001b[m\u001b[m/                       \u001b[34mxgen\u001b[m\u001b[m/\r\n"
     ]
    }
   ],
   "source": [
    "%ls"
   ]
  },
  {
   "cell_type": "code",
   "execution_count": null,
   "metadata": {},
   "outputs": [],
   "source": []
  }
 ],
 "metadata": {
  "kernelspec": {
   "display_name": "Python 3",
   "language": "python",
   "name": "python3"
  },
  "language_info": {
   "codemirror_mode": {
    "name": "ipython",
    "version": 3
   },
   "file_extension": ".py",
   "mimetype": "text/x-python",
   "name": "python",
   "nbconvert_exporter": "python",
   "pygments_lexer": "ipython3",
   "version": "3.7.3"
  }
 },
 "nbformat": 4,
 "nbformat_minor": 2
}
