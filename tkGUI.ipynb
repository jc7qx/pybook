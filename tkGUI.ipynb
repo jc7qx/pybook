{
 "cells": [
  {
   "cell_type": "markdown",
   "metadata": {},
   "source": [
    "# Python GUI 程式設計"
   ]
  },
  {
   "cell_type": "markdown",
   "metadata": {},
   "source": [
    "## GUI簡介"
   ]
  },
  {
   "cell_type": "markdown",
   "metadata": {},
   "source": [
    "## tkinter 模組"
   ]
  },
  {
   "cell_type": "markdown",
   "metadata": {},
   "source": [
    "Python提供多個GUI模組，可以讓我們很方便地開發GUI應用程式。其中，最常使用的模組為tkinter，它內建於Pyhton程式語言，安裝完Python就能使用它來建立GUI應用程式，雖然它建立出的成果比較陽春，在功能上卻已完備。\n",
    "\n",
    "以tkinter模組建立應用程式，大概可分為四步驟：\n",
    "* 導入tkinter模組\n",
    "* 建立主視窗(容器)\n",
    "* 在主視窗上新增所需要的GUI控制元件\n",
    "* 設計及應用事件驅動邏輯於GUI中\n",
    "\n",
    "值得注意，在python 2.x版本中，tk模組名稱為「Tkinter」，在python 3.x的版本中，tk模組名稱為「tkinter」。\n",
    "\n",
    "**導入模組方式**\n",
    "\n",
    "1. import tkinter\n",
    "2. import tkinter as tk\n",
    "3. from tkinter import *"
   ]
  },
  {
   "cell_type": "markdown",
   "metadata": {},
   "source": [
    "### 建立主視窗"
   ]
  },
  {
   "cell_type": "code",
   "execution_count": null,
   "metadata": {},
   "outputs": [],
   "source": [
    "import tkinter\n",
    "win = tkinter.Tk()\n",
    "win.mainloop()"
   ]
  },
  {
   "cell_type": "markdown",
   "metadata": {},
   "source": [
    "* Tk()方法用來建立一個視窗，win=tkinter.Tk()建立主視窗，並將其存入win物件變數。\n",
    "* mainloop()是視窗的方法，它將執行一個無限迴圈，等待GUI事件發生。按下視窗右上方的關閉鈕，視窗才能關閉。\n",
    "* win是一個視窗，有時也可稱為「容器」(container)"
   ]
  },
  {
   "cell_type": "markdown",
   "metadata": {},
   "source": [
    "__視窗屬性__\n",
    "\n",
    "| 方法 | 說明 |\n",
    "|:-----:|:-----|\n",
    "| geometry(\"**width**x**height**+x+y\") | 設定視窗的寬、高，以及視窗位置座標 |\n",
    "| maxsize(width,height) | 拖曳時可以設定視窗的最大的寬與高 |\n",
    "| minsize(width,height) | 拖曳時可以設定視窗的最小的寬與高 |\n",
    "| configure(bg=\"color\") | 設定視窗的背景顏色 |\n",
    "| resizable(True,True) | 設定是否可以更改視窗大小 |\n"
   ]
  },
  {
   "cell_type": "code",
   "execution_count": 14,
   "metadata": {},
   "outputs": [
    {
     "name": "stdout",
     "output_type": "stream",
     "text": [
      "1440\n"
     ]
    }
   ],
   "source": [
    "# eg,\n",
    "from tkinter import *\n",
    "\n",
    "win = Tk()\n",
    "win.title(\"Jason's window\")\n",
    "win.geometry(\"320x240+250+100\") # ???\n",
    "win.configure(bg=\"skyblue\") #00ff33\n",
    "win.mainloop()"
   ]
  },
  {
   "cell_type": "markdown",
   "metadata": {},
   "source": [
    "* `win.winfo_screenwidth()`:螢幕寬度\n",
    "* `win.winfo_screenheight()`:螢幕高度"
   ]
  },
  {
   "cell_type": "markdown",
   "metadata": {},
   "source": [
    "### 標籤元件\n",
    "\n",
    "`Label()`可以在視窗中建立「文字」或「影像」標籤。\n",
    "\n",
    "> `Label(視窗容器，屬性...)`"
   ]
  },
  {
   "cell_type": "code",
   "execution_count": 17,
   "metadata": {},
   "outputs": [],
   "source": [
    "import tkinter\n",
    "win = tkinter.Tk()\n",
    "L1 = tkinter.Label(text=\"中華科技大學\", fg=\"red\")\n",
    "L1.pack()\n",
    "win.mainloop()"
   ]
  },
  {
   "cell_type": "markdown",
   "metadata": {},
   "source": [
    "|屬性        | 說明                   |                                             |                  \n",
    "|:---------:|:---------------------- |:--------------------------------------------|\n",
    "|bg         | 背景顏色                | \"white\", \"black\", \"red\", \"green\", \"blue\", \"cyan\", \"yellow\", and \"magenta\" |\n",
    "|fg         | 字型顏色                |  #ff00aa                                           |\n",
    "|width      | 標籤寬度，字元寬度為單位   |                                            |\n",
    "|height     | 標籤高度，字元高度為單位   |                                            |\n",
    "|anchor     | 標籤文字在標籤區域內輸出位置 | nw, w, sw, n, center, s, ne, e, se        |\n",
    "|wraplength | 標籤文字換行位置          |                                            |\n",
    "|font       | 字型屬性                |                                             |\n",
    "|justify    | 文字在標籤區對齊          | left, right, center                        |\n",
    "|bitmap     | 內建位元圖               |                                            |\n",
    "|compound   | 文字與圖像關係            |                                            |\n",
    "|relief     | 邊框效果                 | flat, groove, raised, ridge, solid, sunken |\n",
    "|padx/pady  | 標籤文字與標籤區域的間距   |                                             |"
   ]
  },
  {
   "cell_type": "code",
   "execution_count": 12,
   "metadata": {},
   "outputs": [],
   "source": [
    "#tkinter Tk()屬性練習\n",
    "from tkinter import *\n",
    "win = Tk()\n",
    "win.title(\"My window\")\n",
    "\n",
    "#建立標籤\n",
    "label = Label(text=\"中華科技大學\\n電子工程系\")\n",
    "label.pack() #元件佈放方式\n",
    "\n",
    "win.mainloop()"
   ]
  },
  {
   "cell_type": "code",
   "execution_count": 13,
   "metadata": {},
   "outputs": [],
   "source": [
    "from tkinter import *\n",
    "win = Tk()\n",
    "win.title(\"My window\")\n",
    "\n",
    "#改變標籤屬性\n",
    "label = Label(text=\"中華科技大學\\n電子工程系\",\n",
    "             fg=\"blue\", bg=\"yellow\",\n",
    "             height=3, width=30)\n",
    "label.pack() #元件佈放方式\n",
    "\n",
    "win.mainloop()"
   ]
  },
  {
   "cell_type": "code",
   "execution_count": 1,
   "metadata": {},
   "outputs": [
    {
     "ename": "NameError",
     "evalue": "name 'tkFont' is not defined",
     "output_type": "error",
     "traceback": [
      "\u001b[0;31m---------------------------------------------------------------------------\u001b[0m",
      "\u001b[0;31mNameError\u001b[0m                                 Traceback (most recent call last)",
      "\u001b[0;32m<ipython-input-1-9cc180de305c>\u001b[0m in \u001b[0;36m<module>\u001b[0;34m\u001b[0m\n\u001b[1;32m      5\u001b[0m \u001b[0;34m\u001b[0m\u001b[0m\n\u001b[1;32m      6\u001b[0m \u001b[0;31m#改變標籤屬性\u001b[0m\u001b[0;34m\u001b[0m\u001b[0;34m\u001b[0m\u001b[0m\n\u001b[0;32m----> 7\u001b[0;31m \u001b[0mhelv36\u001b[0m \u001b[0;34m=\u001b[0m \u001b[0mtkFont\u001b[0m\u001b[0;34m.\u001b[0m\u001b[0mFont\u001b[0m\u001b[0;34m(\u001b[0m\u001b[0mfamily\u001b[0m\u001b[0;34m=\u001b[0m\u001b[0;34m\"Helvetica\"\u001b[0m\u001b[0;34m,\u001b[0m\u001b[0msize\u001b[0m\u001b[0;34m=\u001b[0m\u001b[0;36m36\u001b[0m\u001b[0;34m,\u001b[0m\u001b[0mweight\u001b[0m\u001b[0;34m=\u001b[0m\u001b[0;34m\"bold\"\u001b[0m\u001b[0;34m)\u001b[0m\u001b[0;34m\u001b[0m\u001b[0m\n\u001b[0m\u001b[1;32m      8\u001b[0m label = Label(win, text=\"中華科技大學電子工程系\",\n\u001b[1;32m      9\u001b[0m              \u001b[0mfg\u001b[0m\u001b[0;34m=\u001b[0m\u001b[0;34m\"blue\"\u001b[0m\u001b[0;34m,\u001b[0m \u001b[0mbg\u001b[0m\u001b[0;34m=\u001b[0m\u001b[0;34m\"yellow\"\u001b[0m\u001b[0;34m,\u001b[0m\u001b[0;34m\u001b[0m\u001b[0m\n",
      "\u001b[0;31mNameError\u001b[0m: name 'tkFont' is not defined"
     ]
    }
   ],
   "source": [
    "from tkinter import *\n",
    "win = Tk()\n",
    "win.title(\"My window\")\n",
    "win.geometry(\"450x200+50+50\")\n",
    "\n",
    "#改變標籤屬性\n",
    "helv36 = tkFont.Font(family=\"Helvetica\",size=36,weight=\"bold\")\n",
    "label = Label(win, text=\"中華科技大學電子工程系\",\n",
    "             fg=\"blue\", bg=\"yellow\",\n",
    "             height=5, width=30,\n",
    "             anchor=\"w\",\n",
    "             wraplength=60,\n",
    "             font=helv36,\n",
    "             justify=\"right\",\n",
    "             relief=\"solid\")\n",
    "\n",
    "label.pack() #元件佈放方式\n",
    "\n",
    "win.mainloop()"
   ]
  },
  {
   "cell_type": "code",
   "execution_count": 2,
   "metadata": {},
   "outputs": [],
   "source": [
    "from tkinter import *\n",
    "\n",
    "win = Tk()\n",
    "win.title(\"My window\")\n",
    "win.geometry(\"450x200+50+50\")\n",
    "\n",
    "#改變標籤屬性\n",
    "label = Label(win, text=\"中華科技大學電子工程系\",\n",
    "             fg=\"blue\", bg=\"yellow\",\n",
    "             height=5, width=30,\n",
    "             anchor=\"w\",\n",
    "             wraplength=60,\n",
    "             justify=\"right\",\n",
    "             relief=\"solid\")\n",
    "\n",
    "label.pack() #元件佈放方式\n",
    "\n",
    "win.mainloop()"
   ]
  },
  {
   "cell_type": "code",
   "execution_count": 64,
   "metadata": {},
   "outputs": [],
   "source": [
    "from tkinter import *\n",
    "from tkinter.font import Font\n",
    "win = Tk()\n",
    "win.title(\"My window\")\n",
    "win.geometry(\"450x200+50+50\")\n",
    "\n",
    "#改變標籤屬性\n",
    "song36 = Font(family=\"Courier\",size=36,weight=\"bold\", underline='1')\n",
    "label = Label(win, text=\"中華科技大學電子工程系\",\n",
    "             fg=\"blue\", bg=\"yellow\",\n",
    "             height=5, width=30,\n",
    "             anchor=\"center\",\n",
    "             font=song36,\n",
    "             justify=\"right\",\n",
    "             relief=\"solid\")\n",
    "\n",
    "label.pack() #元件佈放方式\n",
    "\n",
    "win.mainloop()"
   ]
  },
  {
   "cell_type": "code",
   "execution_count": 47,
   "metadata": {},
   "outputs": [],
   "source": [
    "from tkinter import *\n",
    "win = Tk()\n",
    "win.title(\"My window\")\n",
    "win.geometry(\"450x200+50+50\")\n",
    "\n",
    "#改變標籤屬性\n",
    "label = Label(win, text=\"中華科技大學電子工程系\",\n",
    "             fg=\"blue\", bg=\"yellow\",\n",
    "             anchor=\"w\",\n",
    "             relief=\"sunken\",\n",
    "             padx=10,pady=10)\n",
    "#請將標籤擺在視窗中間\n",
    "\n",
    "label.pack() #元件佈放方式\n",
    "\n",
    "win.mainloop()"
   ]
  },
  {
   "cell_type": "markdown",
   "metadata": {},
   "source": [
    "### 視窗元件定位控制方法--pack\n",
    "\n",
    "`pack(options, ...)`\n",
    "\n",
    "* side\n",
    "    * TOP : 預設值，由上而下\n",
    "    * BOTTOM : 由下而上\n",
    "    * LEFT : 由左而右\n",
    "    * RIGHT : 由右而左"
   ]
  },
  {
   "cell_type": "code",
   "execution_count": 3,
   "metadata": {},
   "outputs": [],
   "source": [
    "from tkinter import *\n",
    "\n",
    "win = Tk()\n",
    "win.title(\"Pack demo\")\n",
    "lab1 = Label(win, text=\"中華科技大學\", bg=\"yellow\")\n",
    "lab2 = Label(win, text=\"中國科技大學\", bg=\"skyblue\")\n",
    "lab3 = Label(win, text=\"東南科技大學\", bg=\"lightgreen\")\n",
    "lab1.pack()\n",
    "lab2.pack()\n",
    "lab3.pack()\n",
    "win.mainloop()"
   ]
  },
  {
   "cell_type": "code",
   "execution_count": 3,
   "metadata": {},
   "outputs": [],
   "source": [
    "from tkinter import *\n",
    "\n",
    "win = Tk()\n",
    "win.title(\"Pack demo\")\n",
    "lab1 = Label(win, text=\"中華科技大學\", bg=\"yellow\")\n",
    "lab2 = Label(win, text=\"中國科技大學\", bg=\"skyblue\")\n",
    "lab3 = Label(win, text=\"東南科技大學\", bg=\"lightgreen\")\n",
    "lab1.pack(side=RIGHT)\n",
    "lab2.pack()\n",
    "lab3.pack()\n",
    "win.mainloop()"
   ]
  },
  {
   "cell_type": "code",
   "execution_count": 10,
   "metadata": {},
   "outputs": [],
   "source": [
    "from tkinter import *\n",
    "\n",
    "win = Tk()\n",
    "win.title(\"Pack demo\")\n",
    "\n",
    "lab1 = Label(win, text=\"中華科技大學\", bg=\"yellow\")\n",
    "lab2 = Label(win, text=\"中國科技大學\", bg=\"skyblue\")\n",
    "lab3 = Label(win, text=\"東南科技大學\", bg=\"lightgreen\")\n",
    "lab1.pack()\n",
    "lab2.pack(side=RIGHT)\n",
    "lab3.pack(side=LEFT)\n",
    "win.mainloop()"
   ]
  },
  {
   "cell_type": "code",
   "execution_count": 8,
   "metadata": {},
   "outputs": [],
   "source": [
    "from tkinter import *\n",
    "\n",
    "Reliefs = ['flat','groove','raised','ridge','solid','sunken']\n",
    "win = Tk()\n",
    "win.title(\"Relief demo\")\n",
    "win.geometry(\"450x100\")\n",
    "\n",
    "for relief in Reliefs:\n",
    "    Label(win, text=relief, relief=relief,\n",
    "         fg = 'blue',\n",
    "         font=\"Times 20 bold\").pack(side=LEFT)\n",
    "win.mainloop()"
   ]
  },
  {
   "cell_type": "code",
   "execution_count": 2,
   "metadata": {},
   "outputs": [],
   "source": [
    "from tkinter import *\n",
    "\n",
    "schools = [\"中華科技大學\",\"中國科技大學\",\"東南科技大學\"]\n",
    "colors = [\"yellow\",\"skyblue\",\"lightgreen\"]\n",
    "\n",
    "win = Tk()\n",
    "win.title(\"Pack demo\")\n",
    "\n",
    "i = 0\n",
    "for ss in schools:\n",
    "    Label(win,text=ss, bg=colors[i]).pack()\n",
    "    #Label(win,text=ss, bg=colors[i]).pack(pady=10)\n",
    "    #Label(win,text=ss, bg=colors[i]).pack(padx=10)\n",
    "    #Label(win,text=ss, bg=colors[i]).pack(padx=5, pady=5)\n",
    "    i += 1\n",
    "\n",
    "win.mainloop()"
   ]
  },
  {
   "cell_type": "markdown",
   "metadata": {},
   "source": [
    "### anchor\n",
    "\n",
    "* NW\n",
    "* W\n",
    "* SW\n",
    "* N\n",
    "* CENTER\n",
    "* S\n",
    "* NE\n",
    "* E\n",
    "* SE"
   ]
  },
  {
   "cell_type": "code",
   "execution_count": 1,
   "metadata": {},
   "outputs": [],
   "source": [
    "from tkinter import *\n",
    "\n",
    "schools = [\"中華科技大學\",\"中國科技大學\",\"東南科技大學\",\"台北城市科大\"]\n",
    "colors = [\"yellow\",\"skyblue\",\"lightgreen\"]\n",
    "\n",
    "win = Tk()\n",
    "win.geometry(\"500x500\")\n",
    "win.title(\"Pack demo\")\n",
    "\n",
    "x=Label(win, text=schools[0])\n",
    "x.pack(anchor=NW)\n",
    "Label(win, text=schools[1]).pack(anchor=SE)\n",
    "\n",
    "win.mainloop()"
   ]
  },
  {
   "cell_type": "code",
   "execution_count": 14,
   "metadata": {},
   "outputs": [],
   "source": [
    "from tkinter import *\n",
    "\n",
    "win = Tk()\n",
    "#win.geometry(\"400x400\")\n",
    "win.title(\"Pack demo\")\n",
    "\n",
    "lab1 = Label(win, text=\"中華科技大學\", bg=\"yellow\")\n",
    "lab2 = Label(win, text=\"中國科技大學\", bg=\"skyblue\")\n",
    "lab3 = Label(win, text=\"東南科技大學\", bg=\"lightgreen\")\n",
    "lab1.pack(fill=X)\n",
    "lab2.pack(side=LEFT)\n",
    "lab3.pack(side=LEFT)\n",
    "win.mainloop()"
   ]
  },
  {
   "cell_type": "markdown",
   "metadata": {},
   "source": [
    "### 按鈕元件"
   ]
  },
  {
   "cell_type": "code",
   "execution_count": null,
   "metadata": {},
   "outputs": [],
   "source": [
    "from tkinter import *\n",
    "win = Tk()\n",
    "L1 = Label(text=\"中華科技大學\")\n",
    "L1.pack()\n",
    "B1 = Button(text=\"請按我\")\n",
    "B1.pack()\n",
    "win.mainloop()"
   ]
  },
  {
   "cell_type": "markdown",
   "metadata": {},
   "source": [
    "Button 語法：\n",
    "\n",
    "`Button(master, options...)`\n",
    "\n",
    "```python\n",
    "button = Button(win, text=\"開始\")\n",
    "```\n",
    "\n",
    "\n",
    "|  屬性  |  說明    |\n",
    "|--------|---------|\n",
    "| boardwidth/bd | 邊框寬度  |\n",
    "| background/bg | 背景顏色  |\n",
    "| command    | 按下按鈕時，執行指定的方法  |\n",
    "| foreground/fg | 字型色彩  |\n",
    "| font | 字型 |\n",
    "| text | 按鈕名稱 |\n",
    "| image | 按鈕的圖形 |\n",
    "| padx | 按鈕與文字間的間隔 |\n",
    "| pady | 按鈕的上下間距 |\n",
    "| relief | 按鈕的外框類型 FLAT |\n",
    "| height | 按鈕高度，以字元為單位 |\n",
    "| width | 按鈕寬度 |\n",
    "| wraplength | 每一行的文字數 |\n",
    "\n"
   ]
  },
  {
   "cell_type": "code",
   "execution_count": 23,
   "metadata": {},
   "outputs": [],
   "source": [
    "from tkinter import *\n",
    "def msgShow():\n",
    "    label[\"text\"] = \"中華科技大學\"\n",
    "    label[\"bg\"] = \"yellow\"\n",
    "    label[\"fg\"] = \"blue\"    \n",
    "#   label.config(text=\"中華科技大學\", bg=\"yellow\", fg=\"blue\")\n",
    "win = Tk()\n",
    "label = Label(win)\n",
    "B1 = Button(win, text=\"請按我\",command=msgShow)\n",
    "B1.pack()\n",
    "label.pack()\n",
    "win.mainloop()"
   ]
  },
  {
   "cell_type": "code",
   "execution_count": 24,
   "metadata": {},
   "outputs": [],
   "source": [
    "from tkinter import *\n",
    "def msgShow():\n",
    "   label.config(text=\"中華科技大學\", bg=\"yellow\", fg=\"blue\")\n",
    "\n",
    "win = Tk()\n",
    "label = Label(win)\n",
    "B1 = Button(win, text=\"請按我\",command=msgShow)\n",
    "B2 = Button(win, text=\"離開\", command=win.destroy)\n",
    "label.pack()\n",
    "B1.pack(side=LEFT)\n",
    "B2.pack(side=LEFT)\n",
    "\n",
    "win.mainloop()"
   ]
  },
  {
   "cell_type": "markdown",
   "metadata": {},
   "source": [
    "### Grid 物件定位方式\n",
    "\n",
    "視窗元件以格子狀佈放"
   ]
  },
  {
   "cell_type": "markdown",
   "metadata": {},
   "source": [
    "#### 屬性\n",
    "\n",
    "* row、column\n",
    "\n",
    "-- |      c0         |       c1        |c2\n",
    "--|-----------------|-----------------|---------------------\n",
    "r0| row=0, column=0 | row=0, column=1 | row=0, column=2\n",
    "r1| row=1, column=0 | row=1, column=1 | row=1, column=2\n",
    "r2| row=2, column=0 | row=2, column=1 | row=2, column=2\n"
   ]
  },
  {
   "cell_type": "code",
   "execution_count": 8,
   "metadata": {},
   "outputs": [],
   "source": [
    "from tkinter import *\n",
    "win = Tk()\n",
    "\n",
    "lab1 = Label(win, text=\"電子工程系\", bg=\"yellow\")\n",
    "lab2 = Label(win, text=\"國際商務系\", bg=\"skyblue\")\n",
    "lab3 = Label(win, text=\"航空機械系\", bg=\"pink\")\n",
    "\n",
    "lab1.grid(row=0, column=1)\n",
    "lab2.grid(row=1, column=0)\n",
    "lab3.grid(row=1, column=1)\n",
    "\n",
    "win.mainloop()"
   ]
  },
  {
   "cell_type": "markdown",
   "metadata": {},
   "source": [
    "* rowspan, columnspan"
   ]
  },
  {
   "cell_type": "code",
   "execution_count": 19,
   "metadata": {},
   "outputs": [],
   "source": [
    "from tkinter import *\n",
    "win = Tk()\n",
    "\n",
    "lab1 = Label(win, text=\"電子工程系\", bg=\"yellow\")\n",
    "lab2 = Label(win, text=\"國際商務系\", bg=\"skyblue\")\n",
    "lab3 = Label(win, text=\"航空機械系\", bg=\"pink\")\n",
    "\n",
    "lab1.grid(row=0, column=0)\n",
    "lab2.grid(row=1, column=0)\n",
    "lab3.grid(row=1, column=1, columnspan=2)\n",
    "\n",
    "win.mainloop()"
   ]
  },
  {
   "cell_type": "code",
   "execution_count": 24,
   "metadata": {},
   "outputs": [],
   "source": [
    "from tkinter import *\n",
    "\n",
    "str = \"標籤\"\n",
    "win = Tk()\n",
    "win.geometry(\"+100+100\")\n",
    "\n",
    "label1 = Label(win, text=str+\"1\", relief=\"solid\")\n",
    "label2 = Label(win, text=str+\"2\", relief=\"solid\")\n",
    "label3 = Label(win, text=str+\"3\", relief=\"solid\")\n",
    "label4 = Label(win, text=str+\"4\", relief=\"solid\")\n",
    "label5 = Label(win, text=str+\"5\", relief=\"solid\")\n",
    "label6 = Label(win, text=str+\"6\", relief=\"solid\")\n",
    "label7 = Label(win, text=str+\"7\", relief=\"solid\")\n",
    "label8 = Label(win, text=str+\"8\", relief=\"solid\")\n",
    "\n",
    "label1.grid(row=0, column=0)\n",
    "label2.grid(row=0, column=1)\n",
    "label3.grid(row=0, column=2)\n",
    "label4.grid(row=0, column=3)\n",
    "label5.grid(row=1, column=0)\n",
    "label6.grid(row=1, column=1)\n",
    "label7.grid(row=1, column=2)\n",
    "label8.grid(row=1, column=3)\n",
    "\n",
    "win.mainloop()"
   ]
  },
  {
   "cell_type": "markdown",
   "metadata": {},
   "source": [
    "### 文字框\n",
    "\n",
    "`Entry`可以允許使用者輸入單行文字的單行文字輸入框，也可用為顯示單行文字訊息。如要避免更改文字框內容，也可以設定為「disabled」。`Entry`限制只能輸入單行文字，如果輸入的文字過長，可以使用「scrolling」方法在x軸使用卷軸來顯示文字，文字框內的文字字型必須一致。\n",
    "\n",
    "* show : 顯示輸入字元，例如 show=\"*\"，常用在密碼欄位輸入\n",
    "* textvariable : 文字變數\n",
    "* xcrollcommand : 在 x 軸使用卷軸"
   ]
  },
  {
   "cell_type": "code",
   "execution_count": 27,
   "metadata": {},
   "outputs": [],
   "source": [
    "import tkinter  \n",
    "win = tkinter.Tk() \n",
    "win.geometry(\"+50+100\")\n",
    "tkinter.Label(win, text='學號').grid(row=0) \n",
    "tkinter.Label(win, text='姓名').grid(row=1) \n",
    "e1 = tkinter.Entry(win) \n",
    "e2 = tkinter.Entry(win) \n",
    "e1.grid(row=0, column=1) \n",
    "e2.grid(row=1, column=1) \n",
    "win.mainloop() "
   ]
  },
  {
   "cell_type": "code",
   "execution_count": 32,
   "metadata": {},
   "outputs": [],
   "source": [
    "from tkinter import *  \n",
    "win = Tk() \n",
    "win.geometry(\"+50+100\")\n",
    "\n",
    "labelName = Label(win, text=\"姓名\")\n",
    "labelPassword = Label(win, text=\"密碼\")\n",
    "entryName = Entry(win)\n",
    "entryPassword = Entry(win, show=\"*\")#password display\n",
    "\n",
    "labelName.grid(row=0)\n",
    "labelPassword.grid(row=1) \n",
    "entryName.grid(row=0, column=1)\n",
    "entryPassword.grid(row=1, column=1)\n",
    "win.mainloop() "
   ]
  },
  {
   "cell_type": "markdown",
   "metadata": {},
   "source": [
    "#### `get()`"
   ]
  },
  {
   "cell_type": "code",
   "execution_count": 33,
   "metadata": {},
   "outputs": [
    {
     "name": "stdout",
     "output_type": "stream",
     "text": [
      "name: 鍾健雄 password: jjs5127\n"
     ]
    }
   ],
   "source": [
    "from tkinter import *  \n",
    "\n",
    "def printInfo():\n",
    "    print(\"name: \"+entryName.get()+\" password: \"+entryPassword.get())\n",
    "win = Tk() \n",
    "win.geometry(\"+50+100\")\n",
    "\n",
    "labelName = Label(win, text=\"姓名\")\n",
    "labelPassword = Label(win, text=\"密碼\")\n",
    "entryName = Entry(win)\n",
    "entryPassword = Entry(win, show=\"*\")#password display\n",
    "\n",
    "labelName.grid(row=0)\n",
    "labelPassword.grid(row=1) \n",
    "entryName.grid(row=0, column=1)\n",
    "entryPassword.grid(row=1, column=1)\n",
    "\n",
    "loginBtn = Button(win, text=\"LogIn\", command=printInfo)\n",
    "quitBtn = Button(win, text=\"Exit\", command=win.quit)\n",
    "loginBtn.grid(row=2, column=0)\n",
    "quitBtn.grid(row=2, column=1)\n",
    "win.mainloop() "
   ]
  },
  {
   "cell_type": "markdown",
   "metadata": {},
   "source": [
    "### CheckBox"
   ]
  },
  {
   "cell_type": "code",
   "execution_count": 9,
   "metadata": {},
   "outputs": [],
   "source": [
    "import tkinter \n",
    "win = tkinter.Tk() \n",
    "var1 = tkinter.IntVar() \n",
    "tkinter.Checkbutton(win, text='好人', variable=var1).grid(row=0) \n",
    "var2 = tkinter.IntVar() \n",
    "tkinter.Checkbutton(win, text='壞人', variable=var2).grid(row=1) \n",
    "win.mainloop() "
   ]
  },
  {
   "cell_type": "markdown",
   "metadata": {},
   "source": [
    "### 列表框"
   ]
  },
  {
   "cell_type": "code",
   "execution_count": 12,
   "metadata": {},
   "outputs": [],
   "source": [
    "import tkinter\n",
    "  \n",
    "win = tkinter.Tk() \n",
    "Lb = tkinter.Listbox(win) \n",
    "Lb.insert(1, 'Python') \n",
    "Lb.insert(2, 'Java') \n",
    "Lb.insert(3, 'C++') \n",
    "Lb.insert(4, 'Any other') \n",
    "Lb.pack() \n",
    "win.mainloop() "
   ]
  },
  {
   "cell_type": "markdown",
   "metadata": {},
   "source": [
    "### 訊息框"
   ]
  },
  {
   "cell_type": "code",
   "execution_count": 15,
   "metadata": {},
   "outputs": [],
   "source": [
    "import tkinter\n",
    "from tkinter import messagebox\n",
    "\n",
    "win = tkinter.Tk()\n",
    "mb = tkinter.messagebox.showinfo(\"成績公佈\",\"All Pass !!!\")\n",
    "win.mainloop()"
   ]
  },
  {
   "cell_type": "markdown",
   "metadata": {},
   "source": [
    "### 選項按鈕"
   ]
  },
  {
   "cell_type": "code",
   "execution_count": 17,
   "metadata": {},
   "outputs": [],
   "source": [
    "import tkinter\n",
    "\n",
    "win = tkinter.Tk()\n",
    "v = IntVar\n",
    "tkinter.Radiobutton(win, text='周杰倫', variable=v, value=1).pack(anchor=W) \n",
    "tkinter.Radiobutton(win, text='蔡依林', variable=v, value=2).pack(anchor=W) \n",
    "win.mainloop()"
   ]
  },
  {
   "cell_type": "markdown",
   "metadata": {},
   "source": [
    "### SpinBox"
   ]
  },
  {
   "cell_type": "code",
   "execution_count": 20,
   "metadata": {},
   "outputs": [],
   "source": [
    "import tkinter  \n",
    "master = Tk() \n",
    "w = tkinter.Spinbox(master, from_ = 0, to = 10) \n",
    "w.pack() \n",
    "mainloop()"
   ]
  },
  {
   "cell_type": "markdown",
   "metadata": {},
   "source": [
    "### 滑條"
   ]
  },
  {
   "cell_type": "code",
   "execution_count": 21,
   "metadata": {},
   "outputs": [],
   "source": [
    "import tkinter  \n",
    "master = tkinter.Tk() \n",
    "w = tkinter.Scale(master, from_=0, to=42) \n",
    "w.pack() \n",
    "w = tkinter.Scale(master, from_=0, to=200, orient=HORIZONTAL) \n",
    "w.pack() \n",
    "mainloop() "
   ]
  },
  {
   "cell_type": "code",
   "execution_count": null,
   "metadata": {},
   "outputs": [],
   "source": []
  },
  {
   "cell_type": "code",
   "execution_count": null,
   "metadata": {},
   "outputs": [],
   "source": [
    "from tkinter import *\n",
    "      \n",
    "root = Tk() \n",
    "menu = Menu(root) \n",
    "root.config(menu=menu) \n",
    "filemenu = Menu(menu) \n",
    "menu.add_cascade(label='File', menu=filemenu) \n",
    "filemenu.add_command(label='New') \n",
    "filemenu.add_command(label='Open...') \n",
    "filemenu.add_separator() \n",
    "filemenu.add_command(label='Exit', command=root.quit) \n",
    "helpmenu = Menu(menu) \n",
    "menu.add_cascade(label='Help', menu=helpmenu) \n",
    "helpmenu.add_command(label='About') \n",
    "mainloop() "
   ]
  },
  {
   "cell_type": "code",
   "execution_count": null,
   "metadata": {},
   "outputs": [],
   "source": []
  },
  {
   "cell_type": "code",
   "execution_count": null,
   "metadata": {},
   "outputs": [],
   "source": []
  },
  {
   "cell_type": "code",
   "execution_count": null,
   "metadata": {},
   "outputs": [],
   "source": []
  }
 ],
 "metadata": {
  "kernelspec": {
   "display_name": "Python 3",
   "language": "python",
   "name": "python3"
  },
  "language_info": {
   "codemirror_mode": {
    "name": "ipython",
    "version": 3
   },
   "file_extension": ".py",
   "mimetype": "text/x-python",
   "name": "python",
   "nbconvert_exporter": "python",
   "pygments_lexer": "ipython3",
   "version": "3.6.5"
  }
 },
 "nbformat": 4,
 "nbformat_minor": 2
}
