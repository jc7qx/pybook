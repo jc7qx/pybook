{
 "cells": [
  {
   "cell_type": "markdown",
   "metadata": {},
   "source": [
    "# Python GUI 程式設計"
   ]
  },
  {
   "cell_type": "markdown",
   "metadata": {},
   "source": [
    "## GUI簡介"
   ]
  },
  {
   "cell_type": "markdown",
   "metadata": {},
   "source": [
    "## tkinter 模組"
   ]
  },
  {
   "cell_type": "markdown",
   "metadata": {},
   "source": [
    "Python提供多個GUI模組，可以讓我們很方便地開發GUI應用程式。其中，最常使用的模組為tkinter，它內建於Pyhton程式語言，安裝完Python就能使用它來建立GUI應用程式，雖然它建立出的成果比較陽春，在功能上卻已完備。\n",
    "\n",
    "以tkinter模組建立應用程式，大概可分為四步驟：\n",
    "* 導入tkinter模組\n",
    "* 建立主視窗(容器)\n",
    "* 在主視窗上新增所需要的GUI控制元件\n",
    "* 設計及應用事件驅動邏輯於GUI中\n",
    "\n",
    "值得注意，在python 2.x版本中，tk模組名稱為「Tkinter」，在python 3.x的版本中，tk模組名稱為「tkinter」。\n",
    "\n",
    "**導入模組方式**\n",
    "\n",
    "1. import tkinter\n",
    "2. import tkinter as tk\n",
    "3. from tkinter import *"
   ]
  },
  {
   "cell_type": "markdown",
   "metadata": {},
   "source": [
    "### 建立主視窗"
   ]
  },
  {
   "cell_type": "code",
   "execution_count": null,
   "metadata": {},
   "outputs": [],
   "source": [
    "import tkinter\n",
    "win = tkinter.Tk()\n",
    "win.mainloop()"
   ]
  },
  {
   "cell_type": "markdown",
   "metadata": {},
   "source": [
    "* Tk()方法用來建立一個視窗，win=tkinter.Tk()建立主視窗，並將其存入win物件變數。\n",
    "* mainloop()是視窗的方法，它將執行一個無限迴圈，等待GUI事件發生。按下視窗右上方的關閉鈕，視窗才能關閉。\n",
    "* win是一個視窗，有時也可稱為「容器」(container)"
   ]
  },
  {
   "cell_type": "markdown",
   "metadata": {},
   "source": [
    "__視窗屬性__\n",
    "\n",
    "| 方法 | 說明 |\n",
    "|:-----:|:-----|\n",
    "| geometry(\"**width**x**height**+x+y\") | 設定視窗的寬、高，以及視窗位置座標 |\n",
    "| maxsize(width,height) | 拖曳時可以設定視窗的最大的寬與高 |\n",
    "| minsize(width,height) | 拖曳時可以設定視窗的最小的寬與高 |\n",
    "| configure(bg=\"color\") | 設定視窗的背景顏色 |\n",
    "| resizable(True,True) | 設定是否可以更改視窗大小 |\n"
   ]
  },
  {
   "cell_type": "code",
   "execution_count": 14,
   "metadata": {},
   "outputs": [
    {
     "name": "stdout",
     "output_type": "stream",
     "text": [
      "1440\n"
     ]
    }
   ],
   "source": [
    "# eg,\n",
    "from tkinter import *\n",
    "\n",
    "win = Tk()\n",
    "win.title(\"Jason's window\")\n",
    "win.geometry(\"320x240+250+100\") # ???\n",
    "win.configure(bg=\"skyblue\") #00ff33\n",
    "win.mainloop()"
   ]
  },
  {
   "cell_type": "markdown",
   "metadata": {},
   "source": [
    "* `win.winfo_screenwidth()`:螢幕寬度\n",
    "* `win.winfo_screenheight()`:螢幕高度"
   ]
  },
  {
   "cell_type": "markdown",
   "metadata": {},
   "source": [
    "### 標籤元件\n",
    "\n",
    "`Label()`可以在視窗中建立「文字」或「影像」標籤。\n",
    "\n",
    "> `Label(視窗容器，屬性...)`"
   ]
  },
  {
   "cell_type": "code",
   "execution_count": 17,
   "metadata": {},
   "outputs": [],
   "source": [
    "import tkinter\n",
    "win = tkinter.Tk()\n",
    "L1 = tkinter.Label(text=\"中華科技大學\", fg=\"red\")\n",
    "L1.pack()\n",
    "win.mainloop()"
   ]
  },
  {
   "cell_type": "markdown",
   "metadata": {},
   "source": [
    "|屬性        | 說明    |\n",
    "|:---------:|:---------------------- |\n",
    "|bg         | 背景顏色                |\n",
    "|fg         | 字型顏色                |\n",
    "|width      | 標籤寬度，字元寬度為單位   |\n",
    "|height     | 標籤高度，字元高度為單位   |\n",
    "|anchor     | 標籤文字在標籤區域內輸出位置 |\n",
    "|wraplength | 標籤文字換行位置          |\n",
    "|font       | 字型屬性                |\n",
    "|justify    | 文字在標籤區對齊          |\n",
    "|bitmap     | 內建位元圖               |\n",
    "|compound   | 文字與圖像關係            |\n",
    "|relief     | 邊框效果                 |\n",
    "|padx/pady  | 標籤文字與標籤區域的間距   |"
   ]
  },
  {
   "cell_type": "markdown",
   "metadata": {},
   "source": [
    "### 按鈕元件"
   ]
  },
  {
   "cell_type": "code",
   "execution_count": 3,
   "metadata": {},
   "outputs": [],
   "source": [
    "import tkinter\n",
    "win = tkinter.Tk()\n",
    "L1 = tkinter.Label(text=\"中華科技大學\")\n",
    "L1.pack()\n",
    "B1 = tkinter.Button(text=\"請按我\")\n",
    "B1.pack()\n",
    "win.mainloop()"
   ]
  },
  {
   "cell_type": "markdown",
   "metadata": {},
   "source": [
    "### CheckBox"
   ]
  },
  {
   "cell_type": "code",
   "execution_count": 9,
   "metadata": {},
   "outputs": [],
   "source": [
    "import tkinter \n",
    "win = tkinter.Tk() \n",
    "var1 = tkinter.IntVar() \n",
    "tkinter.Checkbutton(win, text='好人', variable=var1).grid(row=0) \n",
    "var2 = tkinter.IntVar() \n",
    "tkinter.Checkbutton(win, text='壞人', variable=var2).grid(row=1) \n",
    "win.mainloop() "
   ]
  },
  {
   "cell_type": "markdown",
   "metadata": {},
   "source": [
    "### 文字框"
   ]
  },
  {
   "cell_type": "code",
   "execution_count": 11,
   "metadata": {},
   "outputs": [],
   "source": [
    "import tkinter  \n",
    "win = tkinter.Tk() \n",
    "tkinter.Label(win, text='學號').grid(row=0) \n",
    "tkinter.Label(win, text='姓名').grid(row=1) \n",
    "e1 = tkinter.Entry(win) \n",
    "e2 = tkinter.Entry(win) \n",
    "e1.grid(row=0, column=1) \n",
    "e2.grid(row=1, column=1) \n",
    "win.mainloop() "
   ]
  },
  {
   "cell_type": "markdown",
   "metadata": {},
   "source": [
    "### 列表框"
   ]
  },
  {
   "cell_type": "code",
   "execution_count": 12,
   "metadata": {},
   "outputs": [],
   "source": [
    "import tkinter\n",
    "  \n",
    "win = tkinter.Tk() \n",
    "Lb = tkinter.Listbox(win) \n",
    "Lb.insert(1, 'Python') \n",
    "Lb.insert(2, 'Java') \n",
    "Lb.insert(3, 'C++') \n",
    "Lb.insert(4, 'Any other') \n",
    "Lb.pack() \n",
    "win.mainloop() "
   ]
  },
  {
   "cell_type": "markdown",
   "metadata": {},
   "source": [
    "### 訊息框"
   ]
  },
  {
   "cell_type": "code",
   "execution_count": 15,
   "metadata": {},
   "outputs": [],
   "source": [
    "import tkinter\n",
    "from tkinter import messagebox\n",
    "\n",
    "win = tkinter.Tk()\n",
    "mb = tkinter.messagebox.showinfo(\"成績公佈\",\"All Pass !!!\")\n",
    "win.mainloop()"
   ]
  },
  {
   "cell_type": "markdown",
   "metadata": {},
   "source": [
    "### 選項按鈕"
   ]
  },
  {
   "cell_type": "code",
   "execution_count": 17,
   "metadata": {},
   "outputs": [],
   "source": [
    "import tkinter\n",
    "\n",
    "win = tkinter.Tk()\n",
    "v = IntVar\n",
    "tkinter.Radiobutton(win, text='周杰倫', variable=v, value=1).pack(anchor=W) \n",
    "tkinter.Radiobutton(win, text='蔡依林', variable=v, value=2).pack(anchor=W) \n",
    "win.mainloop()"
   ]
  },
  {
   "cell_type": "markdown",
   "metadata": {},
   "source": [
    "### SpinBox"
   ]
  },
  {
   "cell_type": "code",
   "execution_count": 20,
   "metadata": {},
   "outputs": [],
   "source": [
    "import tkinter  \n",
    "master = Tk() \n",
    "w = tkinter.Spinbox(master, from_ = 0, to = 10) \n",
    "w.pack() \n",
    "mainloop()"
   ]
  },
  {
   "cell_type": "markdown",
   "metadata": {},
   "source": [
    "### 滑條"
   ]
  },
  {
   "cell_type": "code",
   "execution_count": 21,
   "metadata": {},
   "outputs": [],
   "source": [
    "import tkinter  \n",
    "master = tkinter.Tk() \n",
    "w = tkinter.Scale(master, from_=0, to=42) \n",
    "w.pack() \n",
    "w = tkinter.Scale(master, from_=0, to=200, orient=HORIZONTAL) \n",
    "w.pack() \n",
    "mainloop() "
   ]
  },
  {
   "cell_type": "code",
   "execution_count": null,
   "metadata": {},
   "outputs": [],
   "source": []
  },
  {
   "cell_type": "code",
   "execution_count": null,
   "metadata": {},
   "outputs": [],
   "source": [
    "from tkinter import *\n",
    "      \n",
    "root = Tk() \n",
    "menu = Menu(root) \n",
    "root.config(menu=menu) \n",
    "filemenu = Menu(menu) \n",
    "menu.add_cascade(label='File', menu=filemenu) \n",
    "filemenu.add_command(label='New') \n",
    "filemenu.add_command(label='Open...') \n",
    "filemenu.add_separator() \n",
    "filemenu.add_command(label='Exit', command=root.quit) \n",
    "helpmenu = Menu(menu) \n",
    "menu.add_cascade(label='Help', menu=helpmenu) \n",
    "helpmenu.add_command(label='About') \n",
    "mainloop() "
   ]
  },
  {
   "cell_type": "code",
   "execution_count": null,
   "metadata": {},
   "outputs": [],
   "source": []
  },
  {
   "cell_type": "code",
   "execution_count": null,
   "metadata": {},
   "outputs": [],
   "source": []
  },
  {
   "cell_type": "code",
   "execution_count": null,
   "metadata": {},
   "outputs": [],
   "source": []
  }
 ],
 "metadata": {
  "kernelspec": {
   "display_name": "Python 3",
   "language": "python",
   "name": "python3"
  },
  "language_info": {
   "codemirror_mode": {
    "name": "ipython",
    "version": 3
   },
   "file_extension": ".py",
   "mimetype": "text/x-python",
   "name": "python",
   "nbconvert_exporter": "python",
   "pygments_lexer": "ipython3",
   "version": "3.6.5"
  }
 },
 "nbformat": 4,
 "nbformat_minor": 2
}
