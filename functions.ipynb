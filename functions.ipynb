{
 "cells": [
  {
   "cell_type": "markdown",
   "metadata": {
    "slideshow": {
     "slide_type": "slide"
    }
   },
   "source": [
    "<center> <H1>第六章 函式與副程式</H1> </center>"
   ]
  },
  {
   "cell_type": "markdown",
   "metadata": {
    "slideshow": {
     "slide_type": "slide"
    }
   },
   "source": [
    "## 6.1 Python函式概論"
   ]
  },
  {
   "cell_type": "markdown",
   "metadata": {},
   "source": [
    "\n",
    "函式為每一個程式語言共同的部份，可以視為程式開發功能的基本元件。一般而言，可分為內建函式(Built-in functions)及使用者自訂函式(user-defined functions)。內建函式可以是標準或第三方程式庫的組成，自訂函式則可用來解決使用這所遭遇的特定問題。\n",
    "\n",
    "程式中建立及運用函式，可以想像成數學的函數，`y = f(x)`。f(x)是一個函數，如果給予適當的參數(x)，f(x)可以計算產生一個結果。程式中的函式也是如此，函式可視為一個黑盒子，給予它「輸入」(input)，經過黑盒子運作，產生可用的「輸出」(output)。\n",
    "\n",
    "函式是程式語言的一個結構化元件，它聚集一些程式碼，用來執行某一特定程式工作。函式使我們能夠重複使用程式碼，而不需要一再地拷貝及貼上程式。運用函式得宜，可以使撰寫的程式容易理解，使程式具有較佳的品質，且降低開發與維護程式成本。在不同的程式語言中，函式有不同的名稱，如副程式、方法、程序、...等。\n",
    "\n",
    "建立函式需要`def`的關鍵字，定義函式的語法如下\n",
    "\n",
    "```python\n",
    "def 函式名稱(參數列):\n",
    "    程式敘述\n",
    "```\n",
    "程式敘述可稱為函式主體(function body)，注意必須遵守內縮規則。參數列可有可無，即可以無參數或多個參數，如果有參數列定義，必須遵循參數資料型態及個數，否則會產生韓式呼叫錯誤。函式可以回傳結果值，回傳結果須使用`return`關鍵字。當函式主體碰到`return`關鍵字時，函式執行停止，回傳函式執行結果，執行結果在`return`之後，可以是常數、變數、運算式...等。"
   ]
  },
  {
   "cell_type": "markdown",
   "metadata": {},
   "source": [
    "### 函式典型呼叫"
   ]
  },
  {
   "cell_type": "code",
   "execution_count": 2,
   "metadata": {},
   "outputs": [
    {
     "name": "stdout",
     "output_type": "stream",
     "text": [
      "Hello Jason\n",
      "Hello Mary\n",
      "Hello Daniel\n"
     ]
    }
   ],
   "source": [
    "def hello(friend):\n",
    "    print(\"Hello\", friend)\n",
    "    \n",
    "hello(\"Jason\")\n",
    "hello(\"Mary\")\n",
    "hello(\"Daniel\")"
   ]
  },
  {
   "cell_type": "markdown",
   "metadata": {},
   "source": [
    "上例中，hello(friend)是一個函式，hello為函式名稱，friend為輸入參數。`print(\"Hello\", friend)`是函式主體，必須符合內縮規則，第1, 2行程式為函式定義，4, 5, 6行程式為函式呼叫(invoke)。例如，第4行呼叫函式，傳入參數「Jason」，程式進入函式第2行執行函式主體，列印「Hello Jason」。"
   ]
  },
  {
   "cell_type": "markdown",
   "metadata": {},
   "source": [
    "### 區域變數"
   ]
  },
  {
   "cell_type": "markdown",
   "metadata": {},
   "source": [
    "在函式內部出現的變數（包含輸入參數）稱為區域變數(Local variable)。區域變數的有效範圍只有在函式內部，離開函式就無法作用。如上例中，若在函式外部存取friend變數將產生「變數名稱未定義」(name 'friend' is not defined)錯誤。"
   ]
  },
  {
   "cell_type": "code",
   "execution_count": 3,
   "metadata": {},
   "outputs": [
    {
     "name": "stdout",
     "output_type": "stream",
     "text": [
      "Hello Jason\n",
      "Hello Mary\n",
      "Hello Daniel\n"
     ]
    },
    {
     "ename": "NameError",
     "evalue": "name 'friend' is not defined",
     "output_type": "error",
     "traceback": [
      "\u001b[0;31m---------------------------------------------------------------------------\u001b[0m",
      "\u001b[0;31mNameError\u001b[0m                                 Traceback (most recent call last)",
      "\u001b[0;32m<ipython-input-3-94d8b7ee27c7>\u001b[0m in \u001b[0;36m<module>\u001b[0;34m()\u001b[0m\n\u001b[1;32m      5\u001b[0m \u001b[0mhello\u001b[0m\u001b[0;34m(\u001b[0m\u001b[0;34m\"Mary\"\u001b[0m\u001b[0;34m)\u001b[0m\u001b[0;34m\u001b[0m\u001b[0m\n\u001b[1;32m      6\u001b[0m \u001b[0mhello\u001b[0m\u001b[0;34m(\u001b[0m\u001b[0;34m\"Daniel\"\u001b[0m\u001b[0;34m)\u001b[0m\u001b[0;34m\u001b[0m\u001b[0m\n\u001b[0;32m----> 7\u001b[0;31m \u001b[0mprint\u001b[0m\u001b[0;34m(\u001b[0m\u001b[0mfriend\u001b[0m\u001b[0;34m)\u001b[0m\u001b[0;34m\u001b[0m\u001b[0m\n\u001b[0m",
      "\u001b[0;31mNameError\u001b[0m: name 'friend' is not defined"
     ]
    }
   ],
   "source": [
    "def hello(friend):\n",
    "    print(\"Hello\", friend)\n",
    "    \n",
    "hello(\"Jason\")\n",
    "hello(\"Mary\")\n",
    "hello(\"Daniel\")\n",
    "print(friend)"
   ]
  },
  {
   "cell_type": "markdown",
   "metadata": {},
   "source": [
    "## 6.2 內建函式"
   ]
  },
  {
   "cell_type": "markdown",
   "metadata": {},
   "source": [
    "## 6.3 自訂函式"
   ]
  },
  {
   "cell_type": "markdown",
   "metadata": {},
   "source": [
    "使用者自訂函式是程式開發的建構元件，是構成程式結構的基本單元，針對程式執行的功能或特定的處理流程，可以寫成函式，函式提供多次使用，甚至可以被其他程式呼叫。程式以函式組成，使程式容易維護，容易理解，並可支援模組化設計。由於函式可以獨立開發，所以使程式開發可以分工，以加快開發時程。"
   ]
  },
  {
   "cell_type": "markdown",
   "metadata": {},
   "source": [
    "## 6.4 函式庫"
   ]
  },
  {
   "cell_type": "markdown",
   "metadata": {},
   "source": [
    "## 參考資料\n",
    "\n",
    "1. [Python course by Bernd Klein](https://www.python-course.eu/python3_functions.php)\n",
    "2. [Python for Everybody by Dr. Chuck](https://www.py4e.com/lessons/functions)\n",
    "3. [Learn Python Programming at Programiz](https://www.programiz.com/python-programming/function)"
   ]
  },
  {
   "cell_type": "code",
   "execution_count": null,
   "metadata": {
    "collapsed": true
   },
   "outputs": [],
   "source": []
  }
 ],
 "metadata": {
  "kernelspec": {
   "display_name": "Python 3",
   "language": "python",
   "name": "python3"
  },
  "language_info": {
   "codemirror_mode": {
    "name": "ipython",
    "version": 3
   },
   "file_extension": ".py",
   "mimetype": "text/x-python",
   "name": "python",
   "nbconvert_exporter": "python",
   "pygments_lexer": "ipython3",
   "version": "3.6.1"
  }
 },
 "nbformat": 4,
 "nbformat_minor": 2
}
