{
 "cells": [
  {
   "cell_type": "markdown",
   "metadata": {},
   "source": [
    "## 作業二解答"
   ]
  },
  {
   "cell_type": "markdown",
   "metadata": {},
   "source": [
    "### 1.下列哪一項不是python程式if 結構的關鍵字？\n",
    "    1. if\n",
    "    2. then\n",
    "    3. elif \n",
    "    4. else"
   ]
  },
  {
   "cell_type": "markdown",
   "metadata": {},
   "source": [
    "#### 解答：2"
   ]
  },
  {
   "cell_type": "markdown",
   "metadata": {},
   "source": [
    "### 2.已知以下程式結構\n",
    "```python\n",
    "if (條件判斷式1):\n",
    "    程式敘述1\n",
    "    程式敘述2\n",
    "else:\n",
    "    if (條件判斷式2):\n",
    "        程式敘述3\n",
    "        程式敘述4\n",
    "    else:\n",
    "        程式敘述5\n",
    "        程式敘述6\n",
    "    程式敘述7\n",
    "    程式敘述8\n",
    "程式敘述9\n",
    "程式敘述10\n",
    "```\n",
    "### 請問如果條件判斷式1的結果為False，條件判斷式2的結果為False，則請寫出本程式執行路徑？"
   ]
  },
  {
   "cell_type": "markdown",
   "metadata": {},
   "source": [
    "#### 解答：程式敘述5, 6, 7, 8, 9, 10"
   ]
  },
  {
   "cell_type": "markdown",
   "metadata": {},
   "source": [
    "### 3.判斷閏年問題\n",
    "  * 平年為365天，閏年為366天，閏年的二月有29天。閏年的判斷規則如下\n",
    "  * 西元年份除以4不可整除，為平年。\n",
    "  * 西元年份除以4可整除，且除以100不可整除，為閏年。\n",
    "  * 西元年份除以100可整除，且除以400不可整除，為平年\n",
    "  * 西元年份除以400可整除，為閏年。\n",
    "  \n",
    "### (1)\t請依據上述規則畫出程式流程圖。\n",
    "\n",
    "### (2)\t請依據上述規則寫出python程式。\n"
   ]
  },
  {
   "cell_type": "code",
   "execution_count": null,
   "metadata": {},
   "outputs": [],
   "source": []
  },
  {
   "cell_type": "code",
   "execution_count": null,
   "metadata": {},
   "outputs": [],
   "source": [
    "y = int(input(\"輸入年份 : \"))\n",
    "if y%4==0:\n",
    "    if y%100==0:\n",
    "        if y%400==0:\n",
    "            print(\"{}是閏年\".format(y))\n",
    "        else:\n",
    "            print(\"{}不是閏年\".format(y))\n",
    "    else:\n",
    "        print(\"{}是閏年\".format(y))\n",
    "else:\n",
    "    print(\"{}不是閏年\".format(y))"
   ]
  },
  {
   "cell_type": "markdown",
   "metadata": {},
   "source": [
    "### 4.請問以下程式有什麼錯誤？"
   ]
  },
  {
   "cell_type": "code",
   "execution_count": null,
   "metadata": {},
   "outputs": [],
   "source": [
    "moneyBox = 0\n",
    "day = 1\n",
    "while day <= 10:\n",
    "    moneyBox = moneyBox + day\n",
    "print(\"小明總共存了{}元\".format(moneyBox))"
   ]
  },
  {
   "cell_type": "markdown",
   "metadata": {},
   "source": [
    "#### 解答：變數day必須在while迴圈中更新，例如 day = day + 1，否則可能產生無限迴圈問題"
   ]
  },
  {
   "cell_type": "markdown",
   "metadata": {},
   "source": [
    "### 5.如果想將結果列印乘一列，請問第2行要什麼python指令？"
   ]
  },
  {
   "cell_type": "code",
   "execution_count": null,
   "metadata": {},
   "outputs": [],
   "source": [
    "for i in range(1, 17, 3):\n",
    "    #在此插入正確的程式碼\n",
    "print(\"\\n\")"
   ]
  },
  {
   "cell_type": "markdown",
   "metadata": {},
   "source": [
    "#### 解答：`print(i, end= \" \")`"
   ]
  },
  {
   "cell_type": "markdown",
   "metadata": {},
   "source": [
    "### 6.執行下列程式碼可以產生一個1到n的正整數數列"
   ]
  },
  {
   "cell_type": "code",
   "execution_count": null,
   "metadata": {},
   "outputs": [],
   "source": [
    "n = int(input(\"input a number: \"))\n",
    "for i in range(1, n+1):\n",
    "    print(i, end=\" \")\n",
    "print(\"\\n\")"
   ]
  },
  {
   "cell_type": "markdown",
   "metadata": {},
   "source": [
    "### 請問第2行的n為何要+1?"
   ]
  },
  {
   "cell_type": "markdown",
   "metadata": {},
   "source": [
    "#### 解答：因為range(1, n)產生1..n-1的數列，因此要產生1..n序列，必須定義range(1, n+1)"
   ]
  },
  {
   "cell_type": "markdown",
   "metadata": {},
   "source": [
    "### 7.以下為判斷質數的python程式，請問"
   ]
  },
  {
   "cell_type": "code",
   "execution_count": null,
   "metadata": {},
   "outputs": [],
   "source": [
    "n = int(input(\"輸入一個整數：\"))\n",
    "is_prime = True\n",
    "for i in range(2, n//2+1):\n",
    "    if n%i==0:\n",
    "        is_prime = False\n",
    "        break\n",
    "if is_prime == True:\n",
    "    print(\"{}是質數\".format(n))\n",
    "else:\n",
    "    print(\"{}不是質數\".format(n))"
   ]
  },
  {
   "attachments": {},
   "cell_type": "markdown",
   "metadata": {},
   "source": [
    "### (1)第3行，(n+1)//2有何意義？使得檢查的次數只需一半次數\n",
    "### (2)第6行，break有何意義？跳出迴圈"
   ]
  },
  {
   "attachments": {},
   "cell_type": "markdown",
   "metadata": {},
   "source": [
    "#### 解答：(1) 使得檢查的次數只需一半次數 (2)跳出迴圈"
   ]
  },
  {
   "attachments": {},
   "cell_type": "markdown",
   "metadata": {},
   "source": [
    "### 8.請問以下格式化列印字串中「^」有何意義？列印結果為何？\n",
    "<center><h3>`print(“{:^10s}”.format(“jason”))`</h3></cener>"
   ]
  },
  {
   "cell_type": "markdown",
   "metadata": {},
   "source": [
    "#### 解答：列印結果置中對齊"
   ]
  },
  {
   "attachments": {},
   "cell_type": "markdown",
   "metadata": {},
   "source": [
    "### 9.下列結果，何者正確？\n",
    "```python\n",
    "L1 = range(5, -1, -2)\n",
    "print(list(l1))\n",
    "```"
   ]
  },
  {
   "cell_type": "markdown",
   "metadata": {},
   "source": [
    "#### 解答：[5, 3, 1]"
   ]
  },
  {
   "attachments": {},
   "cell_type": "markdown",
   "metadata": {},
   "source": [
    "### 10.執行下列程式後，total的值為多少？"
   ]
  },
  {
   "cell_type": "code",
   "execution_count": 2,
   "metadata": {},
   "outputs": [
    {
     "name": "stdout",
     "output_type": "stream",
     "text": [
      "120\n"
     ]
    }
   ],
   "source": [
    "total, i, n = 1, 1, 5\n",
    "while i<= n:\n",
    "    total = total*i\n",
    "    i = i+1\n",
    "print(total)"
   ]
  },
  {
   "cell_type": "markdown",
   "metadata": {},
   "source": [
    "#### 解答：120"
   ]
  }
 ],
 "metadata": {
  "kernelspec": {
   "display_name": "Python 3",
   "language": "python",
   "name": "python3"
  },
  "language_info": {
   "codemirror_mode": {
    "name": "ipython",
    "version": 3
   },
   "file_extension": ".py",
   "mimetype": "text/x-python",
   "name": "python",
   "nbconvert_exporter": "python",
   "pygments_lexer": "ipython3",
   "version": "3.6.5"
  }
 },
 "nbformat": 4,
 "nbformat_minor": 2
}
