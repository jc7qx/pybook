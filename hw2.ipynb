{
 "cells": [
  {
   "attachments": {},
   "cell_type": "markdown",
   "metadata": {},
   "source": [
    "### 1.下列哪一項不是python程式if 結構的關鍵字？(1) if **(2) then** (3) elif (4) else"
   ]
  },
  {
   "cell_type": "markdown",
   "metadata": {},
   "source": [
    "#### 解答：2"
   ]
  },
  {
   "attachments": {},
   "cell_type": "markdown",
   "metadata": {},
   "source": [
    "### 2.已知以下程式結構\n",
    "```python\n",
    "if (條件判斷式1):\n",
    "    程式敘述1\n",
    "    程式敘述2\n",
    "else:\n",
    "    if (條件判斷式2):\n",
    "        程式敘述3\n",
    "        程式敘述4\n",
    "    else:\n",
    "        程式敘述5\n",
    "        程式敘述6\n",
    "    程式敘述7\n",
    "    程式敘述8\n",
    "程式敘述9\n",
    "程式敘述10\n",
    "```\n",
    "請問如果條件判斷式1的結果為False，條件判斷式2的結果為False，則請寫出本程式執行路徑？"
   ]
  },
  {
   "cell_type": "markdown",
   "metadata": {},
   "source": [
    "#### 解答：程式敘述5, 6, 7, 8, 9, 10"
   ]
  },
  {
   "attachments": {},
   "cell_type": "markdown",
   "metadata": {},
   "source": [
    "### 3.判斷閏年問題\n",
    "  * 平年為365天，閏年為366天，閏年的二月有29天。閏年的判斷規則如下\n",
    "  * 西元年份除以4不可整除，為平年。\n",
    "  * 西元年份除以4可整除，且除以100不可整除，為閏年。\n",
    "  * 西元年份除以100可整除，且除以400不可整除，為平年\n",
    "  * 西元年份除以400可整除，為閏年。\n",
    "  \n",
    "(1)\t請依據上述規則畫出程式流程圖。\n",
    "\n",
    "(2)\t請依據上述規則寫出python程式。\n"
   ]
  },
  {
   "cell_type": "code",
   "execution_count": null,
   "metadata": {},
   "outputs": [],
   "source": []
  },
  {
   "cell_type": "code",
   "execution_count": null,
   "metadata": {},
   "outputs": [],
   "source": [
    "y = int(input(\"輸入年份 : \"))\n",
    "if y%4==0:\n",
    "    if y%100==0:\n",
    "        if y%400==0:\n",
    "            print(\"{}是閏年\".format(y))\n",
    "        else:\n",
    "            print(\"{}不是閏年\".format(y))\n",
    "    else:\n",
    "        print(\"{}是閏年\".format(y))\n",
    "else:\n",
    "    print(\"{}不是閏年\".format(y))"
   ]
  },
  {
   "attachments": {},
   "cell_type": "markdown",
   "metadata": {},
   "source": [
    "### 4.請問以下程式有什麼錯誤？"
   ]
  },
  {
   "cell_type": "code",
   "execution_count": null,
   "metadata": {},
   "outputs": [],
   "source": [
    "moneyBox = 0\n",
    "day = 1\n",
    "while day <= 10:\n",
    "    moneyBox = moneyBox + day\n",
    "print(\"小明總共存了{}元\".format(moneyBox))"
   ]
  },
  {
   "cell_type": "markdown",
   "metadata": {},
   "source": [
    "#### 解答：變數day必須在while迴圈中更新，例如 day = day + 1，否則可能產生無限迴圈問題"
   ]
  },
  {
   "attachments": {},
   "cell_type": "markdown",
   "metadata": {},
   "source": [
    "### 5.如果想將結果列印乘一列，請問第2行要什麼python指令？"
   ]
  },
  {
   "cell_type": "code",
   "execution_count": null,
   "metadata": {},
   "outputs": [],
   "source": [
    "for i in range(1, 17, 3):\n",
    "    #在此插入正確的程式碼\n",
    "print(\"\\n\")"
   ]
  },
  {
   "cell_type": "markdown",
   "metadata": {},
   "source": [
    "#### 解答：`print(i, end= \" \")`"
   ]
  },
  {
   "attachments": {},
   "cell_type": "markdown",
   "metadata": {},
   "source": [
    "### 6.執行下列程式碼可以產生一個1到n的正整數數列"
   ]
  },
  {
   "cell_type": "code",
   "execution_count": null,
   "metadata": {},
   "outputs": [],
   "source": [
    "n = int(input(\"input a number: \"))\n",
    "for i in range(1, n+1):\n",
    "    print(i, end=\" \")\n",
    "print(\"\\n\")"
   ]
  },
  {
   "attachments": {},
   "cell_type": "markdown",
   "metadata": {},
   "source": [
    "### 請問第2行的n為何要+1?"
   ]
  },
  {
   "cell_type": "markdown",
   "metadata": {},
   "source": [
    "#### 解答：因為range(1, n)產生1..n-1的數列，因此要產生1..n序列，必須定義range(1, n+1)"
   ]
  },
  {
   "cell_type": "code",
   "execution_count": null,
   "metadata": {},
   "outputs": [],
   "source": []
  }
 ],
 "metadata": {
  "kernelspec": {
   "display_name": "Python 3",
   "language": "python",
   "name": "python3"
  },
  "language_info": {
   "codemirror_mode": {
    "name": "ipython",
    "version": 3
   },
   "file_extension": ".py",
   "mimetype": "text/x-python",
   "name": "python",
   "nbconvert_exporter": "python",
   "pygments_lexer": "ipython3",
   "version": "3.6.5"
  }
 },
 "nbformat": 4,
 "nbformat_minor": 2
}
