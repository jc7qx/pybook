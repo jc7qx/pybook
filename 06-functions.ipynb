{
 "cells": [
  {
   "cell_type": "markdown",
   "metadata": {
    "slideshow": {
     "slide_type": "slide"
    }
   },
   "source": [
    "<center> <H1>第六章 函式與函式庫</H1> </center>"
   ]
  },
  {
   "cell_type": "markdown",
   "metadata": {
    "slideshow": {
     "slide_type": "slide"
    }
   },
   "source": [
    "## 6.1 Python函式概論"
   ]
  },
  {
   "cell_type": "markdown",
   "metadata": {},
   "source": [
    "\n",
    "函式(functions)為程式語言重要的組成之一，為程式功能的基本元件。程序式程式語言(procedure language)的基本程式單元，也就是說，程式是由函式所組成，例如C語言，由函式組成其程式結構，其中`main()`函式，是程式執行的起始點。\n",
    "\n",
    "一般而言，函式可分為內建函式(Built-in functions)及使用者自訂函式(user-defined functions)。內建函式是標準函式庫或第三方程式庫所組成，自訂函式是由使用者自己創建的函式，可用來解決使用者所遭遇的特定問題。\n",
    "\n",
    "程式中建立及運用函式，可以想像成數學的函數，`y = f(x)`。f(x)是一個函數，如果給予適當的參數(x)，f(x)可以計算產生一個結果。程式中的函式也是如此，函式可視為一個黑盒子，給予它「輸入」(input)，經過黑盒子運作，產生可用的「輸出」(output)。\n",
    "\n",
    "函式是程式語言的一個結構化元件，它集合一些程式碼，用來執行某一特定程式功能。函式使我們能夠重複使用程式碼，而不需要一再地拷貝及貼上程式。正確地運用函式，可以使程式容易理解，使程式具有較佳的執行品質，且可降低開發與維護程式的成本。在不同的程式語言中，函式有不同的名稱，如副程式、方法、程序、...等。\n",
    "\n",
    "建立函式需要`def`的關鍵字，定義函式的語法如下\n",
    "\n",
    "```python\n",
    "def 函式名稱(參數列):\n",
    "    程式敘述\n",
    "```\n",
    "程式敘述可稱為函式主體(function body)，注意必須遵守**內縮規則**。參數列可以無參數或多個參數，如果有參數列定義，必須遵循參數資料型態及個數，否則會產生函式呼叫錯誤。函式可以回傳結果值，回傳結果須使用`return`關鍵字。當函式主體碰到`return`關鍵字時，函式執行停止，回傳函式執行結果，執行結果定義在`return`之後，可以是常數、變數、運算式...等。"
   ]
  },
  {
   "cell_type": "markdown",
   "metadata": {},
   "source": [
    "### 函式呼叫\n",
    "\n",
    "當定義完成一個函式後，接下來的程式中就可以「呼叫」(call)函式，執行所賦予它的功能。利用，以下的範例中定義一個`hello(friend)`的函式，呼叫此函式時，給予它一個「朋友」參數，就可列印出「打招呼」的信息。例如，`hello(\"jason\")`，將列印出`Hello, jason`。"
   ]
  },
  {
   "cell_type": "code",
   "execution_count": 1,
   "metadata": {},
   "outputs": [
    {
     "name": "stdout",
     "output_type": "stream",
     "text": [
      "Hello Jason\n",
      "Hello Mary\n",
      "Hello Daniel\n"
     ]
    }
   ],
   "source": [
    "def hello(friend): #定義一個函式，名稱為hello，有一個輸入參數friend\n",
    "    print(\"Hello\", friend) #friend為一區域參數，只在hello函式中有作用\n",
    "    \n",
    "hello(\"Jason\") #呼叫hello()函式，傳入\"Jason\"，令friend='Jason'\n",
    "hello(\"Mary\")  #呼叫hello()函式，傳入\"Mary\"，令friend='Mary'\n",
    "hello(\"Daniel\")#呼叫hello()函式，傳入\"Daniel\"，令friend='Daniel'"
   ]
  },
  {
   "cell_type": "markdown",
   "metadata": {},
   "source": [
    "上例中，hello(friend)是一個函式，hello為函式名稱，friend為輸入參數。`print(\"Hello\", friend)`是函式主體，必須符合內縮規則，第1, 2行程式為函式定義，4, 5, 6行程式為函式呼叫(invoke)。例如，第4行呼叫函式，傳入參數「Jason」，程式進入函式第2行執行函式主體，列印「Hello Jason」。"
   ]
  },
  {
   "cell_type": "markdown",
   "metadata": {},
   "source": [
    "### 區域變數"
   ]
  },
  {
   "cell_type": "markdown",
   "metadata": {},
   "source": [
    "在函式內部出現的變數（包含輸入參數）稱為「區域變數」(Local variable)。區域變數的有效範圍只有在函式內部，離開函式就無法作用。如上例中，若在函式外部存取friend變數將產生「變數名稱未定義」(name 'friend' is not defined)錯誤。"
   ]
  },
  {
   "cell_type": "code",
   "execution_count": 1,
   "metadata": {},
   "outputs": [
    {
     "name": "stdout",
     "output_type": "stream",
     "text": [
      "Hello Jason\n",
      "Jason\n",
      "Hello Mary\n",
      "Mary\n",
      "Hello Daniel\n",
      "Daniel\n"
     ]
    },
    {
     "ename": "NameError",
     "evalue": "name 'friend' is not defined",
     "output_type": "error",
     "traceback": [
      "\u001b[0;31m---------------------------------------------------------------------------\u001b[0m",
      "\u001b[0;31mNameError\u001b[0m                                 Traceback (most recent call last)",
      "\u001b[0;32m<ipython-input-1-52958003b6b5>\u001b[0m in \u001b[0;36m<module>\u001b[0;34m\u001b[0m\n\u001b[1;32m      6\u001b[0m \u001b[0mhello\u001b[0m\u001b[0;34m(\u001b[0m\u001b[0;34m\"Mary\"\u001b[0m\u001b[0;34m)\u001b[0m\u001b[0;34m\u001b[0m\u001b[0m\n\u001b[1;32m      7\u001b[0m \u001b[0mhello\u001b[0m\u001b[0;34m(\u001b[0m\u001b[0;34m\"Daniel\"\u001b[0m\u001b[0;34m)\u001b[0m\u001b[0;34m\u001b[0m\u001b[0m\n\u001b[0;32m----> 8\u001b[0;31m \u001b[0mprint\u001b[0m\u001b[0;34m(\u001b[0m\u001b[0mfriend\u001b[0m\u001b[0;34m)\u001b[0m \u001b[0;31m#產生「變數未定義」錯誤\u001b[0m\u001b[0;34m\u001b[0m\u001b[0m\n\u001b[0m",
      "\u001b[0;31mNameError\u001b[0m: name 'friend' is not defined"
     ]
    }
   ],
   "source": [
    "def hello(friend):\n",
    "    print(\"Hello\", friend)\n",
    "    print(friend)\n",
    "    \n",
    "hello(\"Jason\")\n",
    "hello(\"Mary\")\n",
    "hello(\"Daniel\")\n",
    "print(friend) #產生「變數未定義」錯誤"
   ]
  },
  {
   "cell_type": "markdown",
   "metadata": {},
   "source": [
    "## 6.2 內建函式"
   ]
  },
  {
   "cell_type": "markdown",
   "metadata": {},
   "source": [
    "隨著Pyhton程式語言安裝，Python提供一些有用的函式，這些函式稱為內建函式(built-in functions)。例如，常用的列印執行結果的`print()`函式、可以轉換整數資料型別的`int()`函式等。Pyhton程式語言3.6版本提供68個內建函式，請參考[內建函式一欄表](https://www.programiz.com/python-programming/methods/built-in)。使用內建函式時，應注意函式的輸入參數定義及輸出定義與格式。"
   ]
  },
  {
   "cell_type": "markdown",
   "metadata": {},
   "source": [
    "<center>**轉換函式**</center>\n",
    "\n",
    "名稱   |  功能  |  範例  |  結果\n",
    ":----|:-------|--------|-------|\n",
    "int()   | 整數轉換 | int('99')  |  99\n",
    "float() | 浮點數轉換   |  float('3.14')  | 3.14\n",
    "bin()   | 轉換為二進位字串 | bin(99) | '0b1100011'\n",
    "oct()   | 轉換為八進位字串 | oct(99) | '0o143'\n",
    "hex()   | 轉換為十六進位字串 | hex(A9) | '0x63'\n",
    "bool()  | 轉換為布林值    | bool(100) | True\n",
    "str()   | 轉換為字串       | str(99) | '99'\n",
    "chr()   | 轉換ASCII碼為字元 | chr(88) | 'X'\n",
    "ord()   | 轉換字元為ASCII碼 | ord('X') | 88\n",
    "<cr>\n",
    "<center>**數值運算**</center>\n",
    "\n",
    "名稱   |  功能  |  範例  |  結果\n",
    ":----:|:-------|--------|-------|\n",
    "round()  | 無條件捨去小數 | round(3.14) | 3\n",
    "pow()    | 乘方計算      | pow(3,2)    | 9\n",
    "abs()    | 絕對值        | abs(-99)  | 99\n",
    "divmod() | 除法求商及餘數 | divmod(55,23) | (2,9)\n",
    "max()    | 最大值        | max([1, 3, 5, 7]) | 7\n",
    "min()    | 最小值        | min([3, 5, 2, 8]) | 2\n",
    "sum()    | 總和          | sum([2, 5, 3, 4]) | 14"
   ]
  },
  {
   "cell_type": "code",
   "execution_count": 28,
   "metadata": {},
   "outputs": [
    {
     "data": {
      "text/plain": [
       "88"
      ]
     },
     "execution_count": 28,
     "metadata": {},
     "output_type": "execute_result"
    }
   ],
   "source": [
    "ord('X') #字元的ASCII碼"
   ]
  },
  {
   "cell_type": "code",
   "execution_count": 2,
   "metadata": {},
   "outputs": [
    {
     "name": "stdout",
     "output_type": "stream",
     "text": [
      "4\n",
      "3.14\n"
     ]
    }
   ],
   "source": [
    "#round()內建函式\n",
    "print(round(3.54159)) #四捨五入\n",
    "print(round(3.14159, 2)) #取小數點二位小數"
   ]
  },
  {
   "cell_type": "code",
   "execution_count": 30,
   "metadata": {},
   "outputs": [
    {
     "name": "stdout",
     "output_type": "stream",
     "text": [
      "A B C D E F G H I J K L M N O P Q R S T U V W X Y Z \n",
      "\n",
      "97 98 99 100 101 102 103 104 105 106 107 108 109 110 111 112 113 115 116 114 117 118 120 121 122 \n",
      "\n"
     ]
    }
   ],
   "source": [
    "#chr()與ord()內建函式\n",
    "for i in range(65, 91):\n",
    "    print(chr(i), end=\" \") #ascii轉字元\n",
    "print('\\n')\n",
    "for j in ['a','b','c','d','e','f','g','h','i','j','k','l','m','n','o','p','q','s','t','r','u','v','x','y','z']:\n",
    "    print(ord(j), end=\" \")\n",
    "print('\\n')"
   ]
  },
  {
   "cell_type": "markdown",
   "metadata": {},
   "source": [
    "## 6.3 自訂函式"
   ]
  },
  {
   "cell_type": "markdown",
   "metadata": {},
   "source": [
    "使用者自訂函式是程式開發的建構元件，是構成程式結構的基本單元，針對程式執行的功能或特定的處理流程，可以寫成函式，函式提供多次使用，甚至可以被其他程式呼叫。程式以函式組成，使程式容易維護，容易理解，並可支援模組化設計。由於函式可以獨立開發，所以使程式開發可以分工，以加快開發時程。\n",
    "\n",
    "### 定義函式\n",
    "\n",
    "```python\n",
    "def 函式名稱(輸入參數列):\n",
    "    程式敘述1\n",
    "    程式敘述2\n",
    "    .....\n",
    "    [return]\n",
    "```"
   ]
  },
  {
   "cell_type": "markdown",
   "metadata": {},
   "source": [
    "使用者自訂函式須使用`def`關鍵字，函式的名稱須有意義，名稱後加上小括號，括號內包含輸入參數列，可以沒有參數或多個參數。如有多個參數，須用逗點「,」隔開輸入參數。例如，`def func(x1, x2, x3)`。小括號後一定要加「:」符號。函式內部的程式敘述要遵守內縮規則。如果函式有輸出項，則須要`return`關鍵字。函式的執行碰到`return`關鍵字，則停止執行，跳出函式。"
   ]
  },
  {
   "cell_type": "code",
   "execution_count": 1,
   "metadata": {},
   "outputs": [
    {
     "name": "stdout",
     "output_type": "stream",
     "text": [
      "Hello\n",
      "Hello\n",
      "Hello\n",
      "Hello\n",
      "Hello\n"
     ]
    }
   ],
   "source": [
    "#範例一\n",
    "def sayHello():\n",
    "    print(\"Hello\")\n",
    "for i in range(5):\n",
    "    sayHello()"
   ]
  },
  {
   "cell_type": "code",
   "execution_count": 4,
   "metadata": {},
   "outputs": [
    {
     "name": "stdout",
     "output_type": "stream",
     "text": [
      "5+6=11\n",
      "100+500=600\n"
     ]
    }
   ],
   "source": [
    "#範例二：二整數相加(有輸入參數)\n",
    "def addTwo(x, y):\n",
    "    print(\"{}+{}={}\".format(x, y, x+y))\n",
    "addTwo(5, 6)\n",
    "addTwo(100, 500)"
   ]
  },
  {
   "cell_type": "code",
   "execution_count": 8,
   "metadata": {},
   "outputs": [
    {
     "name": "stdout",
     "output_type": "stream",
     "text": [
      "輸入一個數字：11\n",
      "11的平方根為3.3166247903554\n"
     ]
    }
   ],
   "source": [
    "#範例三：回傳二整數相加(有輸入參數)\n",
    "def sqRoot(x):\n",
    "    return x**(1/2)\n",
    "n = int(input(\"輸入一個數字：\"))\n",
    "print(\"{}的平方根為{}\".format(n, sqRoot(n)))\n"
   ]
  },
  {
   "cell_type": "markdown",
   "metadata": {},
   "source": [
    "### 區域及全域變數\n",
    "\n",
    "在函式內部出現的變數（包含輸入參數）稱為區域變數(Local variable)。區域變數的有效範圍只有在函式內部，離開函式就無法作用。全域變數則是在函式外定義的變數，當函式內定義與全域變數相同名稱的區域變數時，若要存取全域變數時，必須在函式內先宣告`global 全域變數`，否則變數的存取以區域變數為主。"
   ]
  },
  {
   "cell_type": "code",
   "execution_count": 1,
   "metadata": {},
   "outputs": [
    {
     "name": "stdout",
     "output_type": "stream",
     "text": [
      "I am handsome boy\n"
     ]
    }
   ],
   "source": [
    "s = \"I am handsome boy\" #s是全域變數\n",
    "def f():\n",
    "    print(s)\n",
    "f()"
   ]
  },
  {
   "cell_type": "code",
   "execution_count": 2,
   "metadata": {},
   "outputs": [
    {
     "name": "stdout",
     "output_type": "stream",
     "text": [
      "I am a beautiful girl.\n",
      "I am a handsome boy.\n"
     ]
    }
   ],
   "source": [
    "s = \"I am a handsome boy.\" #s為全域變數\n",
    "def f(): \n",
    "    s = \"I am a beautiful girl.\" #s為區域變數\n",
    "    print(s)\n",
    "f()\n",
    "print(s) #s為全域變數"
   ]
  },
  {
   "cell_type": "code",
   "execution_count": 4,
   "metadata": {},
   "outputs": [
    {
     "ename": "UnboundLocalError",
     "evalue": "local variable 's' referenced before assignment",
     "output_type": "error",
     "traceback": [
      "\u001b[0;31m---------------------------------------------------------------------------\u001b[0m",
      "\u001b[0;31mUnboundLocalError\u001b[0m                         Traceback (most recent call last)",
      "\u001b[0;32m<ipython-input-4-2dc2184d6d00>\u001b[0m in \u001b[0;36m<module>\u001b[0;34m\u001b[0m\n\u001b[1;32m      4\u001b[0m     \u001b[0ms\u001b[0m \u001b[0;34m=\u001b[0m \u001b[0;34m\"I am a beautiful girl.\"\u001b[0m \u001b[0;31m#s為區域變數\u001b[0m\u001b[0;34m\u001b[0m\u001b[0m\n\u001b[1;32m      5\u001b[0m     \u001b[0mprint\u001b[0m\u001b[0;34m(\u001b[0m\u001b[0ms\u001b[0m\u001b[0;34m)\u001b[0m\u001b[0;34m\u001b[0m\u001b[0m\n\u001b[0;32m----> 6\u001b[0;31m \u001b[0mf\u001b[0m\u001b[0;34m(\u001b[0m\u001b[0;34m)\u001b[0m\u001b[0;34m\u001b[0m\u001b[0m\n\u001b[0m\u001b[1;32m      7\u001b[0m \u001b[0mprint\u001b[0m\u001b[0;34m(\u001b[0m\u001b[0ms\u001b[0m\u001b[0;34m)\u001b[0m  \u001b[0;31m#s為全域變數\u001b[0m\u001b[0;34m\u001b[0m\u001b[0m\n",
      "\u001b[0;32m<ipython-input-4-2dc2184d6d00>\u001b[0m in \u001b[0;36mf\u001b[0;34m()\u001b[0m\n\u001b[1;32m      1\u001b[0m \u001b[0ms\u001b[0m \u001b[0;34m=\u001b[0m \u001b[0;34m\"I am a handsome boy.\"\u001b[0m \u001b[0;31m#s為全域變數\u001b[0m\u001b[0;34m\u001b[0m\u001b[0m\n\u001b[1;32m      2\u001b[0m \u001b[0;32mdef\u001b[0m \u001b[0mf\u001b[0m\u001b[0;34m(\u001b[0m\u001b[0;34m)\u001b[0m\u001b[0;34m:\u001b[0m\u001b[0;34m\u001b[0m\u001b[0m\n\u001b[0;32m----> 3\u001b[0;31m     \u001b[0mprint\u001b[0m\u001b[0;34m(\u001b[0m\u001b[0ms\u001b[0m\u001b[0;34m)\u001b[0m\u001b[0;34m\u001b[0m\u001b[0m\n\u001b[0m\u001b[1;32m      4\u001b[0m     \u001b[0ms\u001b[0m \u001b[0;34m=\u001b[0m \u001b[0;34m\"I am a beautiful girl.\"\u001b[0m \u001b[0;31m#s為區域變數\u001b[0m\u001b[0;34m\u001b[0m\u001b[0m\n\u001b[1;32m      5\u001b[0m     \u001b[0mprint\u001b[0m\u001b[0;34m(\u001b[0m\u001b[0ms\u001b[0m\u001b[0;34m)\u001b[0m\u001b[0;34m\u001b[0m\u001b[0m\n",
      "\u001b[0;31mUnboundLocalError\u001b[0m: local variable 's' referenced before assignment"
     ]
    }
   ],
   "source": [
    "s = \"I am a handsome boy.\" #s為全域變數\n",
    "def f(): \n",
    "    print(s)\n",
    "    s = \"I am a beautiful girl.\" #s為區域變數\n",
    "    print(s)\n",
    "f()\n",
    "print(s)  #s為全域變數"
   ]
  },
  {
   "cell_type": "code",
   "execution_count": 5,
   "metadata": {},
   "outputs": [
    {
     "name": "stdout",
     "output_type": "stream",
     "text": [
      "I am a handsome boy.\n",
      "I am a beautiful girl.\n",
      "I am a beautiful girl.\n"
     ]
    }
   ],
   "source": [
    "s = \"I am a handsome boy.\" #s為全域變數\n",
    "def f():\n",
    "    global s\n",
    "    print(s) #s為全域變數\n",
    "    s = \"I am a beautiful girl.\" #改變全域變數\n",
    "    print(s) #s為全域變數\n",
    "f()\n",
    "print(s) #s為全域變數"
   ]
  },
  {
   "cell_type": "code",
   "execution_count": 8,
   "metadata": {},
   "outputs": [
    {
     "name": "stdout",
     "output_type": "stream",
     "text": [
      "I am a handsome boy.\n"
     ]
    },
    {
     "ename": "NameError",
     "evalue": "name 'a' is not defined",
     "output_type": "error",
     "traceback": [
      "\u001b[0;31m---------------------------------------------------------------------------\u001b[0m",
      "\u001b[0;31mNameError\u001b[0m                                 Traceback (most recent call last)",
      "\u001b[0;32m<ipython-input-8-b2c27bce3555>\u001b[0m in \u001b[0;36m<module>\u001b[0;34m\u001b[0m\n\u001b[1;32m      4\u001b[0m \u001b[0;34m\u001b[0m\u001b[0m\n\u001b[1;32m      5\u001b[0m \u001b[0mf\u001b[0m\u001b[0;34m(\u001b[0m\u001b[0;34m)\u001b[0m\u001b[0;34m\u001b[0m\u001b[0m\n\u001b[0;32m----> 6\u001b[0;31m \u001b[0mprint\u001b[0m\u001b[0;34m(\u001b[0m\u001b[0ma\u001b[0m\u001b[0;34m)\u001b[0m\u001b[0;34m\u001b[0m\u001b[0m\n\u001b[0m",
      "\u001b[0;31mNameError\u001b[0m: name 'a' is not defined"
     ]
    }
   ],
   "source": [
    "def f():\n",
    "    a = \"I am a handsome boy.\"\n",
    "    print(a) \n",
    "\n",
    "f()\n",
    "print(a)"
   ]
  },
  {
   "cell_type": "markdown",
   "metadata": {},
   "source": [
    "### 全域及區域變數思考"
   ]
  },
  {
   "cell_type": "code",
   "execution_count": 9,
   "metadata": {},
   "outputs": [
    {
     "name": "stdout",
     "output_type": "stream",
     "text": [
      "42 17 4 17\n",
      "42 15 3 4\n"
     ]
    }
   ],
   "source": [
    "def foo(x, y):\n",
    "    global a    #設定a為全域變數\n",
    "    a = 42      #改變全域變數\n",
    "    x,y = y,x   #x,y為區域變數\n",
    "    b = 33      #b為區域變數\n",
    "    b = 17      #改變區域變數b\n",
    "    c = 100     #c為區域變數\n",
    "    print(a,b,x,y)\n",
    "\n",
    "a,b,x,y = 1,15,3,4 #a,b,x,y為全域變數\n",
    "foo(17,4)\n",
    "print(a,b,x,y)"
   ]
  },
  {
   "cell_type": "markdown",
   "metadata": {},
   "source": [
    "第10行設定a, b, x, y變數為全域變數，並指定值，在函式foo中x,y,b,x為區域變數，第2行變數a設定為全域變數，第三行設定a為42，更改a由1變為42。第11傳入x,y值到foo()中，故函式foo()中，a=42, x=4, y=17, b=17, x=100，列印a,b,x,y的結果為42,17,4,17。第12行列印a,b,x,y的結果為42,15,3,4，其中a在foo()被更改為42。"
   ]
  },
  {
   "cell_type": "markdown",
   "metadata": {},
   "source": [
    "## 6.4 函式庫"
   ]
  },
  {
   "cell_type": "markdown",
   "metadata": {},
   "source": [
    "### 函式庫呼叫"
   ]
  },
  {
   "cell_type": "markdown",
   "metadata": {},
   "source": [
    "開發大型軟體時，程式的結構非常重要，可以將所開發的軟體檔案有效管理。python的程式檔案管理可以使用模組(modules)及套件(packages)來完成。實務上，模組包含軟體運作所需的函式(functions)、類別(class)、或變數定義(variables)。模組可視為python檔案，套件則可視為儲存管理模組的目錄，包含模組及次套件(次目錄)。"
   ]
  },
  {
   "cell_type": "markdown",
   "metadata": {},
   "source": [
    "如果在某一個套件下，有二個模組，`m1.py`及`m2.py`。其中，`m1`模組中有`f1()`及`f2()`函式。在`m2`模組中要用到`f1()`函式，則需要使用`import`關鍵字由`m2`模組中導入`f1`函式。\n",
    "\n",
    "```python\n",
    "#在m2.py\n",
    "from m2 import f1, f2\n",
    "\n",
    "f1()\n",
    "```"
   ]
  },
  {
   "cell_type": "markdown",
   "metadata": {},
   "source": [
    "將m1及m2二個模組放在一個套件下, p1。則套件的結構如下\n",
    "\n",
    "```\n",
    "p1/\n",
    "├ __init__.py \n",
    "├ m1.py\n",
    "⎿ m2.py\n",
    "```\n",
    "`__init__.py`一定要有，空的內容也沒關係。\n"
   ]
  },
  {
   "cell_type": "markdown",
   "metadata": {},
   "source": [
    "呼叫模組的方式有以下三種，\n",
    "\n",
    "方式一：\n",
    ">`import random` \n",
    "\n",
    ">`print(random.randint(1,100))`\n",
    "\n",
    "方式二：\n",
    ">`from random import randint`\n",
    "\n",
    ">`print(randint(1,100))`\n",
    "\n",
    "方式三：\n",
    "> `import random as rr`\n",
    "\n",
    "> `print(rr.randint(1, 100))`"
   ]
  },
  {
   "cell_type": "markdown",
   "metadata": {},
   "source": [
    "當程式中導入一個模組，需要經由模組路徑來找到模組，直譯器首先搜尋內建模組，如果未尋獲，則搜尋sys.path變數中是否存有模組所在的資料夾。如果，導入模組的python程式(module_test.py)在/home/test1目錄路徑，而模組(m2.py)在/home/test2目錄路徑，內涵f1及f2函式，在module_test.py中可以做以下處理\n",
    "```python\n",
    "import sys\n",
    "sys.path.append(\"/home/test2\")\n",
    "imort m2\n",
    "f1()\n",
    "```"
   ]
  },
  {
   "cell_type": "markdown",
   "metadata": {},
   "source": [
    "`dir()`函式可以用來顯示有關模組的所有內容項目，如`dir(math)`可以顯示所有關於math模組的內容，其中`__name__`為模組名稱。"
   ]
  },
  {
   "cell_type": "code",
   "execution_count": 1,
   "metadata": {},
   "outputs": [
    {
     "name": "stdout",
     "output_type": "stream",
     "text": [
      "['__doc__', '__file__', '__loader__', '__name__', '__package__', '__spec__', 'acos', 'acosh', 'asin', 'asinh', 'atan', 'atan2', 'atanh', 'ceil', 'copysign', 'cos', 'cosh', 'degrees', 'e', 'erf', 'erfc', 'exp', 'expm1', 'fabs', 'factorial', 'floor', 'fmod', 'frexp', 'fsum', 'gamma', 'gcd', 'hypot', 'inf', 'isclose', 'isfinite', 'isinf', 'isnan', 'ldexp', 'lgamma', 'log', 'log10', 'log1p', 'log2', 'modf', 'nan', 'pi', 'pow', 'radians', 'sin', 'sinh', 'sqrt', 'tan', 'tanh', 'tau', 'trunc']\n"
     ]
    }
   ],
   "source": [
    "import math\n",
    "print(dir(math))"
   ]
  },
  {
   "cell_type": "markdown",
   "metadata": {},
   "source": [
    "### 數學函式庫"
   ]
  },
  {
   "cell_type": "markdown",
   "metadata": {},
   "source": [
    "`math`模組提供許多有關數學的函式，使用數學模組前先導入`import math`\n",
    "\n",
    "**數字理論與表示函式**\n",
    "\n",
    "| 數學函式          |  意義           | 範例     | 結果  |\n",
    "|-----------------|-------------------|-------|-------|\n",
    "| math.ceil(x)      |  比x大的整數      | math.ceil(3.2)  |  4     |\n",
    "| math.fabs(x)      |  絕對值      | math.fabs(-3)  |    3   |\n",
    "| math.factorial(x) |  階層數   | math.factorial(5) |   120    |\n",
    "| math.floor(x)     |  比x小的整數               | math.floor(3.2) |  3     |\n",
    "| math.fmod(x,y)    |   求浮點數x/y的商及餘數              | math.fmod(5.3, 2.3) |  0.7     |\n",
    "| math.gcd(a,b)    |   求最大公因數              | math.gcd(12, 44)      |   4    |\n",
    "| math.trunc(x) |   無條件捨去小數              | math.trunc(3.2)      |    3   |\n",
    "\n",
    "**指數及對數函式**\n",
    "\n",
    "| 數學函式          |  意義           | 範例     | 結果  |\n",
    "|-----------------|-------------------|-------|-------|\n",
    "| math.exp(x)      |  指數函數   |  math.exp(1)   | 2.718281828459045 |\n",
    "| math.log(x[, base])   |  對數函數  | math.log(10, 2) = math.log2(10) | 3.3219280948873626 |\n",
    "| math.pow(x, y)   |  x的y次方   | math.pow(3,3)    | 27.0 |\n",
    "| math.sqrt(x)   |  開根號函數  |  math.sqrt(4.4) | 2.0976176963403033  |\n",
    "\n",
    "**三角函式**\n",
    "\n",
    "| 數學函式          |  意義           | \n",
    "|-----------------|-------------------|\n",
    "| math.acos(x)  |  反餘弦函數         |\n",
    "| math.asin(x)    |  反正弦函數         |\n",
    "| math.atan(x)    |  反正切函數         | \n",
    "| math.cos(x)     |  餘弦函數         | \n",
    "| math.sin(x)     |  正弦函數         | \n",
    "| math.tan(x)     |  正切函數         | \n",
    "\n",
    "**角度轉換**\n",
    "\n",
    "| 數學函式          |  意義           | 範例     | 結果  |\n",
    "|-----------------|-----------------|-------|-------|\n",
    "| math.degrees(x) | 徑度轉換角度   |  math.degrees(math.pi/2) | 90.0 |\n",
    "| math.radians(x) | 角度轉換徑度   |  math.degrees(90.0) |  1.5707963267948966 |\n",
    "\n",
    "<center>$\\frac{math.pi}{2} $ = 1.5707963267948966 </center>\n",
    "\n",
    "**數學常數**\n",
    "\n",
    "| 數學函式          |  意義           | 範例     |\n",
    "|:------------| ------------------- | ------- |\n",
    "| math.pi      |  圓周率      | π = 3.141592… |\n",
    "| math.e      |  自然數      | e = 2.718281…  | \n",
    "| math.nan | 非數    | | \n",
    "| math.inf | 無限大整數 |\n"
   ]
  },
  {
   "cell_type": "markdown",
   "metadata": {},
   "source": [
    "### 亂數函式庫"
   ]
  },
  {
   "cell_type": "markdown",
   "metadata": {},
   "source": [
    "`import random` 模組\n",
    "\n",
    "|  亂數函數  |  函數意義  |\n",
    "|-----------|:-----------|\n",
    "| `random.seed(x)` | 設定亂數產生器種子 |\n",
    "| `randrange(start, stop[, step])`\t| 在範圍中產生一個隨機整數 |\n",
    "| `randint(a, b)`\t| 在a, b之間產生一個隨機整數 |\n",
    "| `choice(seq)`\t| 在一個非空的序列中隨機選取一個元素 |\n",
    "| `shuffle(seq)` | 序列元素洗牌 |\n",
    "| `sample(population, k)`\t| 在一個母體序列(population sequence)中，隨機選取k個元素。 |\n",
    "| `random()`\t| 在0, 1範圍中產生一個隨機亂數 |\n",
    "| `uniform(a, b)`\t| 在a, b之間產生一個均質亂數 |\n",
    "| `normalvariate(mu, sigma)`\t| 常態分布中取一亂數 |"
   ]
  },
  {
   "cell_type": "code",
   "execution_count": 3,
   "metadata": {},
   "outputs": [
    {
     "name": "stdout",
     "output_type": "stream",
     "text": [
      "[0.8056271362589, 0.7940590105180981, 0.029425761106168014, 0.17465638335376021, 0.0022298761599784944]\n",
      "[0.8056271362589, 0.7940590105180981, 0.029425761106168014, 0.17465638335376021, 0.0022298761599784944]\n"
     ]
    }
   ],
   "source": [
    "import random\n",
    "random.seed(123456)\n",
    "L1 = []\n",
    "for i in range(5):\n",
    "    L1.append(random.random())\n",
    "print(L1)\n",
    "random.seed(123456)\n",
    "L2 = []\n",
    "for i in range(5):\n",
    "    L2.append(random.random())\n",
    "print(L2)"
   ]
  },
  {
   "cell_type": "code",
   "execution_count": 4,
   "metadata": {},
   "outputs": [
    {
     "data": {
      "text/plain": [
       "1361"
      ]
     },
     "execution_count": 4,
     "metadata": {},
     "output_type": "execute_result"
    }
   ],
   "source": [
    "random.randrange(99, 9999)"
   ]
  },
  {
   "cell_type": "code",
   "execution_count": 5,
   "metadata": {},
   "outputs": [
    {
     "data": {
      "text/plain": [
       "15"
      ]
     },
     "execution_count": 5,
     "metadata": {},
     "output_type": "execute_result"
    }
   ],
   "source": [
    "random.randint(9,99)"
   ]
  },
  {
   "cell_type": "code",
   "execution_count": 7,
   "metadata": {},
   "outputs": [
    {
     "data": {
      "text/plain": [
       "'Jason'"
      ]
     },
     "execution_count": 7,
     "metadata": {},
     "output_type": "execute_result"
    }
   ],
   "source": [
    "random.choice(['Jason', 'Mary', 'Joy', 'Daniel', 'Jimmy'])"
   ]
  },
  {
   "cell_type": "code",
   "execution_count": 8,
   "metadata": {},
   "outputs": [
    {
     "data": {
      "text/plain": [
       "0.11639518985546105"
      ]
     },
     "execution_count": 8,
     "metadata": {},
     "output_type": "execute_result"
    }
   ],
   "source": [
    "random.random()"
   ]
  },
  {
   "cell_type": "code",
   "execution_count": 9,
   "metadata": {},
   "outputs": [
    {
     "data": {
      "text/plain": [
       "23.673493797013336"
      ]
     },
     "execution_count": 9,
     "metadata": {},
     "output_type": "execute_result"
    }
   ],
   "source": [
    "random.uniform(1, 100)"
   ]
  },
  {
   "cell_type": "markdown",
   "metadata": {},
   "source": [
    "## 參考資料\n",
    "\n",
    "1. [Python course by Bernd Klein](https://www.python-course.eu/python3_functions.php)\n",
    "2. [Python for Everybody by Dr. Chuck](https://www.py4e.com/lessons/functions)\n",
    "3. [Learn Python Programming at Programiz](https://www.programiz.com/python-programming/function)"
   ]
  },
  {
   "cell_type": "markdown",
   "metadata": {},
   "source": [
    "## 程式練習"
   ]
  },
  {
   "cell_type": "markdown",
   "metadata": {
    "collapsed": true
   },
   "source": [
    "1. 請寫一個溫度轉換函式`temp_convert(t, m)`，溫度轉換函式輸入溫度t及攝氏或華氏溫度，字元C代表攝氏，字元F代表華氏。如果輸入`temp_convert(25,'C')`則轉換為華氏溫度，如果輸入`temp_convert(100,'F')`則轉換為攝氏溫度。函式的輸出為一個溫度值。溫度轉換公式如下：\n",
    "\n",
    "<center> $F = C\\frac{9}{5}+32$ </center>\n",
    "<center> $C = (F-32)\\frac{5}{9}$ </center>\n",
    "\n",
    "請依據以下程式模板撰寫\n",
    "```python\n",
    "def temp_convert(t,m):\n",
    "    #請撰寫函式內容\n",
    "    \n",
    "t = int(input(\"輸入溫度值：\"))\n",
    "c = input(\"輸入攝氏(C)/華氏(F)：\")\n",
    "if c == 'C':\n",
    "    c1 = 'F'\n",
    "else:\n",
    "    c1 = 'C'\n",
    "print(\"{}({})轉換為{}({})\".format(t,c, temp_convert(t,c), c1))\n",
    "```"
   ]
  },
  {
   "cell_type": "markdown",
   "metadata": {},
   "source": [
    "2. 請撰寫一個函式檢查質數`isPrime(n)`，函式輸入一個整數`n`，若n為質數則輸出`True`，否則輸入`False`。\n",
    "\n",
    "> 質數的定義為「除了1和本身外沒有其他因數的整數」。\n",
    "\n",
    "請依據以下程式模板撰寫\n",
    "```python\n",
    "def isPrime(n):\n",
    "    #請撰寫函式內容\n",
    "   \n",
    "#找出11到77之間的質數，將其印出\n",
    "for n in range(11, 78):\n",
    "    if isPrime(n) == True:\n",
    "        print(n, end=\" \")\n",
    "print()\n",
    "```"
   ]
  },
  {
   "cell_type": "code",
   "execution_count": null,
   "metadata": {},
   "outputs": [],
   "source": []
  }
 ],
 "metadata": {
  "kernelspec": {
   "display_name": "Python 3",
   "language": "python",
   "name": "python3"
  },
  "language_info": {
   "codemirror_mode": {
    "name": "ipython",
    "version": 3
   },
   "file_extension": ".py",
   "mimetype": "text/x-python",
   "name": "python",
   "nbconvert_exporter": "python",
   "pygments_lexer": "ipython3",
   "version": "3.6.5"
  }
 },
 "nbformat": 4,
 "nbformat_minor": 2
}
