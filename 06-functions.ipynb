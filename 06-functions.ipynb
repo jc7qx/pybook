{
 "cells": [
  {
   "cell_type": "markdown",
   "metadata": {
    "slideshow": {
     "slide_type": "slide"
    }
   },
   "source": [
    "<center> <H1>第六章 函式與函式庫</H1> </center>"
   ]
  },
  {
   "cell_type": "markdown",
   "metadata": {
    "slideshow": {
     "slide_type": "slide"
    }
   },
   "source": [
    "## 6.1 Python函式概論"
   ]
  },
  {
   "cell_type": "markdown",
   "metadata": {},
   "source": [
    "\n",
    "函式為每一個程式語言共同的部份，可以視為程式開發功能的基本元件。一般而言，可分為內建函式(Built-in functions)及使用者自訂函式(user-defined functions)。內建函式可以是標準或第三方程式庫的組成，自訂函式則可用來解決使用這所遭遇的特定問題。\n",
    "\n",
    "程式中建立及運用函式，可以想像成數學的函數，`y = f(x)`。f(x)是一個函數，如果給予適當的參數(x)，f(x)可以計算產生一個結果。程式中的函式也是如此，函式可視為一個黑盒子，給予它「輸入」(input)，經過黑盒子運作，產生可用的「輸出」(output)。\n",
    "\n",
    "函式是程式語言的一個結構化元件，它聚集一些程式碼，用來執行某一特定程式工作。函式使我們能夠重複使用程式碼，而不需要一再地拷貝及貼上程式。運用函式得宜，可以使撰寫的程式容易理解，使程式具有較佳的品質，且降低開發與維護程式成本。在不同的程式語言中，函式有不同的名稱，如副程式、方法、程序、...等。\n",
    "\n",
    "建立函式需要`def`的關鍵字，定義函式的語法如下\n",
    "\n",
    "```python\n",
    "def 函式名稱(參數列):\n",
    "    程式敘述\n",
    "```\n",
    "程式敘述可稱為函式主體(function body)，注意必須遵守內縮規則。參數列可有可無，即可以無參數或多個參數，如果有參數列定義，必須遵循參數資料型態及個數，否則會產生韓式呼叫錯誤。函式可以回傳結果值，回傳結果須使用`return`關鍵字。當函式主體碰到`return`關鍵字時，函式執行停止，回傳函式執行結果，執行結果在`return`之後，可以是常數、變數、運算式...等。"
   ]
  },
  {
   "cell_type": "markdown",
   "metadata": {},
   "source": [
    "### 函式典型呼叫"
   ]
  },
  {
   "cell_type": "code",
   "execution_count": 2,
   "metadata": {},
   "outputs": [
    {
     "name": "stdout",
     "output_type": "stream",
     "text": [
      "Hello Jason\n",
      "Hello Mary\n",
      "Hello Daniel\n"
     ]
    }
   ],
   "source": [
    "def hello(friend):\n",
    "    print(\"Hello\", friend)\n",
    "    \n",
    "hello(\"Jason\")\n",
    "hello(\"Mary\")\n",
    "hello(\"Daniel\")"
   ]
  },
  {
   "cell_type": "markdown",
   "metadata": {},
   "source": [
    "上例中，hello(friend)是一個函式，hello為函式名稱，friend為輸入參數。`print(\"Hello\", friend)`是函式主體，必須符合內縮規則，第1, 2行程式為函式定義，4, 5, 6行程式為函式呼叫(invoke)。例如，第4行呼叫函式，傳入參數「Jason」，程式進入函式第2行執行函式主體，列印「Hello Jason」。"
   ]
  },
  {
   "cell_type": "markdown",
   "metadata": {},
   "source": [
    "### 區域變數"
   ]
  },
  {
   "cell_type": "markdown",
   "metadata": {},
   "source": [
    "在函式內部出現的變數（包含輸入參數）稱為區域變數(Local variable)。區域變數的有效範圍只有在函式內部，離開函式就無法作用。如上例中，若在函式外部存取friend變數將產生「變數名稱未定義」(name 'friend' is not defined)錯誤。"
   ]
  },
  {
   "cell_type": "code",
   "execution_count": 3,
   "metadata": {},
   "outputs": [
    {
     "name": "stdout",
     "output_type": "stream",
     "text": [
      "Hello Jason\n",
      "Hello Mary\n",
      "Hello Daniel\n"
     ]
    },
    {
     "ename": "NameError",
     "evalue": "name 'friend' is not defined",
     "output_type": "error",
     "traceback": [
      "\u001b[0;31m---------------------------------------------------------------------------\u001b[0m",
      "\u001b[0;31mNameError\u001b[0m                                 Traceback (most recent call last)",
      "\u001b[0;32m<ipython-input-3-94d8b7ee27c7>\u001b[0m in \u001b[0;36m<module>\u001b[0;34m()\u001b[0m\n\u001b[1;32m      5\u001b[0m \u001b[0mhello\u001b[0m\u001b[0;34m(\u001b[0m\u001b[0;34m\"Mary\"\u001b[0m\u001b[0;34m)\u001b[0m\u001b[0;34m\u001b[0m\u001b[0m\n\u001b[1;32m      6\u001b[0m \u001b[0mhello\u001b[0m\u001b[0;34m(\u001b[0m\u001b[0;34m\"Daniel\"\u001b[0m\u001b[0;34m)\u001b[0m\u001b[0;34m\u001b[0m\u001b[0m\n\u001b[0;32m----> 7\u001b[0;31m \u001b[0mprint\u001b[0m\u001b[0;34m(\u001b[0m\u001b[0mfriend\u001b[0m\u001b[0;34m)\u001b[0m\u001b[0;34m\u001b[0m\u001b[0m\n\u001b[0m",
      "\u001b[0;31mNameError\u001b[0m: name 'friend' is not defined"
     ]
    }
   ],
   "source": [
    "def hello(friend):\n",
    "    print(\"Hello\", friend)\n",
    "    \n",
    "hello(\"Jason\")\n",
    "hello(\"Mary\")\n",
    "hello(\"Daniel\")\n",
    "print(friend)"
   ]
  },
  {
   "cell_type": "markdown",
   "metadata": {},
   "source": [
    "## 6.2 內建函式"
   ]
  },
  {
   "cell_type": "markdown",
   "metadata": {},
   "source": [
    "隨著Pyhton程式語言安裝，Python提供一些有用的函式，這些函式稱為內建函式(built-in functions)。例如，常用的列印執行結果的`print()`函式、可以轉換整數資料型別的`int()`函式等。Pyhton程式語言3.6版本提供68個內建函式，請參考[內建函式一欄表](https://www.programiz.com/python-programming/methods/built-in)。使用內建函式時，應注意函式的輸入參數定義及輸出定義與格式。"
   ]
  },
  {
   "cell_type": "markdown",
   "metadata": {},
   "source": [
    "<center>**轉換函式**</center>\n",
    "\n",
    "名稱   |  功能  |  範例  |  結果\n",
    ":----|:-------|--------|-------|\n",
    "int()   | 整數轉換 | int('99')  |  99\n",
    "float() | 浮點數轉換   |  float('3.14')  | 3.14\n",
    "bin()   | 轉換為二進位字串 | bin(99) | '0b1100011'\n",
    "oct()   | 轉換為八進位字串 | oct(99) | '0o143'\n",
    "hex()   | 轉換為十六進位字串 | hex(A9) | '0x63'\n",
    "bool()  | 轉換為布林值    | bool(100) | True\n",
    "str()   | 轉換為字串       | str(99) | '99'\n",
    "chr()   | 轉換ASCII碼為字元 | chr(88) | 'X'\n",
    "ord()   | 轉換字元為ASCII碼 | ord('X') | 88\n",
    "<cr>\n",
    "<center>**數值運算**</center>\n",
    "\n",
    "名稱   |  功能  |  範例  |  結果\n",
    ":----:|:-------|--------|-------|\n",
    "round()  | 無條件捨去小數 | round(3.14) | 3\n",
    "pow()    | 乘方計算      | pow(3,2)    | 9\n",
    "abs()    | 絕對值        | abs(-99)  | 99\n",
    "divmod() | 除法求商及餘數 | divmod(55,23) | (2,9)\n",
    "max()    | 最大值        | max([1, 3, 5, 7]) | 7\n",
    "min()    | 最小值        | min([3, 5, 2, 8]) | 2\n",
    "sum()    | 總和          | sum([2, 5, 3, 4]) | 14"
   ]
  },
  {
   "cell_type": "code",
   "execution_count": 28,
   "metadata": {},
   "outputs": [
    {
     "data": {
      "text/plain": [
       "88"
      ]
     },
     "execution_count": 28,
     "metadata": {},
     "output_type": "execute_result"
    }
   ],
   "source": [
    "ord('X')"
   ]
  },
  {
   "cell_type": "code",
   "execution_count": 29,
   "metadata": {},
   "outputs": [
    {
     "name": "stdout",
     "output_type": "stream",
     "text": [
      "3\n",
      "3.14\n"
     ]
    }
   ],
   "source": [
    "#round()內建函式\n",
    "print(round(3.14159))\n",
    "print(round(3.14159, 2))"
   ]
  },
  {
   "cell_type": "code",
   "execution_count": 30,
   "metadata": {},
   "outputs": [
    {
     "name": "stdout",
     "output_type": "stream",
     "text": [
      "A B C D E F G H I J K L M N O P Q R S T U V W X Y Z \n",
      "\n",
      "97 98 99 100 101 102 103 104 105 106 107 108 109 110 111 112 113 115 116 114 117 118 120 121 122 \n",
      "\n"
     ]
    }
   ],
   "source": [
    "#chr()與ord()內建函式\n",
    "for i in range(65, 91):\n",
    "    print(chr(i), end=\" \")\n",
    "print('\\n')\n",
    "for j in ['a','b','c','d','e','f','g','h','i','j','k','l','m','n','o','p','q','s','t','r','u','v','x','y','z']:\n",
    "    print(ord(j), end=\" \")\n",
    "print('\\n')"
   ]
  },
  {
   "cell_type": "markdown",
   "metadata": {},
   "source": [
    "## 6.3 自訂函式"
   ]
  },
  {
   "cell_type": "markdown",
   "metadata": {},
   "source": [
    "使用者自訂函式是程式開發的建構元件，是構成程式結構的基本單元，針對程式執行的功能或特定的處理流程，可以寫成函式，函式提供多次使用，甚至可以被其他程式呼叫。程式以函式組成，使程式容易維護，容易理解，並可支援模組化設計。由於函式可以獨立開發，所以使程式開發可以分工，以加快開發時程。\n",
    "\n",
    "### 定義函式\n",
    "\n",
    "```python\n",
    "def 函式名稱(輸入參數列):\n",
    "    程式敘述1\n",
    "    程式敘述2\n",
    "    .....\n",
    "    [return]\n",
    "```"
   ]
  },
  {
   "cell_type": "markdown",
   "metadata": {},
   "source": [
    "使用者自訂函式須使用`def`關鍵字，函式的名稱須有意義，名稱後加上小括號，括號內包含輸入參數列，可以沒有參數或多個參數。如有多個參數，須用逗點「,」隔開輸入參數。例如，`def func(x1, x2, x3)`。小括號後一定要加「:」符號。函式內部的程式敘述要遵守內縮規則。如果函式有輸出項，則須要`return`關鍵字。函式的執行碰到`return`關鍵字，則停止執行，跳出函式。"
   ]
  },
  {
   "cell_type": "code",
   "execution_count": 1,
   "metadata": {},
   "outputs": [
    {
     "name": "stdout",
     "output_type": "stream",
     "text": [
      "Hello\n",
      "Hello\n",
      "Hello\n",
      "Hello\n",
      "Hello\n"
     ]
    }
   ],
   "source": [
    "#範例一\n",
    "def sayHello():\n",
    "    print(\"Hello\")\n",
    "for i in range(5):\n",
    "    sayHello()"
   ]
  },
  {
   "cell_type": "code",
   "execution_count": 4,
   "metadata": {},
   "outputs": [
    {
     "name": "stdout",
     "output_type": "stream",
     "text": [
      "5+6=11\n",
      "100+500=600\n"
     ]
    }
   ],
   "source": [
    "#範例二：二整數相加(有輸入參數)\n",
    "def addTwo(x, y):\n",
    "    print(\"{}+{}={}\".format(x, y, x+y))\n",
    "addTwo(5, 6)\n",
    "addTwo(100, 500)"
   ]
  },
  {
   "cell_type": "code",
   "execution_count": 8,
   "metadata": {},
   "outputs": [
    {
     "name": "stdout",
     "output_type": "stream",
     "text": [
      "輸入一個數字：11\n",
      "11的平方根為3.3166247903554\n"
     ]
    }
   ],
   "source": [
    "#範例三：回傳二整數相加(有輸入參數)\n",
    "def sqRoot(x):\n",
    "    return x**(1/2)\n",
    "n = int(input(\"輸入一個數字：\"))\n",
    "print(\"{}的平方根為{}\".format(n, sqRoot(n)))\n"
   ]
  },
  {
   "cell_type": "markdown",
   "metadata": {},
   "source": [
    "### 區域及全域變數\n",
    "\n",
    "在函式內部出現的變數（包含輸入參數）稱為區域變數(Local variable)。區域變數的有效範圍只有在函式內部，離開函式就無法作用。全域變數則是在函式外定義的變數，當函式內定義與全域變數相同名稱的區域變數時，若要存取全域變數時，必須在函式內先宣告`global 全域變數`，否則變數的存取以區域變數為主。"
   ]
  },
  {
   "cell_type": "code",
   "execution_count": 9,
   "metadata": {},
   "outputs": [
    {
     "name": "stdout",
     "output_type": "stream",
     "text": [
      "I am handsome boy\n"
     ]
    }
   ],
   "source": [
    "def f():\n",
    "    print(s)\n",
    "s = \"I am handsome boy\" #s是全域變數\n",
    "f()"
   ]
  },
  {
   "cell_type": "code",
   "execution_count": 11,
   "metadata": {},
   "outputs": [
    {
     "name": "stdout",
     "output_type": "stream",
     "text": [
      "Me too.\n",
      "I hate spam.\n"
     ]
    }
   ],
   "source": [
    "def f(): \n",
    "    s = \"Me too.\" #s為區域變數\n",
    "    print(s)\n",
    "\n",
    "s = \"I hate spam.\" #s為全域變數\n",
    "f()\n",
    "print(s) #s為全域變數"
   ]
  },
  {
   "cell_type": "code",
   "execution_count": 13,
   "metadata": {},
   "outputs": [
    {
     "ename": "UnboundLocalError",
     "evalue": "local variable 's' referenced before assignment",
     "output_type": "error",
     "traceback": [
      "\u001b[0;31m---------------------------------------------------------------------------\u001b[0m",
      "\u001b[0;31mUnboundLocalError\u001b[0m                         Traceback (most recent call last)",
      "\u001b[0;32m<ipython-input-13-e60ecec701ee>\u001b[0m in \u001b[0;36m<module>\u001b[0;34m()\u001b[0m\n\u001b[1;32m      5\u001b[0m \u001b[0;34m\u001b[0m\u001b[0m\n\u001b[1;32m      6\u001b[0m \u001b[0ms\u001b[0m \u001b[0;34m=\u001b[0m \u001b[0;34m\"I hate spam.\"\u001b[0m  \u001b[0;31m#s為全域變數\u001b[0m\u001b[0;34m\u001b[0m\u001b[0m\n\u001b[0;32m----> 7\u001b[0;31m \u001b[0mf\u001b[0m\u001b[0;34m(\u001b[0m\u001b[0;34m)\u001b[0m\u001b[0;34m\u001b[0m\u001b[0m\n\u001b[0m\u001b[1;32m      8\u001b[0m \u001b[0mprint\u001b[0m\u001b[0;34m(\u001b[0m\u001b[0ms\u001b[0m\u001b[0;34m)\u001b[0m  \u001b[0;31m#s為全域變數\u001b[0m\u001b[0;34m\u001b[0m\u001b[0m\n",
      "\u001b[0;32m<ipython-input-13-e60ecec701ee>\u001b[0m in \u001b[0;36mf\u001b[0;34m()\u001b[0m\n\u001b[1;32m      1\u001b[0m \u001b[0;32mdef\u001b[0m \u001b[0mf\u001b[0m\u001b[0;34m(\u001b[0m\u001b[0;34m)\u001b[0m\u001b[0;34m:\u001b[0m\u001b[0;34m\u001b[0m\u001b[0m\n\u001b[0;32m----> 2\u001b[0;31m     \u001b[0mprint\u001b[0m\u001b[0;34m(\u001b[0m\u001b[0ms\u001b[0m\u001b[0;34m)\u001b[0m\u001b[0;34m\u001b[0m\u001b[0m\n\u001b[0m\u001b[1;32m      3\u001b[0m     \u001b[0ms\u001b[0m \u001b[0;34m=\u001b[0m \u001b[0;34m\"Me too.\"\u001b[0m \u001b[0;31m#s為區域變數\u001b[0m\u001b[0;34m\u001b[0m\u001b[0m\n\u001b[1;32m      4\u001b[0m     \u001b[0mprint\u001b[0m\u001b[0;34m(\u001b[0m\u001b[0ms\u001b[0m\u001b[0;34m)\u001b[0m\u001b[0;34m\u001b[0m\u001b[0m\n\u001b[1;32m      5\u001b[0m \u001b[0;34m\u001b[0m\u001b[0m\n",
      "\u001b[0;31mUnboundLocalError\u001b[0m: local variable 's' referenced before assignment"
     ]
    }
   ],
   "source": [
    "def f(): \n",
    "    print(s)\n",
    "    s = \"Me too.\" #s為區域變數\n",
    "    print(s)\n",
    "\n",
    "s = \"I hate spam.\"  #s為全域變數\n",
    "f()\n",
    "print(s)  #s為全域變數"
   ]
  },
  {
   "cell_type": "code",
   "execution_count": 19,
   "metadata": {},
   "outputs": [
    {
     "name": "stdout",
     "output_type": "stream",
     "text": [
      "Python is great!\n",
      "That's clear.\n",
      "That's clear.\n"
     ]
    }
   ],
   "source": [
    "def f():\n",
    "    global s\n",
    "    print(s) #s為全域變數\n",
    "    s = \"That's clear.\" #改變全域變數\n",
    "    print(s) #s為全域變數\n",
    "\n",
    "\n",
    "s = \"Python is great!\" #s為全域變數\n",
    "f()\n",
    "print(s) #s為全域變數"
   ]
  },
  {
   "cell_type": "code",
   "execution_count": 18,
   "metadata": {},
   "outputs": [
    {
     "name": "stdout",
     "output_type": "stream",
     "text": [
      "I am globally not known\n"
     ]
    },
    {
     "ename": "NameError",
     "evalue": "name 'a' is not defined",
     "output_type": "error",
     "traceback": [
      "\u001b[0;31m---------------------------------------------------------------------------\u001b[0m",
      "\u001b[0;31mNameError\u001b[0m                                 Traceback (most recent call last)",
      "\u001b[0;32m<ipython-input-18-7870b679866b>\u001b[0m in \u001b[0;36m<module>\u001b[0;34m()\u001b[0m\n\u001b[1;32m      4\u001b[0m \u001b[0;34m\u001b[0m\u001b[0m\n\u001b[1;32m      5\u001b[0m \u001b[0mf\u001b[0m\u001b[0;34m(\u001b[0m\u001b[0;34m)\u001b[0m\u001b[0;34m\u001b[0m\u001b[0m\n\u001b[0;32m----> 6\u001b[0;31m \u001b[0mprint\u001b[0m\u001b[0;34m(\u001b[0m\u001b[0ma\u001b[0m\u001b[0;34m)\u001b[0m\u001b[0;34m\u001b[0m\u001b[0m\n\u001b[0m",
      "\u001b[0;31mNameError\u001b[0m: name 'a' is not defined"
     ]
    }
   ],
   "source": [
    "def f():\n",
    "    a = \"I am globally not known\"\n",
    "    print(a) \n",
    "\n",
    "f()\n",
    "print(a)"
   ]
  },
  {
   "cell_type": "code",
   "execution_count": 20,
   "metadata": {},
   "outputs": [
    {
     "name": "stdout",
     "output_type": "stream",
     "text": [
      "42 17 4 17\n",
      "42 15 3 4\n"
     ]
    }
   ],
   "source": [
    "def foo(x, y):\n",
    "    global a\n",
    "    a = 42\n",
    "    x,y = y,x\n",
    "    b = 33\n",
    "    b = 17\n",
    "    c = 100\n",
    "    print(a,b,x,y)\n",
    "\n",
    "a,b,x,y = 1,15,3,4\n",
    "foo(17,4)\n",
    "print(a,b,x,y)"
   ]
  },
  {
   "cell_type": "markdown",
   "metadata": {},
   "source": [
    "## 6.4 函式庫"
   ]
  },
  {
   "cell_type": "markdown",
   "metadata": {},
   "source": [
    "### 函式庫呼叫"
   ]
  },
  {
   "cell_type": "markdown",
   "metadata": {},
   "source": [
    "開發大型軟體時，程式的結構非常重要，可以將所開發的軟體檔案有效管理。python的程式檔案管理可以使用模組(modules)及套件(packages)來完成。實務上，模組包含軟體運作所需的函式(functions)、類別(class)、或變數定義(variables)。模組可視為python檔案，套件則可視為儲存管理模組的目錄，包含模組及次套件(次目錄)。"
   ]
  },
  {
   "cell_type": "markdown",
   "metadata": {},
   "source": [
    "如果在某一個套件下，有二個模組，`m1.py`及`m2.py`。其中，`m1`模組中有`f1()`及`f2()`函式。在`m2`模組中要用到`f1()`函式，則需要使用`import`關鍵字由`m2`模組中導入`f1`函式。\n",
    "\n",
    "```python\n",
    "#在m2.py\n",
    "from m2 import f1, f2\n",
    "\n",
    "f1()\n",
    "```"
   ]
  },
  {
   "cell_type": "markdown",
   "metadata": {},
   "source": [
    "將m1及m2二個模組放在一個套件下, p1。則套件的結構如下\n",
    "\n",
    "```\n",
    "p1/\n",
    "├ __init__.py \n",
    "├ m1.py\n",
    "⎿ m2.py\n",
    "```\n",
    "`__init__.py`一定要有，空的內容也沒關係。\n"
   ]
  },
  {
   "cell_type": "markdown",
   "metadata": {},
   "source": [
    "呼叫模組的方式有以下三種，\n",
    "\n",
    "方式一：\n",
    ">`import random` \n",
    "\n",
    ">`print(random.randint(1,100))`\n",
    "\n",
    "方式二：\n",
    ">`from random import randint`\n",
    "\n",
    ">`print(randint(1,100))`\n",
    "\n",
    "方式三：\n",
    "> `import random as rr`\n",
    "\n",
    "> `print(rr.randint(1, 100))`"
   ]
  },
  {
   "cell_type": "markdown",
   "metadata": {},
   "source": [
    "### 數學函式庫"
   ]
  },
  {
   "cell_type": "markdown",
   "metadata": {},
   "source": [
    "`math`模組提供許多有關數學的函式，`import math`\n",
    "\n",
    "  * `ceil(), floor() and random()`\n",
    "  * `fabs() and abs()`\n",
    "  * `sin(), cos(), tan()`\n",
    "  * `pow() and sqrt()`\n",
    "  * `exp(), log(), log2, log10()`\n",
    "  "
   ]
  },
  {
   "cell_type": "markdown",
   "metadata": {},
   "source": [
    "### 亂數函式庫"
   ]
  },
  {
   "cell_type": "markdown",
   "metadata": {},
   "source": [
    "### 系統函式庫"
   ]
  },
  {
   "cell_type": "markdown",
   "metadata": {},
   "source": [
    "## 參考資料\n",
    "\n",
    "1. [Python course by Bernd Klein](https://www.python-course.eu/python3_functions.php)\n",
    "2. [Python for Everybody by Dr. Chuck](https://www.py4e.com/lessons/functions)\n",
    "3. [Learn Python Programming at Programiz](https://www.programiz.com/python-programming/function)"
   ]
  },
  {
   "cell_type": "code",
   "execution_count": null,
   "metadata": {
    "collapsed": true
   },
   "outputs": [],
   "source": []
  }
 ],
 "metadata": {
  "kernelspec": {
   "display_name": "Python 3",
   "language": "python",
   "name": "python3"
  },
  "language_info": {
   "codemirror_mode": {
    "name": "ipython",
    "version": 3
   },
   "file_extension": ".py",
   "mimetype": "text/x-python",
   "name": "python",
   "nbconvert_exporter": "python",
   "pygments_lexer": "ipython3",
   "version": "3.6.1"
  }
 },
 "nbformat": 4,
 "nbformat_minor": 2
}
