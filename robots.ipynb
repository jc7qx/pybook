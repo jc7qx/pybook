{
 "cells": [
  {
   "cell_type": "markdown",
   "metadata": {},
   "source": [
    "## 微處理機版馬達控制"
   ]
  },
  {
   "cell_type": "markdown",
   "metadata": {},
   "source": [
    "###  Arduino 馬達控制"
   ]
  },
  {
   "cell_type": "markdown",
   "metadata": {},
   "source": [
    "* [L298N 馬達控制模組](http://163.22.166.134/arduino/model/l298n.html)\n",
    "* [天花板隨記--控制伺服馬達 Servo](http://atceiling.blogspot.com/2017/03/arduino.html)\n",
    "* [使用 L298N 模組控制直流馬達](http://coopermaa2nd.blogspot.com/2012/09/l298n.html)"
   ]
  },
  {
   "cell_type": "markdown",
   "metadata": {},
   "source": [
    "### Raspberry Pi 馬達控制"
   ]
  },
  {
   "cell_type": "markdown",
   "metadata": {},
   "source": [
    "* [Raspberry Pi 控制步進馬達 -- 天花板隨記](http://atceiling.blogspot.com/2014/02/raspberry-pi_27.html)"
   ]
  },
  {
   "cell_type": "markdown",
   "metadata": {},
   "source": [
    "### Micro-bit 馬達控制"
   ]
  },
  {
   "cell_type": "markdown",
   "metadata": {},
   "source": [
    "* [阿玉micro:bit研究區自走車](https://sites.google.com/site/wenyumaker2/02micro-bit-yan-jiu/14zi-zou-che-ce-shi)"
   ]
  },
  {
   "cell_type": "code",
   "execution_count": null,
   "metadata": {},
   "outputs": [],
   "source": []
  }
 ],
 "metadata": {
  "kernelspec": {
   "display_name": "Python 3",
   "language": "python",
   "name": "python3"
  },
  "language_info": {
   "codemirror_mode": {
    "name": "ipython",
    "version": 3
   },
   "file_extension": ".py",
   "mimetype": "text/x-python",
   "name": "python",
   "nbconvert_exporter": "python",
   "pygments_lexer": "ipython3",
   "version": "3.7.1"
  }
 },
 "nbformat": 4,
 "nbformat_minor": 2
}
