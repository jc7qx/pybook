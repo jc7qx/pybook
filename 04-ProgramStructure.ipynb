{
 "cells": [
  {
   "cell_type": "markdown",
   "metadata": {
    "slideshow": {
     "slide_type": "slide"
    }
   },
   "source": [
    "<center> <H1>第四章 程式運行結構</H1> </center>"
   ]
  },
  {
   "cell_type": "markdown",
   "metadata": {
    "collapsed": true
   },
   "source": [
    "一般而言，程式運作的結構包括以下三種"
   ]
  },
  {
   "cell_type": "markdown",
   "metadata": {},
   "source": [
    "* 循序\n",
    "* 選擇\n",
    "* 迴圈"
   ]
  },
  {
   "cell_type": "markdown",
   "metadata": {},
   "source": [
    "<img src=\"pic/programstruct.png\" alt=\"program structure\" style=\"width:300px;height:240px;\">"
   ]
  },
  {
   "cell_type": "markdown",
   "metadata": {},
   "source": [
    "## 4.1 循序結構"
   ]
  },
  {
   "cell_type": "markdown",
   "metadata": {},
   "source": [
    "### 計算BMI指數\n",
    "\n",
    "1. 輸入姓名\n",
    "2. 輸入身高(公分)\n",
    "3. 輸入體重(公斤)\n",
    "4. 將身高換算成公尺\n",
    "5. 計算BMI指數公式\n",
    "6. 列印結果"
   ]
  },
  {
   "cell_type": "markdown",
   "metadata": {},
   "source": [
    "<img src=\"pic/getbmi.png\" alt=\"comp bmi\" style=\"width:240px;height:280px;\">"
   ]
  },
  {
   "cell_type": "code",
   "execution_count": 3,
   "metadata": {},
   "outputs": [
    {
     "name": "stdout",
     "output_type": "stream",
     "text": [
      "Enter your name: Jason\n",
      "Input your height in cm165\n",
      "Input your weight in kg80\n",
      "Hi, Jason      your BMI is 29.38\n"
     ]
    }
   ],
   "source": [
    "#計算BMI指數\n",
    "name = input(\"Enter your name: \")\n",
    "height = int(input(\"Input your height in cm\"))\n",
    "weight = int(input(\"Input your weight in kg\"))\n",
    "height = height/100\n",
    "bmi = weight/(height**2)\n",
    "print(\"Hi, {:10s}, your BMI is {:.2f}\".format(name, bmi))"
   ]
  },
  {
   "cell_type": "markdown",
   "metadata": {},
   "source": [
    "## 4.2 選擇結構"
   ]
  },
  {
   "cell_type": "markdown",
   "metadata": {},
   "source": [
    "程式執行依條件判斷式結果決定不同執行路徑，條件判斷式結果為布林值(True或False)，條件判斷式應用邏輯運算式決定結果。\n",
    "例如：\n",
    "```python\n",
    "if 6>3:\n",
    "    True\n",
    "    \n",
    "if password == \"Hellokiky\":\n",
    "    False\n",
    "    \n",
    "if (score>60) and (score<=90):\n",
    "    print(\"You are a outstanding student\")\n",
    "```"
   ]
  },
  {
   "cell_type": "markdown",
   "metadata": {},
   "source": [
    "布林值是表示某個敘述事實的真偽（真或假），例如`a=5, b=3,  判斷a>b 為「真」(True)`。在Python程式語言中，條件判斷式的結果若為「非0」則可視為「真」(True)，若條件判斷式的結果為「0」、「空字串」、「空值」(Null)，則視為「假」(False)。"
   ]
  },
  {
   "cell_type": "code",
   "execution_count": 5,
   "metadata": {},
   "outputs": [
    {
     "data": {
      "text/plain": [
       "True"
      ]
     },
     "execution_count": 5,
     "metadata": {},
     "output_type": "execute_result"
    }
   ],
   "source": [
    "a, b = 5, 3\n",
    "a > b"
   ]
  },
  {
   "cell_type": "code",
   "execution_count": 6,
   "metadata": {},
   "outputs": [
    {
     "data": {
      "text/plain": [
       "True"
      ]
     },
     "execution_count": 6,
     "metadata": {},
     "output_type": "execute_result"
    }
   ],
   "source": [
    "'o' in \"Hello\""
   ]
  },
  {
   "cell_type": "code",
   "execution_count": 7,
   "metadata": {},
   "outputs": [
    {
     "data": {
      "text/plain": [
       "False"
      ]
     },
     "execution_count": 7,
     "metadata": {},
     "output_type": "execute_result"
    }
   ],
   "source": [
    "'x' in \"Hello\""
   ]
  },
  {
   "cell_type": "markdown",
   "metadata": {},
   "source": [
    "### 簡單 if 結構"
   ]
  },
  {
   "cell_type": "markdown",
   "metadata": {},
   "source": [
    "```python\n",
    "1. if (條件判斷式):\n",
    "2.     程式敘述1\n",
    "3.     程式敘述2\n",
    "4. 程式敘述3\n",
    "5. 程式敘述4\n",
    "```"
   ]
  },
  {
   "cell_type": "markdown",
   "metadata": {},
   "source": [
    "if 結構中，若條件判斷式的結果為True，則會執行程式敘述1, 2, 3, 4。若條件判斷式的結果為False，則會執行程式敘述3, 4。在 if 結構的程式語法中，條件判斷式後一定要加「:」，程式敘述1, 2一定要內縮（**通常內縮4格**)。"
   ]
  },
  {
   "cell_type": "markdown",
   "metadata": {},
   "source": [
    "**應用案例**\n",
    "\n",
    "在購買商品時，如有優待卷則可以大八折，否則原價。"
   ]
  },
  {
   "cell_type": "code",
   "execution_count": 12,
   "metadata": {},
   "outputs": [
    {
     "name": "stdout",
     "output_type": "stream",
     "text": [
      "商品單價：12\n",
      "購買數量：5\n",
      "是否優待：(1:有，0:沒有)1\n",
      "商品消費：48.0 元\n"
     ]
    }
   ],
   "source": [
    "unitPrice = float(input(\"商品單價：\"))\n",
    "itemNumber = int(input(\"購買數量：\"))\n",
    "coupount = int(input(\"是否優待：(1:有，0:沒有)\"))\n",
    "if (coupount):\n",
    "    unitPrice = unitPrice*0.8\n",
    "total = unitPrice*itemNumber\n",
    "print(\"商品消費：{:.1f} 元\".format(total))"
   ]
  },
  {
   "cell_type": "markdown",
   "metadata": {},
   "source": [
    "### 二擇一 if 結構"
   ]
  },
  {
   "cell_type": "markdown",
   "metadata": {},
   "source": [
    "```python\n",
    "if (條件判斷式):\n",
    "    程式敘述1\n",
    "    程式敘述2\n",
    "else:\n",
    "    程式敘述3\n",
    "    程式敘述4\n",
    "程式敘述5\n",
    "程式敘述6\n",
    "```"
   ]
  },
  {
   "cell_type": "markdown",
   "metadata": {},
   "source": [
    "if 結構中，若條件判斷式為True，則執行程式敘述1, 2, 5, 6，若條件判斷式為False，則執行程式敘述3, 4, 5, 6。程式碰到二擇一選擇結構時，不論條件判斷式為True或False，一定會根據條件判斷式結果選擇一條程式執行路徑。"
   ]
  },
  {
   "cell_type": "markdown",
   "metadata": {},
   "source": [
    "**應用案例**\n",
    "\n",
    "判別某個整數為奇數或偶數？"
   ]
  },
  {
   "cell_type": "code",
   "execution_count": 6,
   "metadata": {},
   "outputs": [
    {
     "name": "stdout",
     "output_type": "stream",
     "text": [
      "輸入一個整數：0\n",
      "  0  是一個偶數\n"
     ]
    }
   ],
   "source": [
    "num = int(input(\"輸入一個整數：\"))\n",
    "if num%2 == 0:\n",
    "    print(\"{:^5d}是一個偶數\".format(num))\n",
    "else:\n",
    "    print(\"{:^5d}是一個奇數\".format(num))"
   ]
  },
  {
   "cell_type": "markdown",
   "metadata": {},
   "source": [
    "> 檢查一個數是否為偶數，可以將此數除以2，如果餘數為0則可判定此數為偶數，否則判定此數為奇數。"
   ]
  },
  {
   "cell_type": "markdown",
   "metadata": {
    "collapsed": true
   },
   "source": [
    "### 巢狀if結構"
   ]
  },
  {
   "cell_type": "markdown",
   "metadata": {},
   "source": [
    "```python\n",
    "if (條件判斷式1):\n",
    "    程式敘述1\n",
    "    程式敘述2\n",
    "    if (條件判斷式2):\n",
    "        程式敘述5\n",
    "        程式敘述6\n",
    "    else:\n",
    "        程式敘述7\n",
    "        程式敘述8\n",
    "else:\n",
    "    程式敘述3\n",
    "    程式敘述4\n",
    "程式敘述9\n",
    "程式敘述10\n",
    "```"
   ]
  },
  {
   "cell_type": "markdown",
   "metadata": {},
   "source": [
    "上述巢狀if結構中，一個if選擇結構，包含另一個if選擇結構。程式執行路徑分析，\n",
    "\n",
    "1. 當條件判斷1為True， 條件判斷2為True，則程式執行路徑為程式敘述 1, 2, 5, 6, 9, 10。\n",
    "2. 當條件判斷1為True， 條件判斷2為False，則程式執行路徑為程式敘述 1, 2, 7, 8, 9, 10。\n",
    "3. 當條件判斷1為False， 不會執行條件判斷2，則程式執行路徑為程式敘述 3, 4, 9, 10。"
   ]
  },
  {
   "cell_type": "markdown",
   "metadata": {},
   "source": [
    "**應用案例**\n",
    "\n",
    "判別某個整數為奇數或偶數？偶數也包含0，可否判別出0？"
   ]
  },
  {
   "cell_type": "code",
   "execution_count": 8,
   "metadata": {},
   "outputs": [
    {
     "name": "stdout",
     "output_type": "stream",
     "text": [
      "輸入一個整數：0\n",
      "數值為 0\n"
     ]
    }
   ],
   "source": [
    "num = int(input(\"輸入一個整數：\"))\n",
    "if num%2 == 0:\n",
    "    if num == 0:\n",
    "        print(\"數值為 0\")\n",
    "    else:\n",
    "        print(\"{:^5d}是一個偶數\".format(num))\n",
    "else:\n",
    "    print(\"{:^5d}是一個奇數\".format(num))"
   ]
  },
  {
   "cell_type": "markdown",
   "metadata": {},
   "source": [
    "### 鏈狀 if 結構"
   ]
  },
  {
   "cell_type": "markdown",
   "metadata": {},
   "source": [
    "```python\n",
    "if (條件判斷式1):\n",
    "    程式敘述1\n",
    "    .....\n",
    "elif (條件判斷式2):\n",
    "    程式敘述2\n",
    "    .....\n",
    "elif (條件判斷式3):\n",
    "    程式敘述3\n",
    "    .....\n",
    "else:\n",
    "    程式敘述n\n",
    "    .....\n",
    "程式敘述 n+1\n",
    ".....\n",
    "```"
   ]
  },
  {
   "cell_type": "markdown",
   "metadata": {},
   "source": [
    "在鏈狀if選擇結構中，將逐一的檢查條件判斷式。例如，根據學生考試成績老師要給學生評語？\n",
    "\n",
    "* 90以上：Excellent\n",
    "* 75-90：very Good\n",
    "* 60-75：good\n",
    "* 50-60：You can do it\n",
    "* 50以下：fail"
   ]
  },
  {
   "cell_type": "code",
   "execution_count": 11,
   "metadata": {},
   "outputs": [
    {
     "name": "stdout",
     "output_type": "stream",
     "text": [
      "考試分數：64\n",
      "Good\n"
     ]
    }
   ],
   "source": [
    "score = int(input(\"考試分數：\"))\n",
    "if score >= 90:\n",
    "    print(\"Excellent\")\n",
    "elif score>=75 and score<90:\n",
    "    print(\"very good\")\n",
    "elif score>=60 and score<75:\n",
    "    print(\"Good\")\n",
    "elif score>=50 and score<60:\n",
    "    print(\"GO, you can do it\")\n",
    "else:\n",
    "    print(\"you are fail\")"
   ]
  },
  {
   "cell_type": "markdown",
   "metadata": {},
   "source": [
    "### 判斷閏年問題"
   ]
  },
  {
   "cell_type": "markdown",
   "metadata": {},
   "source": [
    "平年為365天，閏年為366天，閏年的二月有29天。閏年的判斷規則如下\n",
    "\n",
    "1. 西元年份除以4不可整除，為平年。\n",
    "2. 西元年份除以4可整除，且除以100不可整除，為閏年。\n",
    "3. 西元年份除以100可整除，且除以400不可整除，為平年\n",
    "4. 西元年份除以400可整除，為閏年。\n",
    "\n",
    "請問如何寫一個Python程式來判斷是否為閏年？"
   ]
  },
  {
   "cell_type": "code",
   "execution_count": 4,
   "metadata": {},
   "outputs": [
    {
     "name": "stdout",
     "output_type": "stream",
     "text": [
      "輸入一個年份：1985\n",
      "1985不是閏年\n"
     ]
    }
   ],
   "source": [
    "n = int(input(\"輸入一個年份：\"))\n",
    "\n",
    "if n%400==0:\n",
    "    print(\"{}是閏年\".format(n))\n",
    "elif n%100==0:\n",
    "    print(\"{}不是閏年\".format(n))\n",
    "elif n%4==0:\n",
    "    print(\"{}是閏年\".format(n))\n",
    "else:\n",
    "    print(\"{}不是閏年\".format(n))"
   ]
  },
  {
   "cell_type": "markdown",
   "metadata": {},
   "source": [
    "**課堂練習**\n",
    "\n",
    "計算BMI值，給予健康分類\n",
    "\n",
    "<center>BMI公式 = $\\frac{體重}{身高^2}$，身高以公尺計算</center>\n",
    "\n",
    "BMI分類表\n",
    "\n",
    "BMI值 | 體重分類\n",
    "------|-------\n",
    "BMI < 18.5 | 體重過輕\n",
    "18.5 <= BMI < 24   | 正常體重\n",
    "24 <= BMI < 27     | 過重\n",
    "27 <= BMI < 30     | 輕度肥胖\n",
    "30 <= BMI < 35     | 中度肥胖\n",
    "BMI > 35           | 重度肥胖\n",
    "\n",
    "請同學寫一個Python程式，輸入姓名、身高(公分)、 體重(公斤)，計算BMI值，並印出結果。\n",
    "```\n",
    "姓名：\n",
    "身高：\n",
    "體重：\n",
    "BMI：\n",
    "分類：\n",
    "```"
   ]
  },
  {
   "cell_type": "markdown",
   "metadata": {},
   "source": [
    "## 4.3 迴圈結構"
   ]
  },
  {
   "cell_type": "markdown",
   "metadata": {},
   "source": [
    "許多時候，我們要求電腦重複做某一件事，重複執行某些指令。例如，小明每天存10元到存錢筒，一個月後小明的存錢筒中有多少錢？為了解決這個問題，我們可以設定一個變數稱為存錢筒(moneyBox)，剛開始，存錢筒中沒有一塊錢，所以設定`moneyBox=0`，第一天投10元到存錢筒中(`moneyBox+10`)，第二天投10元到存錢筒中(`moneyBox+10`)，每天都做相同的動作(`moneyBox+10`)，直到30天結束，我們就可以打開存錢筒計算筒中有多少錢，這樣的程式結構稱為迴圈(Loop)。\n",
    "迴圈是程式語言重要的結構之一，它可以重複地執行一段程式碼，當你重複地想使用一段程式碼時，一定不希望每次都要將程式碼重新輸入一遍。這時，回權結構就派上用場。"
   ]
  },
  {
   "cell_type": "markdown",
   "metadata": {},
   "source": [
    "一般而言，有三種迴圈結構，分別為計數型迴圈、條件型迴圈、以及集合型迴圈。"
   ]
  },
  {
   "cell_type": "markdown",
   "metadata": {
    "collapsed": true
   },
   "source": [
    "### 條件型迴圈\n",
    "\n",
    "第一種迴圈稱為while迴圈，while意味在一段時間（週期）內，loop指的是重複地執行一段程式碼。while loop是一種程式概念，在此概念中，當條件成立，一段程式碼不斷地執行。while迴圈是一種條件迴圈。while迴圈有三個重要的組成\n",
    "\n",
    "* while關鍵字\n",
    "* 條件式（產生True或False結果）\n",
    "* 一段要重複執行的程式碼，在這段程式中需要包括一些更新條件判斷式的指令，如果進入一段重複執行的程式，並無更新條件，則此迴圈將無限的執行，稱為無限迴圈。\n",
    "\n",
    "### 讓我們用while迴圈來解決小明每天存10元的問題:小明每天存10到存錢桶，一個月後小明存了多少錢？"
   ]
  },
  {
   "cell_type": "markdown",
   "metadata": {},
   "source": [
    "先讓我們用虛擬碼(Pseudo code)的形式來描述這個問題。\n",
    "1. 設定空的存錢筒(moneyBox = 0)\n",
    "2. 設定天數變數為0(day = 0)\n",
    "3. while (day <= 30)\n",
    "4. begin:\n",
    "5.     day = day + 1\n",
    "6.     moneyBox = moneyBOx + 10\n",
    "7. end\n",
    "8. 列印出小明存的錢總數"
   ]
  },
  {
   "cell_type": "code",
   "execution_count": 5,
   "metadata": {},
   "outputs": [
    {
     "name": "stdout",
     "output_type": "stream",
     "text": [
      "小明存的錢共有： 900\n"
     ]
    }
   ],
   "source": [
    "moneyBox = 0\n",
    "day = 1\n",
    "while day <= 30:\n",
    "    moneyBox = moneyBox + 30\n",
    "    day = day + 1\n",
    "print(\"小明存的錢共有：\", moneyBox)"
   ]
  },
  {
   "cell_type": "markdown",
   "metadata": {},
   "source": [
    "### 計數型迴圈\n",
    "\n",
    "for迴圈是另一種迴圈概念，它可以固定次數來執行一段程式碼。如果要執行一段程式碼5次，則可以計數的方式，1, 2, 3, 4, 5一次又一次的來執行程式，[1, 2, 3, 4, 5]稱為次序(sequence)。\n",
    "for迴圈的組成，包含\n",
    "* for關鍵字\n",
    "* 計數變數\n",
    "* in關鍵字\n",
    "* 一組次序，如 [1,2,3,4,5]。python程式語言提供一個內建函數，range(n)，可以產生一組次序，[0,1,2,3,4...,n-1]。\n",
    "\n",
    "**讓我們用for迴圈來解決小明每天存10元的問題**"
   ]
  },
  {
   "cell_type": "markdown",
   "metadata": {},
   "source": [
    "用虛擬碼(Pseudo code)的形式來描述這個問題。\n",
    "1. 設定空的存錢筒(moneyBox = 0)\n",
    "2. for [1,2,3,4...,30]\n",
    "3. begin:\n",
    "4.     moneyBox = moneyBOx + 10\n",
    "5. end\n",
    "6. 列印出小明存的錢總數"
   ]
  },
  {
   "cell_type": "code",
   "execution_count": 4,
   "metadata": {},
   "outputs": [
    {
     "name": "stdout",
     "output_type": "stream",
     "text": [
      "小明存的錢共有： 900\n"
     ]
    }
   ],
   "source": [
    "moneyBox = 0\n",
    "for day in range(30):\n",
    "    moneyBox = moneyBox + 30\n",
    "print(\"小明存的錢共有：\", moneyBox)"
   ]
  },
  {
   "cell_type": "markdown",
   "metadata": {},
   "source": [
    "### 如果小明的父親第一天給小明1元，第二天給2元，第二天給3元，...以此類推。過了30天，小明得到多少錢？"
   ]
  },
  {
   "cell_type": "markdown",
   "metadata": {},
   "source": [
    "**while回圈**\n",
    "\n",
    "先讓我們用虛擬碼(Pseudo code)的形式來描述這個問題。\n",
    "1. 設定空的存錢筒(moneyBox = 0)\n",
    "2. 設定天數變數為1(day = 1)\n",
    "3. while (day <= 30)\n",
    "4. begin:\n",
    "5.     money = day\n",
    "6.     moneyBox = moneyBOx + money\n",
    "7.     day = day+1\n",
    "8. end\n",
    "9. 列印出小明存的錢總數"
   ]
  },
  {
   "cell_type": "code",
   "execution_count": 6,
   "metadata": {},
   "outputs": [
    {
     "name": "stdout",
     "output_type": "stream",
     "text": [
      "小明存的錢共有： 465\n"
     ]
    }
   ],
   "source": [
    "moneyBox = 0\n",
    "day = 1\n",
    "while day <= 30:\n",
    "    momdy = day\n",
    "    moneyBox = moneyBox + day\n",
    "    day = day + 1\n",
    "print(\"小明存的錢共有：\", moneyBox)"
   ]
  },
  {
   "cell_type": "markdown",
   "metadata": {},
   "source": [
    "**for迴圈**\n",
    "\n",
    "用虛擬碼(Pseudo code)的形式來描述這個問題。\n",
    "\n",
    "1. 設定空的存錢筒(moneyBox = 0)\n",
    "2. for day in [1,2,3,4...,30]\n",
    "3. begin:\n",
    "4. moneyBox = moneyBOx + day\n",
    "5. end\n",
    "6. 列印出小明存的錢總數"
   ]
  },
  {
   "cell_type": "code",
   "execution_count": 7,
   "metadata": {},
   "outputs": [
    {
     "name": "stdout",
     "output_type": "stream",
     "text": [
      "小明存的錢共有： 465\n"
     ]
    }
   ],
   "source": [
    "moneyBox = 0\n",
    "for day in range(1,31):\n",
    "    moneyBox = moneyBox + day\n",
    "print(\"小明存的錢共有：\", moneyBox)"
   ]
  },
  {
   "cell_type": "markdown",
   "metadata": {},
   "source": [
    "### range( )函式"
   ]
  },
  {
   "cell_type": "markdown",
   "metadata": {},
   "source": [
    "range()函式可以產生一個順序的數列，如1,2,3,4,...。range函式有三種類型\n",
    "\n",
    "* range(n): 產生0, 1, 2, ..., n-1數列\n",
    "* range(n, m): 產生n, n+1, n+2, ..., m-2, m-1數列\n",
    "* range(n, m, p): 產生n, n+p, n+2p, ..., (最接近m)數列"
   ]
  },
  {
   "cell_type": "code",
   "execution_count": 10,
   "metadata": {},
   "outputs": [
    {
     "name": "stdout",
     "output_type": "stream",
     "text": [
      "0 1 2 3 4 \n",
      "\n"
     ]
    }
   ],
   "source": [
    "for i in range(5):\n",
    "    print(i, end=\" \")\n",
    "print(\"\\n\")"
   ]
  },
  {
   "cell_type": "code",
   "execution_count": 11,
   "metadata": {},
   "outputs": [
    {
     "name": "stdout",
     "output_type": "stream",
     "text": [
      "2 3 4 5 6 \n",
      "\n"
     ]
    }
   ],
   "source": [
    "for i in range(2,7):\n",
    "    print(i, end=\" \")\n",
    "print(\"\\n\")"
   ]
  },
  {
   "cell_type": "code",
   "execution_count": 12,
   "metadata": {},
   "outputs": [
    {
     "name": "stdout",
     "output_type": "stream",
     "text": [
      "1 5 9 13 17 \n",
      "\n"
     ]
    }
   ],
   "source": [
    "for i in range(1,20,4):\n",
    "    print(i, end=\" \")\n",
    "print(\"\\n\")"
   ]
  },
  {
   "cell_type": "code",
   "execution_count": 15,
   "metadata": {},
   "outputs": [
    {
     "name": "stdout",
     "output_type": "stream",
     "text": [
      "20 17 14 11 8 5 \n",
      "\n"
     ]
    }
   ],
   "source": [
    "for i in range(20, 2,-3):\n",
    "    print(i, end=\" \")\n",
    "print(\"\\n\")"
   ]
  },
  {
   "cell_type": "markdown",
   "metadata": {},
   "source": [
    "### 產生一個1到n的正整數數列"
   ]
  },
  {
   "cell_type": "code",
   "execution_count": 16,
   "metadata": {},
   "outputs": [
    {
     "name": "stdout",
     "output_type": "stream",
     "text": [
      "input a number: 22\n",
      "1 2 3 4 5 6 7 8 9 10 11 12 13 14 15 16 17 18 19 20 21 22 22\n"
     ]
    }
   ],
   "source": [
    "n = int(input(\"input a number: \"))\n",
    "for i in range(1,n+1):\n",
    "    print(i, end=\" \")\n",
    "print(i)"
   ]
  },
  {
   "cell_type": "markdown",
   "metadata": {},
   "source": [
    "### 求1+2+3...+n=?"
   ]
  },
  {
   "cell_type": "code",
   "execution_count": null,
   "metadata": {
    "collapsed": true
   },
   "outputs": [],
   "source": []
  },
  {
   "cell_type": "markdown",
   "metadata": {},
   "source": [
    "### 求1到n的整數中奇數的和？"
   ]
  },
  {
   "cell_type": "code",
   "execution_count": 21,
   "metadata": {},
   "outputs": [
    {
     "name": "stdout",
     "output_type": "stream",
     "text": [
      "input a number: 44\n",
      "1+3+5+7+9+11+13+15+17+19+21+23+25+27+29+31+33+35+37+39+41+43+0 =  484\n"
     ]
    }
   ],
   "source": [
    "n = int(input(\"input a number: \"))\n",
    "total = 0\n",
    "for i in range(1, n+1):\n",
    "    if i%2 == 0:\n",
    "        pass\n",
    "    else:\n",
    "        print(str(i)+\"+\", end=\"\")\n",
    "        total = total + i\n",
    "print(\"0 = \", total)"
   ]
  },
  {
   "cell_type": "markdown",
   "metadata": {},
   "source": [
    "### 判斷質數"
   ]
  },
  {
   "cell_type": "markdown",
   "metadata": {},
   "source": [
    "質數(prime number)的定義為除了1和本身外，沒有其他的公因數，則稱為質數。\n",
    "\n",
    "質數判斷規則如下：已知一個整數 n ，若\n",
    "* n 為偶數，2..n/2均無任何數可以整除 n，則 n 為質數。\n",
    "* n 為奇數，2..(n/2)+1均無任何數可以整除 n，則 n 為質數。\n",
    "\n",
    "否則 n 不為質數"
   ]
  },
  {
   "cell_type": "code",
   "execution_count": 12,
   "metadata": {},
   "outputs": [
    {
     "name": "stdout",
     "output_type": "stream",
     "text": [
      "輸入一個整數：121\n",
      "121不是質數\n"
     ]
    }
   ],
   "source": [
    "n = int(input(\"輸入一個整數：\"))\n",
    "\n",
    "is_prime = True\n",
    "if n%2==0:\n",
    "    for i in range(2,n//2+1):\n",
    "        if n%i==0:\n",
    "            is_prime = False\n",
    "            break\n",
    "else:\n",
    "    for i in range(2,(n+1)//2+1):\n",
    "        if n%i==0:\n",
    "            is_prime = False\n",
    "            break\n",
    "if is_prime == True:\n",
    "    print(\"{}是質數\".format(n))\n",
    "else:\n",
    "    print(\"{}不是質數\".format(n))"
   ]
  },
  {
   "cell_type": "code",
   "execution_count": null,
   "metadata": {
    "collapsed": true
   },
   "outputs": [],
   "source": []
  }
 ],
 "metadata": {
  "kernelspec": {
   "display_name": "Python 3",
   "language": "python",
   "name": "python3"
  },
  "language_info": {
   "codemirror_mode": {
    "name": "ipython",
    "version": 3
   },
   "file_extension": ".py",
   "mimetype": "text/x-python",
   "name": "python",
   "nbconvert_exporter": "python",
   "pygments_lexer": "ipython3",
   "version": "3.6.1"
  }
 },
 "nbformat": 4,
 "nbformat_minor": 2
}
