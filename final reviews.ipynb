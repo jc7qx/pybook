{
 "cells": [
  {
   "cell_type": "markdown",
   "metadata": {},
   "source": [
    "<h1><center>期末考複習</center></h1>"
   ]
  },
  {
   "cell_type": "markdown",
   "metadata": {},
   "source": [
    "## 1. Tuple的特性"
   ]
  },
  {
   "cell_type": "markdown",
   "metadata": {},
   "source": [
    "1. 以序列的方式儲存資料\n",
    "2. tuple中的資料不能更改(Immutable)\n",
    "3. Tuple的內容可以是不一樣資料型別"
   ]
  },
  {
   "cell_type": "markdown",
   "metadata": {},
   "source": [
    "## 2. 建立Tuple的方式\n",
    "    (1) t = (1, 2, 3)\n",
    "    (2) l = [1, 2, 3]\n",
    "        t = list(l)"
   ]
  },
  {
   "cell_type": "markdown",
   "metadata": {},
   "source": [
    "## 3. Tuple的內容不可更改\n",
    "\n",
    "已知 t = (1, 2.3, 'abc')，若 t[2] = 456，則產生以下錯誤\n",
    "> TypeError: ‘tuple’ object does not support item assignment (tuple物件不支持內容指派)\n"
   ]
  },
  {
   "cell_type": "markdown",
   "metadata": {},
   "source": [
    "## 4. Tuple的運作\n",
    "    (1) 「＋」可以連結二個Tuple，如(1, 2, 3) + (4, 5, 6) = (1, 2, 3, 4, 5, 6)，\n",
    "        但如果 (1, 2, 3) + [4, 5, 6]則發生錯誤，為什麼呢？\n",
    "    (2) 如 t = (1, 3, 5, 7, 9)，t[2], t[1:3], t[-3], t[:-3] = ? t[::2] = ?\n",
    "    (3) 如 t = (2, 4, 6, 8)，t.count(2), len(t), sum(t), sorted(t) = ?\n",
    "    (4) Tuple沒有刪除的操作，為什麼？"
   ]
  },
  {
   "cell_type": "markdown",
   "metadata": {},
   "source": [
    "## 5. Dictionary(字典)的特性\n",
    "    (1) 提供複合式的資料型別，如 ｛\"name\":\"Jason\", \"age\":19, \"phone\":\"0911923019\"}\n",
    "    (2) 字典的內容可以改變(Mutable)\n",
    "    (3) 字典的資料結構是一種「key:value」配對方式\n",
    "    (4) 字典的資料類型可視為一個「對應關係」，如 \"統一獅\" -> \"台南市\"，\"中信兄弟\" -> \"台中市\"，\"富邦悍將\" -> \"新北市\"\n",
    "    (5) 字典的表示方式是利用{}，如 t = {\"統一獅\":\"台南市\"，\"中信兄弟\":\"台中市\"，\"富邦悍將\":\"新北市\n",
    "    (6) 字典內容的存取是根據「key」而非「索引位置」\n",
    "    (7) 字典的「key」不可重複"
   ]
  },
  {
   "cell_type": "markdown",
   "metadata": {},
   "source": [
    "## 6. 字典建立的方式\n",
    "    (1) { }來定義字典結構，字典中的每一筆資料是利用「key : value」方式來定義資料，\n",
    "        每筆資料之間以「,」來分隔開\n",
    "    (2) 先定義一個Tuple的串列，再利用dict()函式來定義字典。\n",
    "        a = [(\"統一獅\":\"台南市\")，(\"中信兄弟\":\"台中市\")，(\"富邦悍將\":\"新北市\")]\n",
    "        t = dict(a)\n",
    "    (3) 先定義一個空字典，t = {}，再利用新增方式建立字典，\n",
    "        t[\"統一獅\"]=\"台南市\"\n",
    "        t[\"中信兄弟\"]=\"台中市\"\n",
    "        t[\"富邦悍將\"]=\"新北市\"\n",
    "        print(t)的結果？"
   ]
  },
  {
   "cell_type": "markdown",
   "metadata": {},
   "source": [
    "## 7. 字典的操作函式，已知以下字典\n",
    "    d = {'統一獅': '台南市', '桃猿': '桃園市', '中信兄弟': '台中市', '富邦悍將': '新北市'}\n",
    "    (1) 資料存取，d.get(\"中信兄弟\"), d.keys(), d.values(), d.items()=?\n",
    "    (2) pop操作，d.popitem(), d.pop(\"桃猿\")，請比較pop操作前後字典的變化？\n",
    "    (3) 利用fromekeys()統一建立字典的「key」，若 ll = [\"abc\", \"foo\", \"lkk\"], \n",
    "        試試看 dict.fromekeys(ll)的結果？\n",
    "    (4) 利用update(dict)來更新字典的內容，如果dict不在原有字典中，則新增資料。\n",
    "        如 d.update({\"太魯閣\"：\"台東\"})=?\n",
    "    (5) copy及clear分別為「拷貝字典」及「消除字典」，如 a = d.copy(), d.clear(), \n",
    "        print(a), print(d)"
   ]
  },
  {
   "cell_type": "markdown",
   "metadata": {},
   "source": [
    "## 8. 程式撰寫練習\n",
    "\n",
    "    請用鍵盤輸入方式輸入3筆學生資料，按照學號排序。"
   ]
  },
  {
   "cell_type": "markdown",
   "metadata": {},
   "source": [
    "## 9. 自訂函式的重點\n",
    "    (1) 使用者自訂函式使用def關鍵字\n",
    "    (2) 定義函式名稱\n",
    "    (3) 名稱後小括號內包含輸入參數列，參數可有可無，如有多個參數，用逗點「,」隔開\n",
    "    (4) 小括號後一定要加「:」符號\n",
    "    (5) 函式內部的程式敘述要遵守內縮規則\n",
    "    (6) return關鍵字可將函式結果輸出\n",
    "    (7) 函式執行碰到return關鍵字，停止執行，跳出函式"
   ]
  },
  {
   "cell_type": "markdown",
   "metadata": {},
   "source": [
    "## 10. 程式撰寫練習\n",
    "    攝氏與華氏溫度轉換。"
   ]
  },
  {
   "cell_type": "markdown",
   "metadata": {},
   "source": [
    "## 11. 重要的內建函式: \n",
    "    int(), bin(), str(), round(), pow(), divmod(), max(), min(), sum()\n"
   ]
  },
  {
   "cell_type": "markdown",
   "metadata": {},
   "source": [
    "## 12. 函式庫的運用\n",
    "    1. 使用函式庫前，必須先導入 import\n",
    "    2. 使用函式庫的函式，函式庫與函式間加「.」，如 math.trunc, random.randomint(1,100)\n"
   ]
  },
  {
   "cell_type": "markdown",
   "metadata": {},
   "source": [
    "## 13. 全域變數與區域變數\n",
    "    (1) 函式內部的變數（包含輸入參數）稱為區域變數(Local variable)\n",
    "    (2) 區域變數的有效範圍只有在函式內部，離開函式就無法作用\n",
    "    (3) 全域變數則是在函式外定義的變數\n",
    "    (4) 當函式內定義與全域變數相同名稱的區域變數時，若要存取全域變數時，必須在函式內先宣告 global\n",
    "    (5) 變數使用前必先宣告設定"
   ]
  },
  {
   "cell_type": "markdown",
   "metadata": {},
   "source": [
    "## 14. 投影片32頁變數影響範例"
   ]
  },
  {
   "cell_type": "markdown",
   "metadata": {},
   "source": [
    "## 15. 串列(list)特性\n",
    "    (1) 資料儲存在連續鄰近的記憶體中\n",
    "    (2) 利用資料索引位置可很快找出資料\n",
    "    (3) List串列允許儲存不同類型的資料元素"
   ]
  },
  {
   "cell_type": "markdown",
   "metadata": {},
   "source": [
    "## 16. 建立串列的方式\n",
    "    (1) 利用[元素1, 元素2, ...]建立串列，如 a = [1, 2.3, 4.56e5, \"abc\"]\n",
    "    (2) 先建立一個空串列，如 a = []，再利用 append(元素)及extend([串列])的方法新增串列內容，\n",
    "        試試看 a.append('xyz')及a.extend(['p','y','t','h','o','n'])"
   ]
  },
  {
   "cell_type": "markdown",
   "metadata": {},
   "source": [
    "## 17. 串列操作"
   ]
  },
  {
   "cell_type": "code",
   "execution_count": 8,
   "metadata": {},
   "outputs": [
    {
     "name": "stdout",
     "output_type": "stream",
     "text": [
      "[78, 29, 57, 19, 95, 98, 12, 32, 13, 100, 11, 90, 81, 87, 56]\n"
     ]
    }
   ],
   "source": [
    "import random\n",
    "\n",
    "a = []\n",
    "for i in range(15):\n",
    "    a.append(random.randint(1,100))\n",
    "print(a)"
   ]
  },
  {
   "cell_type": "markdown",
   "metadata": {},
   "source": [
    "a[:], a[3:6], a[3::3], a[-5], a[3:-5], del a[2], del [1:3]\n",
    "a.pop(), a.pop(3), a.index(13), a.count(90)\n",
    "len(a), min(a), max(a), sum(a)"
   ]
  },
  {
   "cell_type": "markdown",
   "metadata": {},
   "source": [
    "## 檔案處理"
   ]
  },
  {
   "cell_type": "markdown",
   "metadata": {},
   "source": [
    "## 18.  OS模組重要函式\n",
    "請說明以下os指令的用途\n",
    "* os.getcwd()\n",
    "* os.mkdir(path)\n",
    "* os.rmdir(path)\n",
    "* os.remove(path)\n",
    "* os.chdir(path)\n",
    "* os.listdir()"
   ]
  },
  {
   "attachments": {},
   "cell_type": "markdown",
   "metadata": {},
   "source": [
    "## 19. 檔案開關\n",
    "\n",
    "    1. 內建函式 open() 作為開啟檔案\n",
    "    2. fp = open(檔案名稱, 開檔模式, 檔案編碼)\n",
    "        * fp為一個檔案變數\n",
    "        * 如果檔案名稱不存在會發生開檔錯誤(FileNotFoundError:)\n",
    "        * 開檔模式：「r」，「w」，「a」，「t」，「b」\n",
    "        * 編碼模式：encoding='utf-8'\n",
    "    3. with\n",
    "    4. fp.close()關閉檔案"
   ]
  },
  {
   "attachments": {},
   "cell_type": "markdown",
   "metadata": {},
   "source": [
    "## 20. 常用檔案操作函式\n",
    "\n",
    "讀取文檔三個方法 read()、readline()、readlines()"
   ]
  },
  {
   "cell_type": "markdown",
   "metadata": {},
   "source": [
    "### `read()`\n",
    "```python\n",
    "fp = open(\"test.txt\", 'r')\n",
    "fp.read(10)\n",
    "fp.read()\n",
    "```"
   ]
  },
  {
   "attachments": {},
   "cell_type": "markdown",
   "metadata": {},
   "source": [
    "### `readline()`\n",
    "* readline()每次讀取一行\n",
    "* readline()回傳的是一個字串\n",
    "\n",
    "```python\n",
    "fp = open(“test.txt”, ‘r’)\n",
    "while true:\n",
    "    line = fp.readline()\n",
    "    if line:\n",
    "        print(line)\n",
    "    else:\n",
    "        break\n",
    "fp.close()\n",
    "```\n"
   ]
  },
  {
   "attachments": {},
   "cell_type": "markdown",
   "metadata": {},
   "source": [
    "## readlines()\n",
    "\n",
    "* 一次性讀取整個文檔。\n",
    "* 自動將文檔內容分析成一個列表\n"
   ]
  },
  {
   "cell_type": "code",
   "execution_count": null,
   "metadata": {},
   "outputs": [],
   "source": []
  }
 ],
 "metadata": {
  "kernelspec": {
   "display_name": "Python 3",
   "language": "python",
   "name": "python3"
  },
  "language_info": {
   "codemirror_mode": {
    "name": "ipython",
    "version": 3
   },
   "file_extension": ".py",
   "mimetype": "text/x-python",
   "name": "python",
   "nbconvert_exporter": "python",
   "pygments_lexer": "ipython3",
   "version": "3.6.5"
  }
 },
 "nbformat": 4,
 "nbformat_minor": 2
}
