{
 "cells": [
  {
   "cell_type": "markdown",
   "metadata": {
    "slideshow": {
     "slide_type": "slide"
    }
   },
   "source": [
    "<center> <H1>第三章 變數與運算式</H1> </center>"
   ]
  },
  {
   "cell_type": "markdown",
   "metadata": {},
   "source": [
    "## 3.1 變數定義"
   ]
  },
  {
   "cell_type": "markdown",
   "metadata": {},
   "source": [
    "程式設計時，變數可代表資料，變數會佔據一塊記憶體，資料儲存在記憶體中。例如，`A = 5`，A 是變數，5 是儲存在 A 的記憶體中的資料，`A=5`可以解讀為將5**指定**給 A，A變數的內容為5。"
   ]
  },
  {
   "cell_type": "code",
   "execution_count": null,
   "metadata": {
    "collapsed": true
   },
   "outputs": [],
   "source": [
    "m = \"Jeremy is one of best NBA players\"\n",
    "n = 100\n",
    "f = 3.14159"
   ]
  },
  {
   "cell_type": "markdown",
   "metadata": {
    "collapsed": true
   },
   "source": [
    "Python程式語言的變數不需要事先宣告，因為python屬於**動態型別**，當指定變數內容時，變數的資料型別將隨之改變，這點不同於Java或C/C++程式語言(必須先經過<u>資料型別宣告</u>)，但變數命名須符合規定。不同的資料型別所佔的記憶體大小也不同。"
   ]
  },
  {
   "cell_type": "code",
   "execution_count": 1,
   "metadata": {},
   "outputs": [
    {
     "name": "stdout",
     "output_type": "stream",
     "text": [
      "Hello <class 'str'> 54\n",
      "123 <class 'int'> 28\n",
      "3.14 <class 'float'> 24\n",
      "True <class 'bool'> 28\n"
     ]
    }
   ],
   "source": [
    "import sys\n",
    "a = \"Hello\"\n",
    "print(a, type(a), sys.getsizeof(a))\n",
    "a = 123\n",
    "print(a, type(a), sys.getsizeof(a))\n",
    "a = 3.14\n",
    "print(a, type(a), sys.getsizeof(a))\n",
    "a = True\n",
    "print(a, type(a), sys.getsizeof(a))"
   ]
  },
  {
   "cell_type": "markdown",
   "metadata": {},
   "source": [
    "> **sys.getsizeof( )**是一個系統函式，在sys模組之下，可以顯示資料的記憶體大小"
   ]
  },
  {
   "cell_type": "markdown",
   "metadata": {},
   "source": [
    "### 變數命名規則"
   ]
  },
  {
   "cell_type": "markdown",
   "metadata": {},
   "source": [
    "- 變數名稱以英文命名\n",
    "- 名稱大小寫不同時，是為不同變數\n",
    "- 變數名稱可以是英文字元、數字、底線符號\n",
    "- 變數名稱的長度不限，但應以有意義者為佳\n",
    "- 變數的地一個字元不可為數字\n",
    "- 變數名稱中不可有特殊符號，!@#$%^&*\n",
    "- 變數名稱不可是python保留字\n",
    "\n",
    "> Python程式語言的保留字，請參考[這裡](https://www.programiz.com/python-programming/keyword-list)"
   ]
  },
  {
   "cell_type": "code",
   "execution_count": null,
   "metadata": {
    "collapsed": true
   },
   "outputs": [],
   "source": [
    "abc = 123\n",
    "Abc = 456\n",
    "print(abc, Abc)"
   ]
  },
  {
   "cell_type": "code",
   "execution_count": null,
   "metadata": {
    "collapsed": true
   },
   "outputs": [],
   "source": [
    "_abc = 123"
   ]
  },
  {
   "cell_type": "code",
   "execution_count": null,
   "metadata": {
    "collapsed": true
   },
   "outputs": [],
   "source": [
    "_abc_ = 123"
   ]
  },
  {
   "cell_type": "code",
   "execution_count": null,
   "metadata": {
    "collapsed": true
   },
   "outputs": [],
   "source": [
    "ab_c = 123"
   ]
  },
  {
   "cell_type": "code",
   "execution_count": null,
   "metadata": {
    "collapsed": true
   },
   "outputs": [],
   "source": [
    "theNumberOfClassAtEEdeptinCust = 36"
   ]
  },
  {
   "cell_type": "code",
   "execution_count": null,
   "metadata": {
    "collapsed": true
   },
   "outputs": [],
   "source": [
    "a1b2c3 = 123"
   ]
  },
  {
   "cell_type": "code",
   "execution_count": null,
   "metadata": {
    "collapsed": true
   },
   "outputs": [],
   "source": [
    "1abc = 123 #語法錯誤，第一個字元不可為數字"
   ]
  },
  {
   "cell_type": "code",
   "execution_count": null,
   "metadata": {
    "collapsed": true
   },
   "outputs": [],
   "source": [
    "a@bc = 123 #語法錯誤，名稱中不可含有特殊符號"
   ]
  },
  {
   "cell_type": "code",
   "execution_count": null,
   "metadata": {
    "collapsed": true
   },
   "outputs": [],
   "source": [
    "ab-c = 123 #語法錯誤，名稱中不可含有特殊符號"
   ]
  },
  {
   "cell_type": "code",
   "execution_count": null,
   "metadata": {
    "collapsed": true
   },
   "outputs": [],
   "source": [
    "while = 123"
   ]
  },
  {
   "cell_type": "code",
   "execution_count": null,
   "metadata": {
    "collapsed": true
   },
   "outputs": [],
   "source": [
    "for = 456"
   ]
  },
  {
   "cell_type": "markdown",
   "metadata": {},
   "source": [
    "## 3.2 運算式"
   ]
  },
  {
   "cell_type": "markdown",
   "metadata": {},
   "source": [
    "運算式是由運算子與運算元組成，`5+3`的算式中，`5`和`3`是運算元，`+`是運算子。資料的基本運算符號，稱之為運算子(operator)，數值運算子包括：\n",
    "\n",
    "運算子|意義    | 範例\n",
    ":---:|:-------|:------:\n",
    "+    |  加法   | 5+3\n",
    "-    |  減法   | 5-3\n",
    "*    |  乘法   | 5*3\n",
    "/    |  除法   | 5/3\n",
    "//   |  求商   | 5//3\n",
    "%    |  取餘數 | 5%3\n",
    "**   |  乘方   | 5**3\n"
   ]
  },
  {
   "cell_type": "code",
   "execution_count": 3,
   "metadata": {},
   "outputs": [
    {
     "name": "stdout",
     "output_type": "stream",
     "text": [
      "<class 'float'>\n",
      "<class 'int'>\n",
      "<class 'int'>\n"
     ]
    }
   ],
   "source": [
    "print(type(5/3))\n",
    "print(type(5//3))\n",
    "print(type(5%3))"
   ]
  },
  {
   "cell_type": "markdown",
   "metadata": {},
   "source": [
    "運算過程中的資料，稱之為運算元(operand)，運算元可以是常數、變數、函式。"
   ]
  },
  {
   "cell_type": "markdown",
   "metadata": {},
   "source": [
    "> 請將上表中的運算式範例輸入到Python命令列模式計算結果？"
   ]
  },
  {
   "cell_type": "markdown",
   "metadata": {},
   "source": [
    "### 課堂練習，請你再python命令列執行模式中，輸入以下數學式\n",
    "1. 2*3/1/3+1\n",
    "2. 2*3/(1/3)+1\n",
    "3. 2*3/1/(3+1)\n",
    "4. (2*3)/1/3+1\n",
    "\n",
    "請輸出計算結果？"
   ]
  },
  {
   "cell_type": "markdown",
   "metadata": {},
   "source": [
    "$2*\\frac{3}{\\frac{1}{3}}+1$"
   ]
  },
  {
   "cell_type": "markdown",
   "metadata": {},
   "source": [
    "### 課堂練習：一元二次方程式求解"
   ]
  },
  {
   "cell_type": "markdown",
   "metadata": {},
   "source": [
    "### 資料型別轉換(Data Type Conversion)\n",
    "\n",
    "已知 ax<sup>2</sup>+bx+c=0，a, b, c為一元二次方程式參數，請問x=? <br>\n",
    "x = $\\frac{-b+\\sqrt{b^2-4ac}}{2a}$ , $\\frac{-b-\\sqrt{b^2-4ac}}{2a}$ <br>\n",
    "> 若：<br>\n",
    "> $b^2-4ac>0$ => 有二個相異實數解 <br>\n",
    "> $b^2-4ac=0$ => 只有一個解 <br>\n",
    "> $b^2-4ac<0$ => 無解 <br>"
   ]
  },
  {
   "cell_type": "markdown",
   "metadata": {},
   "source": [
    "### 課堂練習\n",
    "\n",
    "若已知 a = 3, b = 7, c = 2，請你用Pyhton程式計算出 <br>\n",
    "1. $b^2 - 4ac $  = ? <br>\n",
    "2. 此方程式有幾個解？ <br>\n",
    "3. x = ? <br>"
   ]
  },
  {
   "cell_type": "markdown",
   "metadata": {},
   "source": [
    "## 3.3 資料型別轉換"
   ]
  },
  {
   "cell_type": "markdown",
   "metadata": {},
   "source": [
    "每一筆資料都有資料型別，以至於編譯器或直譯器知道如何處理資料，資料型別定義資料的運用，以及資料儲存的結構。"
   ]
  },
  {
   "cell_type": "markdown",
   "metadata": {},
   "source": [
    "### 自然與強制資料型別轉換\n",
    "Pyhton中資料型別的轉換有二種方式，一種是要求直譯器強制地執行資料型別轉換，另一為直譯器自動地轉換資料型別。第一種方式稱為強制轉換，第二種方式稱為自然轉換。"
   ]
  },
  {
   "cell_type": "markdown",
   "metadata": {},
   "source": [
    "#### 自然資料型別轉換\n",
    "在程式執行時，直譯器會根據資料型別自動轉換。如下例"
   ]
  },
  {
   "cell_type": "code",
   "execution_count": 1,
   "metadata": {},
   "outputs": [
    {
     "name": "stdout",
     "output_type": "stream",
     "text": [
      "3.0 <class 'float'>\n"
     ]
    }
   ],
   "source": [
    "a = 1\n",
    "b = 2.0\n",
    "c = a+b\n",
    "print(c, type(c))"
   ]
  },
  {
   "cell_type": "markdown",
   "metadata": {},
   "source": [
    "上例中，a 為整數，b 為浮點數，c 為 a, b二數之和，整數加浮點數的結果，python自動將其轉換為浮點數。\n",
    "\n",
    ">**為何不是轉換為整數呢？**\n",
    "\n",
    "這牽涉程式語言的設計概念，是一種直譯器防衛機制，將資料型別轉換為較高的型別以防止資料損失精確度。"
   ]
  },
  {
   "cell_type": "markdown",
   "metadata": {},
   "source": [
    "#### 強制資料型別轉換"
   ]
  },
  {
   "cell_type": "markdown",
   "metadata": {},
   "source": [
    "強制資料型別轉換又可稱為「Type casting」，當程式中明確地需要何種資料型別時，可以利用資料型別轉換函數對資料或運算式進行轉換。通常以下列形式\n",
    "\n",
    "> (資料型別) (資料運算)\n",
    "\n",
    "當然，如前述強制轉換時可能損失資料精確度。"
   ]
  },
  {
   "cell_type": "markdown",
   "metadata": {
    "collapsed": true
   },
   "source": [
    "#### 整數轉浮點數"
   ]
  },
  {
   "cell_type": "code",
   "execution_count": 2,
   "metadata": {},
   "outputs": [
    {
     "name": "stdout",
     "output_type": "stream",
     "text": [
      "3 <class 'int'>\n",
      "3.0 <class 'float'>\n"
     ]
    }
   ],
   "source": [
    "a = 1\n",
    "b = 2\n",
    "c = float(a+b)\n",
    "print(a+b, type(a+b))\n",
    "print(c, type(c))"
   ]
  },
  {
   "cell_type": "markdown",
   "metadata": {
    "collapsed": true
   },
   "source": [
    "浮點數轉整數"
   ]
  },
  {
   "cell_type": "code",
   "execution_count": 4,
   "metadata": {},
   "outputs": [
    {
     "name": "stdout",
     "output_type": "stream",
     "text": [
      "1.575757575757576 <class 'float'>\n",
      "1 <class 'int'>\n"
     ]
    }
   ],
   "source": [
    "a = 5.2\n",
    "b = 3.3\n",
    "c = int(a/b)\n",
    "print(a/b, type(a+b))\n",
    "print(c, type(c))"
   ]
  },
  {
   "cell_type": "markdown",
   "metadata": {
    "collapsed": true
   },
   "source": [
    "### 課堂練習\n",
    "a = 3 <br>\n",
    "b = 2 <br>\n",
    "c = 3/2 ? <br>\n",
    "如何將c轉換為整數？ <br>"
   ]
  },
  {
   "cell_type": "markdown",
   "metadata": {
    "collapsed": true
   },
   "source": [
    "#### 字串轉換函數"
   ]
  },
  {
   "cell_type": "code",
   "execution_count": 18,
   "metadata": {},
   "outputs": [
    {
     "ename": "TypeError",
     "evalue": "must be str, not float",
     "output_type": "error",
     "traceback": [
      "\u001b[0;31m---------------------------------------------------------------------------\u001b[0m",
      "\u001b[0;31mTypeError\u001b[0m                                 Traceback (most recent call last)",
      "\u001b[0;32m<ipython-input-18-84eb68cd7d11>\u001b[0m in \u001b[0;36m<module>\u001b[0;34m()\u001b[0m\n\u001b[1;32m      2\u001b[0m \u001b[0megg\u001b[0m \u001b[0;34m=\u001b[0m \u001b[0;36m8\u001b[0m\u001b[0;34m\u001b[0m\u001b[0m\n\u001b[1;32m      3\u001b[0m \u001b[0mtotal\u001b[0m \u001b[0;34m=\u001b[0m \u001b[0;36m45\u001b[0m \u001b[0;34m+\u001b[0m \u001b[0;36m8\u001b[0m\u001b[0;34m\u001b[0m\u001b[0m\n\u001b[0;32m----> 4\u001b[0;31m \u001b[0mprint\u001b[0m\u001b[0;34m(\u001b[0m\u001b[0;34m\"蘋果+雞蛋=\"\u001b[0m\u001b[0;34m+\u001b[0m \u001b[0;36m3.3\u001b[0m \u001b[0;34m+\u001b[0m \u001b[0;34m\"元\"\u001b[0m\u001b[0;34m)\u001b[0m\u001b[0;34m\u001b[0m\u001b[0m\n\u001b[0m",
      "\u001b[0;31mTypeError\u001b[0m: must be str, not float"
     ]
    }
   ],
   "source": [
    "apple = 45\n",
    "egg = 8\n",
    "total = 45 + 8\n",
    "print(\"蘋果+雞蛋=\"+ total + \"元\")"
   ]
  },
  {
   "cell_type": "code",
   "execution_count": 17,
   "metadata": {},
   "outputs": [
    {
     "name": "stdout",
     "output_type": "stream",
     "text": [
      "蘋果+雞蛋=53元\n"
     ]
    }
   ],
   "source": [
    "apple = 45\n",
    "egg = 8\n",
    "total = 45 + 8\n",
    "print(\"蘋果+雞蛋=\"+ str(total)+ \"元\")"
   ]
  },
  {
   "cell_type": "markdown",
   "metadata": {},
   "source": [
    "> 字串與數值資料結合會發生型別轉換錯誤，因此必須將total先轉換成字串(str(total))，再與`\"蘋果+雞蛋=\"+str(total)+\"元“`結合一起。"
   ]
  },
  {
   "cell_type": "code",
   "execution_count": 20,
   "metadata": {},
   "outputs": [
    {
     "name": "stdout",
     "output_type": "stream",
     "text": [
      "1 2 3\n",
      "6\n",
      "123\n"
     ]
    }
   ],
   "source": [
    "a = 1; b = 2; c = 3\n",
    "print(a, b, c)              #三個整數\n",
    "print(a+b+c)                #三個整數和\n",
    "print(str(a)+str(b)+str(c)) #三個字串連結"
   ]
  },
  {
   "cell_type": "markdown",
   "metadata": {},
   "source": [
    "#### 字串轉整數"
   ]
  },
  {
   "cell_type": "code",
   "execution_count": 21,
   "metadata": {},
   "outputs": [
    {
     "name": "stdout",
     "output_type": "stream",
     "text": [
      "9\n"
     ]
    },
    {
     "ename": "ValueError",
     "evalue": "invalid literal for int() with base 10: 'nine'",
     "output_type": "error",
     "traceback": [
      "\u001b[0;31m---------------------------------------------------------------------------\u001b[0m",
      "\u001b[0;31mValueError\u001b[0m                                Traceback (most recent call last)",
      "\u001b[0;32m<ipython-input-21-f317196acbf4>\u001b[0m in \u001b[0;36m<module>\u001b[0;34m()\u001b[0m\n\u001b[1;32m      2\u001b[0m \u001b[0mprint\u001b[0m\u001b[0;34m(\u001b[0m\u001b[0mint\u001b[0m\u001b[0;34m(\u001b[0m\u001b[0ma\u001b[0m\u001b[0;34m)\u001b[0m\u001b[0;34m)\u001b[0m\u001b[0;34m\u001b[0m\u001b[0m\n\u001b[1;32m      3\u001b[0m \u001b[0mb\u001b[0m \u001b[0;34m=\u001b[0m \u001b[0;34m\"nine\"\u001b[0m\u001b[0;34m\u001b[0m\u001b[0m\n\u001b[0;32m----> 4\u001b[0;31m \u001b[0mprint\u001b[0m\u001b[0;34m(\u001b[0m\u001b[0mint\u001b[0m\u001b[0;34m(\u001b[0m\u001b[0mb\u001b[0m\u001b[0;34m)\u001b[0m\u001b[0;34m)\u001b[0m\u001b[0;34m\u001b[0m\u001b[0m\n\u001b[0m",
      "\u001b[0;31mValueError\u001b[0m: invalid literal for int() with base 10: 'nine'"
     ]
    }
   ],
   "source": [
    "a = '9'\n",
    "print(int(a))\n",
    "b = \"nine\"\n",
    "print(int(b))"
   ]
  },
  {
   "cell_type": "markdown",
   "metadata": {},
   "source": [
    "#### 二進位、八進位、16進位數轉換"
   ]
  },
  {
   "cell_type": "markdown",
   "metadata": {},
   "source": [
    "> 二進位數 = 1001111 <br>\n",
    "> 十進位數 = (1*(2^6)) + (0*(2^5)) + (0*(2^4)) + (1*(2^3)) + (1*(2^2)) + (1*(2^1)) + (1*(2^0)) = 79"
   ]
  },
  {
   "cell_type": "markdown",
   "metadata": {},
   "source": [
    "利用`bin()`函數可以將十進位數轉換成二進位數，結果是字串格式。所以，`bin(70)`轉換成1001111。"
   ]
  },
  {
   "cell_type": "code",
   "execution_count": 28,
   "metadata": {},
   "outputs": [
    {
     "name": "stdout",
     "output_type": "stream",
     "text": [
      "<class 'str'>\n",
      "0b1001111\n"
     ]
    }
   ],
   "source": [
    "a = 79\n",
    "bin_a = bin(79) #二進位\n",
    "print(bin_a)"
   ]
  },
  {
   "cell_type": "markdown",
   "metadata": {},
   "source": [
    "如果要將二進位數轉換成十進位數，可以利用`int(二進位字串, 2)`。例如，`int('0b1001111',2)`轉換為79。"
   ]
  },
  {
   "cell_type": "code",
   "execution_count": 29,
   "metadata": {},
   "outputs": [
    {
     "name": "stdout",
     "output_type": "stream",
     "text": [
      "79\n"
     ]
    }
   ],
   "source": [
    "b = int('0b1001111', 2)\n",
    "print(b)"
   ]
  },
  {
   "cell_type": "markdown",
   "metadata": {},
   "source": [
    "如果要將十進位數轉換成八進位數，可以利用oct()。例如，oct(79)轉換為0o117，為一字串。"
   ]
  },
  {
   "cell_type": "code",
   "execution_count": null,
   "metadata": {
    "collapsed": true
   },
   "outputs": [],
   "source": [
    "a = 79\n",
    "oct_a = oct(a) #八進位\n",
    "print(oct_a)"
   ]
  },
  {
   "cell_type": "markdown",
   "metadata": {},
   "source": [
    "同樣，將八進位轉換成十進位，可以利用`bin(八進位字串,8)`。"
   ]
  },
  {
   "cell_type": "code",
   "execution_count": 47,
   "metadata": {},
   "outputs": [
    {
     "name": "stdout",
     "output_type": "stream",
     "text": [
      "79\n"
     ]
    }
   ],
   "source": [
    "b = int('0o117',8)\n",
    "print(b)"
   ]
  },
  {
   "cell_type": "markdown",
   "metadata": {},
   "source": [
    "如果要將十進位數轉換成十六進位數，可以利用hex()。例如，hex(79)轉換為0x4f，為一字串。如果將十六進位數轉換成十進位數，則可使用`int(十六進位數字串,16)`。"
   ]
  },
  {
   "cell_type": "code",
   "execution_count": 2,
   "metadata": {},
   "outputs": [
    {
     "name": "stdout",
     "output_type": "stream",
     "text": [
      "0x4f\n"
     ]
    }
   ],
   "source": [
    "a = 79\n",
    "hex_a = hex(a) #16進位\n",
    "print(hex_a)"
   ]
  },
  {
   "cell_type": "code",
   "execution_count": 3,
   "metadata": {},
   "outputs": [
    {
     "name": "stdout",
     "output_type": "stream",
     "text": [
      "79\n"
     ]
    }
   ],
   "source": [
    "b = int('0x4f', 16)\n",
    "print(b)"
   ]
  },
  {
   "cell_type": "markdown",
   "metadata": {},
   "source": [
    "## 3.4 比較運算子\n",
    "\n",
    "比較運算子主要用於比較二個數值資料，數值資料可以是常數、變數、或運算式，結果以布林值呈現，如`5 > 3`，則結果為`True`。"
   ]
  },
  {
   "cell_type": "markdown",
   "metadata": {},
   "source": [
    "運算子  | 意義   |  範例   |  結果\n",
    ":-----:|:-----:|:-------:|:-------:\n",
    "==    |   等於  |  5 == 3 | False\n",
    "!=    |  不等於 |  5 != 3 | True\n",
    ">     | 大於    |  5 > 3  | True\n",
    "<     |  小於   |  5 < 3  | False\n",
    ">=    | 大於等於 |  5 >= 3 | True\n",
    "<=    | 小於等於 |  5 <= 3 | False"
   ]
  },
  {
   "cell_type": "markdown",
   "metadata": {},
   "source": [
    "### 邏輯運算式\n",
    "\n",
    "python程式語言提供`and`閘、`or`閘、及`not`閘。"
   ]
  },
  {
   "cell_type": "markdown",
   "metadata": {},
   "source": [
    "**真假值表**"
   ]
  },
  {
   "cell_type": "markdown",
   "metadata": {},
   "source": [
    "A  | B  |  A and B  | A or B | not A | not (A and B)\n",
    ":-----:|:----:|:----:|:----:|:----:|:----:\n",
    "True  |  True   | True  | True  | False  | False\n",
    "True  |  False  | False | True  | False  | True\n",
    "False |  True   | False | True  | True   | True\n",
    "False |  False  | False |False  | True   | True"
   ]
  },
  {
   "cell_type": "markdown",
   "metadata": {},
   "source": [
    "## 3.5 位元運算式"
   ]
  },
  {
   "cell_type": "markdown",
   "metadata": {},
   "source": [
    "Python提供位元運算式，包括and運算(&)，or運算(|)，not運算(~)，互斥或運算(^)，shift運算(>>及<<)。"
   ]
  },
  {
   "cell_type": "markdown",
   "metadata": {},
   "source": [
    "**二位元數轉換**"
   ]
  },
  {
   "cell_type": "code",
   "execution_count": 12,
   "metadata": {
    "collapsed": true
   },
   "outputs": [],
   "source": [
    "a = 23\n",
    "bin_a = bin(a)\n",
    "b = 12\n",
    "bin_b = bin(b)"
   ]
  },
  {
   "cell_type": "markdown",
   "metadata": {},
   "source": [
    "**二位元加法**"
   ]
  },
  {
   "cell_type": "code",
   "execution_count": 18,
   "metadata": {},
   "outputs": [
    {
     "name": "stdout",
     "output_type": "stream",
     "text": [
      "   23   0b10111\n",
      "   12    0b1100\n",
      "   35  0b100011\n"
     ]
    }
   ],
   "source": [
    "c = a+b\n",
    "print(\"{:5d}{:>10s}\".format(a, bin_a))\n",
    "print(\"{:5d}{:>10s}\".format(b, bin_b))\n",
    "print(\"{:5d}{:>10s}\".format(c, bin(c)))"
   ]
  },
  {
   "cell_type": "markdown",
   "metadata": {},
   "source": [
    "**a and b**"
   ]
  },
  {
   "cell_type": "code",
   "execution_count": 19,
   "metadata": {},
   "outputs": [
    {
     "name": "stdout",
     "output_type": "stream",
     "text": [
      "   23   0b10111\n",
      "   12    0b1100\n",
      "    4     0b100\n"
     ]
    }
   ],
   "source": [
    " c = a&b\n",
    "print(\"{:5d}{:>10s}\".format(a, bin_a))\n",
    "print(\"{:5d}{:>10s}\".format(b, bin_b))\n",
    "print(\"{:5d}{:>10s}\".format(c, bin(c)))"
   ]
  },
  {
   "cell_type": "markdown",
   "metadata": {},
   "source": [
    "**a or b**"
   ]
  },
  {
   "cell_type": "code",
   "execution_count": 20,
   "metadata": {},
   "outputs": [
    {
     "name": "stdout",
     "output_type": "stream",
     "text": [
      "   23   0b10111\n",
      "   12    0b1100\n",
      "   31   0b11111\n"
     ]
    }
   ],
   "source": [
    "c = a|b\n",
    "print(\"{:5d}{:>10s}\".format(a, bin_a))\n",
    "print(\"{:5d}{:>10s}\".format(b, bin_b))\n",
    "print(\"{:5d}{:>10s}\".format(c, bin(c)))"
   ]
  },
  {
   "cell_type": "markdown",
   "metadata": {},
   "source": [
    "**not A**"
   ]
  },
  {
   "cell_type": "code",
   "execution_count": 23,
   "metadata": {},
   "outputs": [
    {
     "name": "stdout",
     "output_type": "stream",
     "text": [
      "0b10111 -0b11000\n"
     ]
    }
   ],
   "source": [
    "print(bin(a), bin(~a))"
   ]
  },
  {
   "cell_type": "code",
   "execution_count": 24,
   "metadata": {},
   "outputs": [
    {
     "name": "stdout",
     "output_type": "stream",
     "text": [
      "   23   0b10111\n",
      "   12    0b1100\n",
      "   27   0b11011\n"
     ]
    }
   ],
   "source": [
    "c = a^b\n",
    "print(\"{:5d}{:>10s}\".format(a, bin_a))\n",
    "print(\"{:5d}{:>10s}\".format(b, bin_b))\n",
    "print(\"{:5d}{:>10s}\".format(c, bin(c)))"
   ]
  },
  {
   "cell_type": "markdown",
   "metadata": {},
   "source": [
    "** shift 運算**"
   ]
  },
  {
   "cell_type": "code",
   "execution_count": 26,
   "metadata": {},
   "outputs": [
    {
     "name": "stdout",
     "output_type": "stream",
     "text": [
      "23 11 46\n"
     ]
    }
   ],
   "source": [
    "c = a>>1 # a/2\n",
    "d = a<<1 # a*2\n",
    "print(a, c, d)"
   ]
  },
  {
   "cell_type": "markdown",
   "metadata": {},
   "source": [
    "### 課堂練習\n",
    "\n",
    "已知 a = 33, b = 54，請計算出系列運算是的結果\n",
    "\n",
    "* 將 a, b 轉換為二位元數\n",
    "* 計算 a+b 的值\n",
    "* 計算 a&b, a|b, a^b\n",
    "* 計算 a>>3, b<<2"
   ]
  },
  {
   "cell_type": "code",
   "execution_count": 41,
   "metadata": {},
   "outputs": [
    {
     "name": "stdout",
     "output_type": "stream",
     "text": [
      "  A    0b100001 33\n",
      "  B    0b110110 54\n",
      " A&B   0b100000 32\n",
      " A|B   0b110111 55\n",
      " A^B    0b10111 23\n",
      "A>>1    0b10000 16\n",
      "A<<1  0b1000010 66\n"
     ]
    }
   ],
   "source": [
    "A = 33\n",
    "B = 54\n",
    "print(\"{:^5s}{:>10s}{:3d}\".format('A', bin(A), A))\n",
    "print(\"{:^5s}{:>10s}{:3d}\".format('B', bin(B), B))\n",
    "print(\"{:^5s}{:>10s}{:3d}\".format('A&B', bin(A&B), A&B))\n",
    "print(\"{:^5s}{:>10s}{:3d}\".format('A|B', bin(A|B), A|B))\n",
    "print(\"{:^5s}{:>10s}{:3d}\".format('A^B', bin(A^B), A^B))\n",
    "print(\"{:^5s}{:>10s}{:3d}\".format('A>>1', bin(A>>1), A>>1))\n",
    "print(\"{:^5s}{:>10s}{:3d}\".format('A<<1', bin(A<<1), A<<1))"
   ]
  },
  {
   "cell_type": "markdown",
   "metadata": {},
   "source": [
    "## 3.6 Python運算子優先等級"
   ]
  },
  {
   "cell_type": "markdown",
   "metadata": {},
   "source": [
    "![ops](pic/opPre.jpg)"
   ]
  },
  {
   "cell_type": "markdown",
   "metadata": {},
   "source": [
    "## 3.7 輸入函數 `input()`\n",
    "\n",
    "在設計應用程式時，經常需要使用者利用鍵盤(標準輸入裝置)輸入資料，以便程式繼續往下執行。Pyhton提供`input()`函數來讓使用者輸入資料，當程式執行到`input()`敘述，程式會暫停等待使用者輸入資料，使用者輸入完資料按下return鍵後，程式接受輸入的資料後在繼續執行。使用`input()`函數，使用者輸入的資料已字串的形式存入變數。`input()`函數有一個提示參數作為輸入提示用。\n",
    "\n",
    "> `input(\"提示字串\")`\n"
   ]
  },
  {
   "cell_type": "code",
   "execution_count": 29,
   "metadata": {},
   "outputs": [
    {
     "name": "stdout",
     "output_type": "stream",
     "text": [
      "輸入一個數20\n",
      "20 <class 'str'>\n"
     ]
    }
   ],
   "source": [
    "a = input(\"輸入一個數\") #結果為字串\n",
    "print(a, type(a))"
   ]
  },
  {
   "cell_type": "markdown",
   "metadata": {},
   "source": [
    "上例中，輸入數字`11`存入變數`A`，經由`type()`函數檢查｀A`的資料型別為字串(str)。"
   ]
  },
  {
   "cell_type": "markdown",
   "metadata": {
    "collapsed": true
   },
   "source": [
    "如果要將一個輸入整數儲存至變數`A`，可用`int()`函數將`input()`的結果轉換為整數後存入變數`A`。另一種方式，可以使用Python提供的`eval()`函數，eval函數的參數為一python的敘述，eval可以正確地解析python的敘述。\n",
    "\n",
    "> `int(\"整數\")` ：將字串轉換為整數\n",
    "\n",
    "> `float(\"浮點數\")` ：將字串轉換為浮點數\n",
    "\n",
    "> `eval(\"python敘述式\")` ：將敘述式解析"
   ]
  }
 ],
 "metadata": {
  "kernelspec": {
   "display_name": "Python 3",
   "language": "python",
   "name": "python3"
  },
  "language_info": {
   "codemirror_mode": {
    "name": "ipython",
    "version": 3
   },
   "file_extension": ".py",
   "mimetype": "text/x-python",
   "name": "python",
   "nbconvert_exporter": "python",
   "pygments_lexer": "ipython3",
   "version": "3.6.1"
  }
 },
 "nbformat": 4,
 "nbformat_minor": 2
}
