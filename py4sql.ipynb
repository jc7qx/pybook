{
 "cells": [
  {
   "attachments": {},
   "cell_type": "markdown",
   "id": "f9199b32",
   "metadata": {},
   "source": [
    "# SQLite3的Python API \n",
    "### * Python SQLite 是一個內建於 Python 標準函式庫中的輕量級資料庫管理系統\n",
    "### * SQLite 資料庫可是一個簡單的檔案\n",
    "### * SQLite 是 Python 標準函式庫的一部分，無需安裝任何額外的套件\n",
    "### * SQLite 適用於中小型應用程式，以及用於測試和原型開發"
   ]
  },
  {
   "cell_type": "markdown",
   "id": "20b1cea1",
   "metadata": {},
   "source": [
    "Jupyter Notebook 基於控制台的方式 (Console-based) ，延伸到一個可互動式計算，提供一個基於網頁式 (Web-based) 的方式來處理整個計算過程，包括開發、編輯、文件化及執行程式，並且可立即傳遞結果。"
   ]
  },
  {
   "cell_type": "markdown",
   "id": "ce0a4498",
   "metadata": {},
   "source": [
    "# python處理sqlite資料庫步驟"
   ]
  },
  {
   "cell_type": "markdown",
   "id": "902645a8",
   "metadata": {},
   "source": [
    "### 1.導入 python api for sqlite3"
   ]
  },
  {
   "cell_type": "code",
   "execution_count": null,
   "id": "70ab5fc8",
   "metadata": {},
   "outputs": [],
   "source": [
    "import sqlite3"
   ]
  },
  {
   "cell_type": "markdown",
   "id": "988147ed",
   "metadata": {},
   "source": [
    "### 2.建立資料庫檔案 學號.db"
   ]
  },
  {
   "cell_type": "code",
   "execution_count": null,
   "id": "98049a93",
   "metadata": {},
   "outputs": [],
   "source": [
    "conn = sqlite3.connect(database)\n",
    "# 檔案不存在則會建立，存在則會連線到現有檔案"
   ]
  },
  {
   "cell_type": "markdown",
   "id": "2f5972aa",
   "metadata": {},
   "source": [
    "### 3.建立遊標物件"
   ]
  },
  {
   "cell_type": "code",
   "execution_count": null,
   "id": "20895d5e",
   "metadata": {},
   "outputs": [],
   "source": []
  },
  {
   "attachments": {},
   "cell_type": "markdown",
   "id": "5b011d96",
   "metadata": {},
   "source": [
    "* 游標 (cursor) 是一個用於執行 SQL 指令並處理結果的物件（向資料庫發出指令，並取得資料庫的回應）\n",
    "* 負責執行 SQL 指令，並提供方法擷取和處理資料庫的查詢結果\n",
    "* 使 Python 程式碼與資料庫進行互動，進行資料的建立、讀取、更新和刪除等操作"
   ]
  },
  {
   "cell_type": "markdown",
   "id": "5a0423da",
   "metadata": {},
   "source": [
    "### 4.執行SQL 指令\n",
    "\n",
    "#### cursor.execute() 執行 SQL 指令，例如 CREATE TABLE、INSERT、SELECT、UPDATE 和 DELETE"
   ]
  },
  {
   "attachments": {},
   "cell_type": "markdown",
   "id": "d3d1152d",
   "metadata": {},
   "source": [
    "### 5.提交變更\n",
    "sql對資料庫產生作用"
   ]
  },
  {
   "cell_type": "code",
   "execution_count": null,
   "id": "a55385f0",
   "metadata": {},
   "outputs": [],
   "source": []
  },
  {
   "cell_type": "markdown",
   "id": "21624477",
   "metadata": {},
   "source": [
    "### 6.關閉資料庫連線"
   ]
  },
  {
   "cell_type": "code",
   "execution_count": null,
   "id": "a74c2c1d",
   "metadata": {},
   "outputs": [],
   "source": []
  },
  {
   "cell_type": "markdown",
   "id": "3b5e7939",
   "metadata": {},
   "source": [
    "# 資料庫基本運作"
   ]
  },
  {
   "cell_type": "markdown",
   "id": "e0b08799",
   "metadata": {},
   "source": [
    "### * Create 建立: CREATE TABLE, INSERT\n",
    "### * Read 讀取: SELECT\n",
    "### * Update 更新: UPDATE\n",
    "### * Delete 刪除: DELETE"
   ]
  },
  {
   "cell_type": "code",
   "execution_count": null,
   "id": "f12c8b10",
   "metadata": {},
   "outputs": [],
   "source": [
    "#建立資料庫(名稱: 學號.db)\n",
    "#建立cursor物件\n",
    "\n"
   ]
  },
  {
   "cell_type": "markdown",
   "id": "26f43b7d",
   "metadata": {},
   "source": [
    "## 建立資料庫與資料"
   ]
  },
  {
   "cell_type": "markdown",
   "id": "38ab207d",
   "metadata": {},
   "source": [
    "**商品資料表結構**\n",
    "|項目|資料類別|資料表屬性|\n",
    "|----|-------|---------|\n",
    "|商品編號(pNo)| TEXT | 主鍵 |\n",
    "|商品名稱(pName)| TEXT | not null|\n",
    "| 單價(unitPrice) | int | |\n",
    "|類別(category)| TEXT | ('Book', 'CD', 'DVD')|"
   ]
  },
  {
   "cell_type": "code",
   "execution_count": null,
   "id": "bf2bff99",
   "metadata": {},
   "outputs": [],
   "source": [
    "#建立商品資料表sql products \n"
   ]
  },
  {
   "cell_type": "code",
   "execution_count": null,
   "id": "f767ed76",
   "metadata": {},
   "outputs": [],
   "source": [
    "#執行sql建立資料表sql (cursor.execute())\n"
   ]
  },
  {
   "cell_type": "markdown",
   "id": "89293771",
   "metadata": {},
   "source": [
    "### 開啟sqlite3 學號.db\n",
    "檢查sqlite3是否已經存在products資料表"
   ]
  },
  {
   "cell_type": "markdown",
   "id": "88f27f78",
   "metadata": {},
   "source": [
    "## 插入資料\n",
    "`INSERT INTO products VALUES ('b30999', '資料庫理論與實務',650,'Book')`"
   ]
  },
  {
   "cell_type": "code",
   "execution_count": null,
   "id": "c3c486df",
   "metadata": {},
   "outputs": [],
   "source": [
    "# 利用 cursor.execute() 執行插入資料sql\n"
   ]
  },
  {
   "cell_type": "markdown",
   "id": "6313f8f2",
   "metadata": {},
   "source": [
    "### 檢查sqlite3資料庫中是否已有「資料庫理論與實務」?\n",
    ".mode column <br>\n",
    "SELECT * FROM products;"
   ]
  },
  {
   "cell_type": "code",
   "execution_count": null,
   "id": "4c1dcd43",
   "metadata": {},
   "outputs": [],
   "source": [
    "#記得要commit\n"
   ]
  },
  {
   "attachments": {},
   "cell_type": "markdown",
   "id": "34fe2e48",
   "metadata": {},
   "source": [
    "## 利用佔位符執行SQL，避免sql inject 安全\n",
    "\n",
    "* 在 Python 中使用 SQLite 時，為了安全地將變數值插入到 SQL 指令中，使用佔位符避免 SQL 注入攻擊，也能提升程式碼的可讀性\n",
    "* 問號 ? 作為佔位符，並將實際的值以元組 (tuple) 的形式傳遞給 execute() 方法\n",
    "* VALUES (?, ?, ?, ?) 要對應 ('d11222','任賢齊專輯三',400,'CD')，在python中稱為元組(Tuple)"
   ]
  },
  {
   "cell_type": "code",
   "execution_count": null,
   "id": "8d966a05",
   "metadata": {},
   "outputs": [],
   "source": [
    "cursor.execute(\"INSERT INTO 'products' VALUES (?, ?, ?, ?);\", ('d11222','任賢齊專輯三',400,'CD'))"
   ]
  },
  {
   "cell_type": "code",
   "execution_count": null,
   "id": "b60230b1",
   "metadata": {},
   "outputs": [],
   "source": [
    "#記得要commit\n"
   ]
  },
  {
   "cell_type": "markdown",
   "id": "e9ef4c00",
   "metadata": {},
   "source": [
    "### 學習如何批次輸入資料\n",
    "\n",
    "* 先將要插入的資料組織成Tuple\n",
    "* 利用清單(List)儲存要輸入的資料\n",
    "* 藉由佔位符運作批次輸入"
   ]
  },
  {
   "cell_type": "code",
   "execution_count": null,
   "id": "876a63e1",
   "metadata": {},
   "outputs": [],
   "source": [
    "#define list for data\n",
    "\n",
    "('b20666','OLAP 進階',500,'Book'),\n",
    "('b10234','管理資訊系統概論',600,'Book'),\n",
    "('b40555','系統分析理論與實務',550,'Book'),\n",
    "('d20777','蔡依林專輯二',450,'CD'),\n",
    "('b10321','MySQL資料庫實務',450,'Book'),\n",
    "('v01888','哈利波特:混血王子的背叛',600,'DVD'),\n",
    "('d03333','5566 專輯',450,'CD'),\n",
    "('b51111','電子商務理論與實務',700,'Book'),\n",
    "('v00111','英雄',400,'DVD')"
   ]
  },
  {
   "cell_type": "code",
   "execution_count": null,
   "id": "77dc0b52",
   "metadata": {},
   "outputs": [],
   "source": [
    "#讀取每一筆tuple\n"
   ]
  },
  {
   "cell_type": "markdown",
   "id": "f465a9b9",
   "metadata": {},
   "source": [
    "### 批次輸入資料"
   ]
  },
  {
   "cell_type": "code",
   "execution_count": null,
   "id": "33591800",
   "metadata": {},
   "outputs": [],
   "source": [
    "# read data write in sql with placeholders\n"
   ]
  },
  {
   "cell_type": "code",
   "execution_count": null,
   "id": "be989a92",
   "metadata": {},
   "outputs": [],
   "source": [
    "#記得要commit\n"
   ]
  },
  {
   "cell_type": "markdown",
   "id": "4493100f",
   "metadata": {},
   "source": [
    "### 讀取資料\n",
    "**SELECT** * \\[attributes, ...\\] **FROM** products where \\[conditions\\];"
   ]
  },
  {
   "cell_type": "code",
   "execution_count": null,
   "id": "4e43fb65",
   "metadata": {},
   "outputs": [],
   "source": [
    "# 利用 cursor.execute() 執行 SQL\n"
   ]
  },
  {
   "attachments": {},
   "cell_type": "markdown",
   "id": "c9f29c1a",
   "metadata": {},
   "source": [
    "### 在python應用程式中利用`fetchall`, `fetchmany(n)`, `fetchone()` 讀取 SELECT ... FROM 的結果\n",
    "* fetchone()：擷取下一行結果，如果沒有更多行則返回 None。\n",
    "* fetchmany(n)：擷取 n 行結果，將結果作為列表返回，如果沒有更多行則返回空列表。\n",
    "* fetchall()：擷取所有剩餘的行，將結果作為列表返回，如果沒有更多行則返回空列表。\n",
    "\n",
    "### fetchone\\[many, all\\]以List方式儲存結果\n"
   ]
  },
  {
   "cell_type": "code",
   "execution_count": null,
   "id": "fb48d15b",
   "metadata": {},
   "outputs": [],
   "source": [
    "#show results from SELECT and fetchmany(3)\n"
   ]
  },
  {
   "cell_type": "code",
   "execution_count": null,
   "id": "fd26b74f",
   "metadata": {},
   "outputs": [],
   "source": [
    "#show results from SELECT and fetchone()\n",
    "\n"
   ]
  },
  {
   "cell_type": "markdown",
   "id": "fd666aa6",
   "metadata": {},
   "source": [
    "### 擷取 result list 中的資訊\n",
    "例如，想要獲得「MySQL資料庫實務」商品的價格"
   ]
  },
  {
   "cell_type": "code",
   "execution_count": null,
   "id": "73dba3bb",
   "metadata": {},
   "outputs": [],
   "source": [
    "#執行讀取「MySQL資料庫實務」資料sql (using fetchone)\n",
    "\n",
    "#print out result\n",
    "\n",
    "#print out unitprice\n"
   ]
  },
  {
   "cell_type": "markdown",
   "id": "1d6210b5",
   "metadata": {},
   "source": [
    "## 更新資料\n",
    "UPDATE products<br>\n",
    "SET unitprice = 700<br>\n",
    "WHERE pName = 'MySQL資料庫實務'"
   ]
  },
  {
   "cell_type": "code",
   "execution_count": null,
   "id": "0ed1f550",
   "metadata": {},
   "outputs": [],
   "source": [
    "# define update_sql\n"
   ]
  },
  {
   "cell_type": "code",
   "execution_count": null,
   "id": "22f8fbbb",
   "metadata": {},
   "outputs": [],
   "source": [
    "#執行sql and commit\n"
   ]
  },
  {
   "cell_type": "code",
   "execution_count": null,
   "id": "439b47bd",
   "metadata": {},
   "outputs": [],
   "source": [
    "#run sql for MySQL資料庫實務\n",
    "\n",
    "#print out product name and unitprice\n"
   ]
  },
  {
   "cell_type": "markdown",
   "id": "eedbc6be",
   "metadata": {},
   "source": [
    "## 刪除資料\n",
    "\n",
    "DELETE FROM products\n",
    "WHERE pName = 'MySQL資料庫實務'"
   ]
  },
  {
   "cell_type": "code",
   "execution_count": null,
   "id": "c3bfe75b",
   "metadata": {},
   "outputs": [],
   "source": [
    "# define del_sql\n"
   ]
  },
  {
   "cell_type": "code",
   "execution_count": null,
   "id": "249e8d6a",
   "metadata": {},
   "outputs": [],
   "source": [
    "#執行sql and commit\n"
   ]
  },
  {
   "cell_type": "markdown",
   "id": "da280616",
   "metadata": {},
   "source": [
    "## 程式結構化"
   ]
  },
  {
   "cell_type": "code",
   "execution_count": null,
   "id": "040b6e14",
   "metadata": {},
   "outputs": [],
   "source": [
    "# define showdataAll function\n",
    "def showdataAll(conn, tblName):\n",
    "    with conn:\n",
    "        cursor = conn.cursor()\n",
    "        return cursor.execute(\"SELECT * FROM {} \".format(tblName)).fetchall() #format printing\n"
   ]
  },
  {
   "cell_type": "code",
   "execution_count": null,
   "id": "ffaa1627",
   "metadata": {},
   "outputs": [],
   "source": [
    "#run showdataAll() wiht for loop\n"
   ]
  },
  {
   "cell_type": "code",
   "execution_count": null,
   "id": "a25fe54f",
   "metadata": {},
   "outputs": [],
   "source": [
    "#define addData() function\n",
    "def addData(connection, data):\n",
    "    with connection:\n",
    "        cursor = connection.cursor()\n",
    "        cursor.execute(\"insert into products values(?,?,?,?)\", (data))"
   ]
  },
  {
   "cell_type": "code",
   "execution_count": null,
   "id": "fe9e79f4",
   "metadata": {},
   "outputs": [],
   "source": [
    "#demo run addData() ('b10323','台積電風雲',450,'Book')\n"
   ]
  },
  {
   "cell_type": "code",
   "execution_count": null,
   "id": "663b5b08",
   "metadata": {},
   "outputs": [],
   "source": [
    "#run showdataAll() with for loop\n"
   ]
  },
  {
   "attachments": {},
   "cell_type": "markdown",
   "id": "4b432846",
   "metadata": {},
   "source": [
    "* with conn: 會自動處理資料庫的交易 (transaction) 和資源釋放\n",
    "* 在執行插入資料的程式碼區塊時，任何 INSERT 或 UPDATE 等變更都會被暫存。\n",
    "* 如果區塊內沒有例外，當離開 with 區塊時，conn.__exit__() 會自動提交這些變更。\n",
    "* 如果區塊內發生任何例外，conn.__exit__() 會自動回滾所有未提交的變更，確保資料庫的一致性。"
   ]
  },
  {
   "cell_type": "markdown",
   "id": "325229fc",
   "metadata": {},
   "source": [
    "# 課堂練習"
   ]
  },
  {
   "cell_type": "markdown",
   "id": "1822609d",
   "metadata": {},
   "source": [
    "## 請執行以下幾件事\n",
    "1. 建立author資料表\n",
    "2. 插入所有author資料\n",
    "3. 將products與author自然合併\n",
    "4. 列印出「電子商務理論與實務」的作者"
   ]
  },
  {
   "cell_type": "markdown",
   "id": "3878d6ba",
   "metadata": {},
   "source": [
    "### author資料表結構"
   ]
  },
  {
   "cell_type": "markdown",
   "id": "3a23d6f7",
   "metadata": {},
   "source": [
    "|項目    | 資料型別     |\n",
    "|--------|-------------|\n",
    "|pNo     |  TEXT       |\n",
    "|name    |  TEXT       |"
   ]
  },
  {
   "cell_type": "markdown",
   "id": "10424015",
   "metadata": {},
   "source": [
    "### author資料"
   ]
  },
  {
   "cell_type": "code",
   "execution_count": null,
   "id": "32df5f23",
   "metadata": {},
   "outputs": [],
   "source": [
    "('b30999','Huang'),\n",
    "('b10234','Lin'),\n",
    "('d11222','William'),\n",
    "('b20666','Sandra'),\n",
    "('b40555','Wu'),\n",
    "('d20777','Jolin'),\n",
    "('v01888','J.K.'),\n",
    "('b51111','Lai'),\n",
    "('b51111','Huang'),\n",
    "('b51111','Lin'),\n",
    "('d03333','Jackey'),\n",
    "('d03333','David'),\n",
    "('d03333','Tom'),\n",
    "('b40555','Lin')"
   ]
  },
  {
   "cell_type": "markdown",
   "id": "e1570f44",
   "metadata": {},
   "source": [
    "**建立author資料表**"
   ]
  },
  {
   "cell_type": "code",
   "execution_count": null,
   "id": "527cb90c",
   "metadata": {},
   "outputs": [],
   "source": []
  },
  {
   "cell_type": "markdown",
   "id": "7d1c3a75",
   "metadata": {},
   "source": [
    "**插入作者資料**"
   ]
  },
  {
   "cell_type": "code",
   "execution_count": null,
   "id": "7c4b3b7d",
   "metadata": {},
   "outputs": [],
   "source": []
  },
  {
   "cell_type": "markdown",
   "id": "5e60fe42",
   "metadata": {},
   "source": [
    "**執行products與author自然合併**"
   ]
  },
  {
   "cell_type": "code",
   "execution_count": null,
   "id": "564c350a",
   "metadata": {},
   "outputs": [],
   "source": []
  },
  {
   "cell_type": "markdown",
   "id": "6f0ddbb4",
   "metadata": {},
   "source": [
    "### 讀取資料，印出「電子商務理論與實務」的作者及單價\n",
    "### 輸出格式:\n",
    "商品名稱: 電子商務理論與實務 <br>\n",
    "商品單價: xxx <br>\n",
    "商品作者: 作者1, 作者2, \\[作者3, ...\\] <br>"
   ]
  },
  {
   "cell_type": "code",
   "execution_count": null,
   "id": "5cf940a0",
   "metadata": {},
   "outputs": [],
   "source": []
  }
 ],
 "metadata": {
  "kernelspec": {
   "display_name": "Python 3 (ipykernel)",
   "language": "python",
   "name": "python3"
  },
  "language_info": {
   "codemirror_mode": {
    "name": "ipython",
    "version": 3
   },
   "file_extension": ".py",
   "mimetype": "text/x-python",
   "name": "python",
   "nbconvert_exporter": "python",
   "pygments_lexer": "ipython3",
   "version": "3.11.3"
  }
 },
 "nbformat": 4,
 "nbformat_minor": 5
}
