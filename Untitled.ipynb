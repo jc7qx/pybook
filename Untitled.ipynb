{
 "cells": [
  {
   "cell_type": "markdown",
   "metadata": {},
   "source": [
    "<h1><center> 正規表示式 (Regular Expression)</center></h1>"
   ]
  },
  {
   "cell_type": "markdown",
   "metadata": {},
   "source": [
    "正規表示式(Regular Expression)是由UNIX作業系統發展出的字串比對技巧，使用簡單、功能強大的符號來比對文件中複雜的字串，許多程式工具都支援通用表示法，如Python、Ruby、JavaScript 、Unix 指令：如 grep、sed、awk、ed、vi、emacs 等。"
   ]
  },
  {
   "cell_type": "markdown",
   "metadata": {},
   "source": [
    "正規表示式運作時，可以使用一串**特定字元**來定義「比對樣式」(pattern)，再依據此一樣式到一個文件中找出符合pattern的字串。例如我們想找出a字串中的所有數字，所以建立比對樣式/\\d/，a字串為 \"abcc38cdsabdddca49bcsldkjf\"，利用正規式findall()函式可以找出 a字串中所有的數字 ['38','49']。"
   ]
  },
  {
   "cell_type": "markdown",
   "metadata": {},
   "source": [
    "### 1.比對樣式元件"
   ]
  },
  {
   "cell_type": "markdown",
   "metadata": {},
   "source": [
    "|比對字元|說明|範例|\n",
    "|-------|-----|-----|\n",
    "|.  | 比對任何一個字元（但換行符號不算） | /a./ 可比對出 ab, ax, an... |\n",
    "|* | 比對前一個字元零次或更多次 |  |\n",
    "|? | 比對前一個字元零次或一次 |  |\n",
    "|+ | 比對前一個字元一次或更多次，等效於 {1,} ||\n",
    "|^ | 比對輸入列的起始位置 | |\n",
    "|$ | 比對輸入列的結尾位置  | |\n",
    "|(x) | 比對 x 並將符合的部分存入一個變數 \n",
    "\n",
    "\n"
   ]
  },
  {
   "cell_type": "markdown",
   "metadata": {},
   "source": []
  },
  {
   "cell_type": "code",
   "execution_count": null,
   "metadata": {},
   "outputs": [],
   "source": []
  }
 ],
 "metadata": {
  "kernelspec": {
   "display_name": "Python 3",
   "language": "python",
   "name": "python3"
  },
  "language_info": {
   "codemirror_mode": {
    "name": "ipython",
    "version": 3
   },
   "file_extension": ".py",
   "mimetype": "text/x-python",
   "name": "python",
   "nbconvert_exporter": "python",
   "pygments_lexer": "ipython3",
   "version": "3.7.3"
  }
 },
 "nbformat": 4,
 "nbformat_minor": 2
}
